{
  "nbformat": 4,
  "nbformat_minor": 0,
  "metadata": {
    "colab": {
      "name": "Exp_5.ipynb",
      "provenance": [],
      "collapsed_sections": [],
      "machine_shape": "hm",
      "mount_file_id": "1AB4L0s3g34PR5oiEvdvk3atfmbUIo0-_",
      "authorship_tag": "ABX9TyPaIfNrjK9jUnLJSBEUJhgG",
      "include_colab_link": true
    },
    "kernelspec": {
      "name": "python3",
      "display_name": "Python 3"
    },
    "language_info": {
      "name": "python"
    },
    "accelerator": "TPU",
    "gpuClass": "standard"
  },
  "cells": [
    {
      "cell_type": "markdown",
      "metadata": {
        "id": "view-in-github",
        "colab_type": "text"
      },
      "source": [
        "<a href=\"https://colab.research.google.com/github/Jingut/EX/blob/main/Exp_5.ipynb\" target=\"_parent\"><img src=\"https://colab.research.google.com/assets/colab-badge.svg\" alt=\"Open In Colab\"/></a>"
      ]
    },
    {
      "cell_type": "code",
      "source": [
        "'''%cd /content/drive/MyDrive/rock_scissor_paper/train\n",
        "\n",
        "!unzip -qq \"/content/drive/MyDrive/rock_scissor_paper/train/train.zip\"'''"
      ],
      "metadata": {
        "colab": {
          "base_uri": "https://localhost:8080/",
          "height": 54
        },
        "id": "r0xYkabyvfzO",
        "outputId": "5c4874e9-c53a-4571-9f90-4f07556eb19e"
      },
      "execution_count": null,
      "outputs": [
        {
          "output_type": "execute_result",
          "data": {
            "text/plain": [
              "'%cd /content/drive/MyDrive/rock_scissor_paper/train\\n\\n!unzip -qq \"/content/drive/MyDrive/rock_scissor_paper/train/train.zip\"'"
            ],
            "application/vnd.google.colaboratory.intrinsic+json": {
              "type": "string"
            }
          },
          "metadata": {},
          "execution_count": 2
        }
      ]
    },
    {
      "cell_type": "code",
      "execution_count": null,
      "metadata": {
        "colab": {
          "base_uri": "https://localhost:8080/"
        },
        "id": "DJiCjnr8acV_",
        "outputId": "9da82bfb-b3c1-4ab0-b403-b2aca9138089"
      },
      "outputs": [
        {
          "output_type": "stream",
          "name": "stdout",
          "text": [
            "2.8.2\n",
            "1.21.6\n"
          ]
        }
      ],
      "source": [
        "import tensorflow as tf\n",
        "import numpy as np\n",
        "import matplotlib.pyplot as plt\n",
        "from sklearn.model_selection import train_test_split\n",
        "print(tf.__version__)\n",
        "print(np.__version__)"
      ]
    },
    {
      "cell_type": "code",
      "source": [
        "from PIL import Image\n",
        "import glob\n",
        "import os\n",
        "\n",
        "print(\"PIL 라이브러리 import 완료!\")"
      ],
      "metadata": {
        "colab": {
          "base_uri": "https://localhost:8080/"
        },
        "id": "T_HvRk2FeMin",
        "outputId": "8360bb03-0650-4399-cad3-2126be574560"
      },
      "execution_count": null,
      "outputs": [
        {
          "output_type": "stream",
          "name": "stdout",
          "text": [
            "PIL 라이브러리 import 완료!\n"
          ]
        }
      ]
    },
    {
      "cell_type": "code",
      "source": [
        "def resize_images(img_path):\n",
        "\timages=glob.glob(img_path + \"/*.jpg\")  \n",
        "    \n",
        "\tprint(len(images), \" images to be resized.\")\n",
        "\n",
        "    # 파일마다 모두 28x28 사이즈로 바꾸어 저장합니다.\n",
        "\ttarget_size=(28,28)\n",
        "\tfor img in images:\n",
        "\t\told_img=Image.open(img)\n",
        "\t\tnew_img=old_img.resize(target_size,Image.ANTIALIAS)\n",
        "\t\tnew_img.save(img, \"JPEG\")\n",
        "    \n",
        "\tprint(len(images), \" images resized.\")\n",
        "\t\n",
        "# 가위 이미지가 저장된 디렉토리 아래의 모든 jpg 파일을 읽어들여서\n",
        "scissors_dir_path = '/content/drive/MyDrive/rock_scissor_paper/train/in/scissor2'\n",
        "resize_images(scissors_dir_path)\n",
        "\n",
        "rock_dir_path = '/content/drive/MyDrive/rock_scissor_paper/train/in/rock2'\n",
        "resize_images(rock_dir_path)\n",
        "\n",
        "paper_dir_path = '/content/drive/MyDrive/rock_scissor_paper/train/in/paper2'\n",
        "resize_images(paper_dir_path)\n",
        "\n",
        "test0_dir_path = '/content/drive/MyDrive/rock_scissor_paper/test/scissor'\n",
        "resize_images(test0_dir_path)\n",
        "\n",
        "test1_dir_path = '/content/drive/MyDrive/rock_scissor_paper/test/rock'\n",
        "resize_images(test1_dir_path)\n",
        "\n",
        "test2_dir_path = '/content/drive/MyDrive/rock_scissor_paper/test/paper'\n",
        "resize_images(test2_dir_path)\n"
      ],
      "metadata": {
        "colab": {
          "base_uri": "https://localhost:8080/"
        },
        "id": "dpJLKhXweTym",
        "outputId": "47ead55c-fc9b-4369-bf27-e93d5dc7aca1"
      },
      "execution_count": null,
      "outputs": [
        {
          "output_type": "stream",
          "name": "stdout",
          "text": [
            "901  images to be resized.\n",
            "901  images resized.\n",
            "1001  images to be resized.\n",
            "1001  images resized.\n",
            "1505  images to be resized.\n",
            "1505  images resized.\n",
            "300  images to be resized.\n",
            "300  images resized.\n",
            "300  images to be resized.\n",
            "300  images resized.\n",
            "300  images to be resized.\n",
            "300  images resized.\n"
          ]
        }
      ]
    },
    {
      "cell_type": "code",
      "source": [
        "import numpy as np\n",
        "\n",
        "def load_data(img_path, number_of_data=3407):  # 가위바위보 이미지 개수 총합에 주의하세요.\n",
        "    # 가위 : 0, 바위 : 1, 보 : 2\n",
        "    img_size=28\n",
        "    color=3\n",
        "    #이미지 데이터와 라벨(가위 : 0, 바위 : 1, 보 : 2) 데이터를 담을 행렬(matrix) 영역을 생성합니다.\n",
        "    imgs=np.zeros(number_of_data*img_size*img_size*color,dtype=np.int32).reshape(number_of_data,img_size,img_size,color)\n",
        "    labels=np.zeros(number_of_data,dtype=np.int32)\n",
        "\n",
        "    idx=0\n",
        "    for file in glob.iglob(img_path+'/scissor/*.jpg'):\n",
        "        img = np.array(Image.open(file),dtype=np.int32)\n",
        "        imgs[idx,:,:,:]=img    # 데이터 영역에 이미지 행렬을 복사\n",
        "        labels[idx]=0   # 가위 : 0\n",
        "        idx=idx+1\n",
        "\n",
        "    for file in glob.iglob(img_path+'/rock/*.jpg'):\n",
        "        img = np.array(Image.open(file),dtype=np.int32)\n",
        "        imgs[idx,:,:,:]=img    # 데이터 영역에 이미지 행렬을 복사\n",
        "        labels[idx]=1   # 바위 : 1\n",
        "        idx=idx+1  \n",
        "    \n",
        "    for file in glob.iglob(img_path+'/paper/*.jpg'):\n",
        "        img = np.array(Image.open(file),dtype=np.int32)\n",
        "        imgs[idx,:,:,:]=img    # 데이터 영역에 이미지 행렬을 복사\n",
        "        labels[idx]=2   # 보 : 2\n",
        "        idx=idx+1\n",
        "        \n",
        "    print(\"학습데이터(x_train)의 이미지 개수는\", idx,\"입니다.\")\n",
        "    return imgs, labels\n",
        "\n",
        "image_dir_path = '/content/drive/MyDrive/rock_scissor_paper/train'\n",
        "test_dir_path = '/content/drive/MyDrive/rock_scissor_paper/test'\n",
        "\n",
        "(x_train, y_train)=load_data(image_dir_path)\n",
        "(x_test, y_test)=load_data(test_dir_path)\n",
        "\n",
        "x_train_norm = x_train/255.0   # 입력은 0~1 사이의 값으로 정규화\n",
        "\n",
        "print(\"x_train shape: {}\".format(x_train.shape))\n",
        "print(\"y_train shape: {}\".format(y_train.shape))"
      ],
      "metadata": {
        "id": "aiNFfUbDh8P0",
        "colab": {
          "base_uri": "https://localhost:8080/"
        },
        "outputId": "77d1d70c-0100-4e79-b4e9-2ca467820a90"
      },
      "execution_count": null,
      "outputs": [
        {
          "output_type": "stream",
          "name": "stdout",
          "text": [
            "학습데이터(x_train)의 이미지 개수는 0 입니다.\n",
            "학습데이터(x_train)의 이미지 개수는 900 입니다.\n",
            "x_train shape: (3407, 28, 28, 3)\n",
            "y_train shape: (3407,)\n"
          ]
        }
      ]
    },
    {
      "cell_type": "code",
      "source": [
        "plt.imshow(x_train[0])\n",
        "print('라벨: ', y_train[0])"
      ],
      "metadata": {
        "id": "u1A4YUP1in6T",
        "colab": {
          "base_uri": "https://localhost:8080/",
          "height": 283
        },
        "outputId": "41400f51-512f-47de-8e5e-77fa44d902fd"
      },
      "execution_count": null,
      "outputs": [
        {
          "output_type": "stream",
          "name": "stdout",
          "text": [
            "라벨:  0\n"
          ]
        },
        {
          "output_type": "display_data",
          "data": {
            "text/plain": [
              "<Figure size 432x288 with 1 Axes>"
            ],
            "image/png": "[encoded data removed]"
          },
          "metadata": {
            "needs_background": "light"
          }
        }
      ]
    },
    {
      "cell_type": "markdown",
      "source": [
        "# 딥러닝 네트워크 설계하기"
      ],
      "metadata": {
        "id": "B_hr5od5jBcm"
      }
    },
    {
      "cell_type": "code",
      "source": [
        "import tensorflow as tf\n",
        "from tensorflow import keras\n",
        "import numpy as np\n",
        "\n",
        "model=keras.models.Sequential()\n",
        "model.add(keras.layers.Conv2D(16, (3,3), activation='relu', input_shape=(28,28,3))) \n",
        "model.add(keras.layers.MaxPool2D(2,2))\n",
        "model.add(keras.layers.Conv2D(32, (3,3), activation='relu'))\n",
        "model.add(keras.layers.MaxPooling2D((2,2)))\n",
        "model.add(keras.layers.Flatten()) \n",
        "model.add(keras.layers.Dense(64, activation='relu'))\n",
        "model.add(keras.layers.Dense(3, activation='softmax'))\n",
        "\n",
        "model.summary()\n",
        "model.compile(optimizer='adam',\n",
        "             loss='sparse_categorical_crossentropy',\n",
        "             metrics=['accuracy'])\n",
        "             \n",
        "model.summary()"
      ],
      "metadata": {
        "id": "6hHg9AUKjGmg",
        "colab": {
          "base_uri": "https://localhost:8080/"
        },
        "outputId": "6f45e3d6-236c-4b8f-be22-786f603070a7"
      },
      "execution_count": null,
      "outputs": [
        {
          "output_type": "stream",
          "name": "stdout",
          "text": [
            "Model: \"sequential\"\n",
            "_________________________________________________________________\n",
            " Layer (type)                Output Shape              Param #   \n",
            "=================================================================\n",
            " conv2d (Conv2D)             (None, 26, 26, 16)        448       \n",
            "                                                                 \n",
            " max_pooling2d (MaxPooling2D  (None, 13, 13, 16)       0         \n",
            " )                                                               \n",
            "                                                                 \n",
            " conv2d_1 (Conv2D)           (None, 11, 11, 32)        4640      \n",
            "                                                                 \n",
            " max_pooling2d_1 (MaxPooling  (None, 5, 5, 32)         0         \n",
            " 2D)                                                             \n",
            "                                                                 \n",
            " flatten (Flatten)           (None, 800)               0         \n",
            "                                                                 \n",
            " dense (Dense)               (None, 64)                51264     \n",
            "                                                                 \n",
            " dense_1 (Dense)             (None, 3)                 195       \n",
            "                                                                 \n",
            "=================================================================\n",
            "Total params: 56,547\n",
            "Trainable params: 56,547\n",
            "Non-trainable params: 0\n",
            "_________________________________________________________________\n",
            "Model: \"sequential\"\n",
            "_________________________________________________________________\n",
            " Layer (type)                Output Shape              Param #   \n",
            "=================================================================\n",
            " conv2d (Conv2D)             (None, 26, 26, 16)        448       \n",
            "                                                                 \n",
            " max_pooling2d (MaxPooling2D  (None, 13, 13, 16)       0         \n",
            " )                                                               \n",
            "                                                                 \n",
            " conv2d_1 (Conv2D)           (None, 11, 11, 32)        4640      \n",
            "                                                                 \n",
            " max_pooling2d_1 (MaxPooling  (None, 5, 5, 32)         0         \n",
            " 2D)                                                             \n",
            "                                                                 \n",
            " flatten (Flatten)           (None, 800)               0         \n",
            "                                                                 \n",
            " dense (Dense)               (None, 64)                51264     \n",
            "                                                                 \n",
            " dense_1 (Dense)             (None, 3)                 195       \n",
            "                                                                 \n",
            "=================================================================\n",
            "Total params: 56,547\n",
            "Trainable params: 56,547\n",
            "Non-trainable params: 0\n",
            "_________________________________________________________________\n"
          ]
        }
      ]
    },
    {
      "cell_type": "markdown",
      "source": [
        "#  모델훈련\n"
      ],
      "metadata": {
        "id": "LrzxkqsijePt"
      }
    },
    {
      "cell_type": "code",
      "source": [
        "model.fit(x_train, y_train, epochs=10)"
      ],
      "metadata": {
        "id": "R9yuhYQnjd6S",
        "colab": {
          "base_uri": "https://localhost:8080/"
        },
        "outputId": "46fa3ee9-b613-492f-d601-0431e76152d0"
      },
      "execution_count": null,
      "outputs": [
        {
          "output_type": "stream",
          "name": "stdout",
          "text": [
            "Epoch 1/10\n",
            "107/107 [==============================] - 1s 6ms/step - loss: 1.0305 - accuracy: 1.0000\n",
            "Epoch 2/10\n",
            "107/107 [==============================] - 1s 7ms/step - loss: 0.9021 - accuracy: 1.0000\n",
            "Epoch 3/10\n",
            "107/107 [==============================] - 1s 7ms/step - loss: 0.7887 - accuracy: 1.0000\n",
            "Epoch 4/10\n",
            "107/107 [==============================] - 1s 6ms/step - loss: 0.6895 - accuracy: 1.0000\n",
            "Epoch 5/10\n",
            "107/107 [==============================] - 1s 6ms/step - loss: 0.6034 - accuracy: 1.0000\n",
            "Epoch 6/10\n",
            "107/107 [==============================] - 1s 6ms/step - loss: 0.5289 - accuracy: 1.0000\n",
            "Epoch 7/10\n",
            "107/107 [==============================] - 1s 6ms/step - loss: 0.4649 - accuracy: 1.0000\n",
            "Epoch 8/10\n",
            "107/107 [==============================] - 1s 6ms/step - loss: 0.4099 - accuracy: 1.0000\n",
            "Epoch 9/10\n",
            "107/107 [==============================] - 1s 6ms/step - loss: 0.3626 - accuracy: 1.0000\n",
            "Epoch 10/10\n",
            "107/107 [==============================] - 1s 6ms/step - loss: 0.3219 - accuracy: 1.0000\n"
          ]
        },
        {
          "output_type": "execute_result",
          "data": {
            "text/plain": [
              "<keras.callbacks.History at 0x7f861a314590>"
            ]
          },
          "metadata": {},
          "execution_count": 8
        }
      ]
    },
    {
      "cell_type": "markdown",
      "source": [
        "# 모델시험"
      ],
      "metadata": {
        "id": "y3VPv4c_l7q5"
      }
    },
    {
      "cell_type": "code",
      "source": [
        "test_loss, test_accuracy = model.evaluate(x_test, y_test, verbose=2)\n",
        "print(\"test_loss: {} \".format(test_loss))\n",
        "print(\"test_accuracy: {}\".format(test_accuracy))"
      ],
      "metadata": {
        "id": "Lc-OrLOVjYAq",
        "colab": {
          "base_uri": "https://localhost:8080/"
        },
        "outputId": "4a25fd6d-deb2-4a19-e937-95e2a1f70e8b"
      },
      "execution_count": null,
      "outputs": [
        {
          "output_type": "stream",
          "name": "stdout",
          "text": [
            "107/107 - 0s - loss: 2.4926 - accuracy: 0.8301 - 462ms/epoch - 4ms/step\n",
            "test_loss: 2.4925761222839355 \n",
            "test_accuracy: 0.8300557732582092\n"
          ]
        }
      ]
    },
    {
      "cell_type": "code",
      "source": [
        "predicted_result = model.predict(x_test)  # model이 추론한 확률값. \n",
        "predicted_labels = np.argmax(predicted_result, axis=1)\n",
        "\n",
        "idx=0  #1번째 x_test를 살펴보자. \n",
        "print('model.predict() 결과 : ', predicted_result[idx])\n",
        "print('model이 추론한 가장 가능성이 높은 결과 : ', predicted_labels[idx])\n",
        "print('실제 데이터의 라벨 : ', y_test[idx])"
      ],
      "metadata": {
        "id": "rwFfXT-YZOSQ",
        "colab": {
          "base_uri": "https://localhost:8080/"
        },
        "outputId": "679bbff1-71a2-401e-f923-4114a89ba1a2"
      },
      "execution_count": null,
      "outputs": [
        {
          "output_type": "stream",
          "name": "stdout",
          "text": [
            "model.predict() 결과 :  [9.9999881e-01 1.1536849e-06 1.9377438e-08]\n",
            "model이 추론한 가장 가능성이 높은 결과 :  0\n",
            "실제 데이터의 라벨 :  0\n"
          ]
        }
      ]
    },
    {
      "cell_type": "code",
      "source": [
        "plt.imshow(x_test[idx],cmap=plt.cm.binary)\n",
        "plt.show()"
      ],
      "metadata": {
        "id": "m4Ro_A4jZYwL",
        "colab": {
          "base_uri": "https://localhost:8080/",
          "height": 265
        },
        "outputId": "7c2e8b11-0e41-49de-8bff-a1056ddbb83a"
      },
      "execution_count": null,
      "outputs": [
        {
          "output_type": "display_data",
          "data": {
            "text/plain": [
              "<Figure size 432x288 with 1 Axes>"
            ],
            "image/png": "[encoded data removed]"
          },
          "metadata": {
            "needs_background": "light"
          }
        }
      ]
    },
    {
      "cell_type": "code",
      "source": [
        "import random\n",
        "wrong_predict_list=[]\n",
        "for i, _ in enumerate(predicted_labels):\n",
        "    # i번째 test_labels과 y_test이 다른 경우만 모아 봅시다. \n",
        "    if predicted_labels[i] != y_test[i]:\n",
        "        wrong_predict_list.append(i)\n",
        "\n",
        "# wrong_predict_list 에서 랜덤하게 5개만 뽑아봅시다.\n",
        "samples = random.choices(population=wrong_predict_list, k=5)\n",
        "\n",
        "for n in samples:\n",
        "\n",
        "    print(\"예측확률분포: \" + str(predicted_result[n]))\n",
        "    print(\"라벨: \" + str(y_test[n]) + \", 예측결과: \" + str(predicted_labels[n]))\n",
        "    plt.imshow(x_test[n], cmap=plt.cm.binary)\n",
        "    plt.show()"
      ],
      "metadata": {
        "id": "YLOmmttMZbIN",
        "colab": {
          "base_uri": "https://localhost:8080/",
          "height": 1000
        },
        "outputId": "446aeb99-38d3-4474-f71c-0c171cee368b"
      },
      "execution_count": null,
      "outputs": [
        {
          "output_type": "stream",
          "name": "stdout",
          "text": [
            "예측확률분포: [9.9994779e-01 6.6028429e-07 5.1537092e-05]\n",
            "라벨: 2, 예측결과: 0\n"
          ]
        },
        {
          "output_type": "display_data",
          "data": {
            "text/plain": [
              "<Figure size 432x288 with 1 Axes>"
            ],
            "image/png": "[encoded data removed]"
          },
          "metadata": {
            "needs_background": "light"
          }
        },
        {
          "output_type": "stream",
          "name": "stdout",
          "text": [
            "예측확률분포: [9.9999917e-01 7.8062772e-07 6.4137984e-10]\n",
            "라벨: 2, 예측결과: 0\n"
          ]
        },
        {
          "output_type": "display_data",
          "data": {
            "text/plain": [
              "<Figure size 432x288 with 1 Axes>"
            ],
            "image/png": "[encoded data removed]"
          },
          "metadata": {
            "needs_background": "light"
          }
        },
        {
          "output_type": "stream",
          "name": "stdout",
          "text": [
            "예측확률분포: [9.999994e-01 8.587272e-08 5.346218e-07]\n",
            "라벨: 2, 예측결과: 0\n"
          ]
        },
        {
          "output_type": "display_data",
          "data": {
            "text/plain": [
              "<Figure size 432x288 with 1 Axes>"
            ],
            "image/png": "[encoded data removed]"
          },
          "metadata": {
            "needs_background": "light"
          }
        },
        {
          "output_type": "stream",
          "name": "stdout",
          "text": [
            "예측확률분포: [9.9988782e-01 1.1221046e-04 7.5276505e-09]\n",
            "라벨: 1, 예측결과: 0\n"
          ]
        },
        {
          "output_type": "display_data",
          "data": {
            "text/plain": [
              "<Figure size 432x288 with 1 Axes>"
            ],
            "image/png": "[encoded data removed]"
          },
          "metadata": {
            "needs_background": "light"
          }
        },
        {
          "output_type": "stream",
          "name": "stdout",
          "text": [
            "예측확률분포: [8.4279990e-01 1.5720008e-01 1.7533454e-08]\n",
            "라벨: 1, 예측결과: 0\n"
          ]
        },
        {
          "output_type": "display_data",
          "data": {
            "text/plain": [
              "<Figure size 432x288 with 1 Axes>"
            ],
            "image/png": "[encoded data removed]"
          },
          "metadata": {
            "needs_background": "light"
          }
        }
      ]
    },
    {
      "cell_type": "markdown",
      "source": [
        "# 결론\n",
        "이번 프로젝트에서는 직접 찍은 가위,바위,보 사진을 이용하여 가위바위보 분류기를 만들어보았습니다.\n",
        "입력이미지 조건은 28x28으로 해주었고 마지막에 랜덤하게 예측결과를 출력해보았을 때 예측결과가 0인 경우가 많았고 테스트 로스는 2.49\n",
        "테스트 정확도는 0.83으로 나왔습니다.\n"
      ],
      "metadata": {
        "id": "SJ2miTDGFNI1"
      }
    },
    {
      "cell_type": "markdown",
      "source": [
        "# 회고\n",
        "\n",
        "-이번 프로젝트에서 어려웠던 점\n",
        "당연하겠지만 제가 준비한 데이터셋만으로는 정확도가 충분히 나오지 않았어서 다른분들의 데이터셋도 가져오고 오버피팅을 피하기 위해 테스트 데이터셋도 조금씩 섞어가며 학습을 진행하였는데 데이터셋이 무조건 많은 것도 능사가 아니라고 느낀것이 어쩔 때에는 언더피팅이 되어버리고 어떤 때에는 오버피팅이 되는거 같아 적절한 지점을 찾는 것이 어려웠습니다.  \n",
        "\n",
        "---\n",
        "\n",
        "-프로젝트를 진행하면서 알게 된 점\n",
        "신경망의 하이퍼 파라미터를 조절 해보는 방법도 알게되었고 학습데이터셋과 라벨데이터셋을 어떤 비율로 설정하먼 정확도에 좋은 영향을 주는지 알 수 있었습니다.\n",
        "\n",
        "---\n",
        "\n",
        "-루브릭 지표달성을 위해 노력한것\n",
        "다른 분들의 데이터셋을 추가로 확장하고 이것도 부족하다 생각하여 제가 각각 300장씩 추가로 더 찍어서 학습데이터에 추가하였습니다. 그리고 테스트 데이터셋을 조금 더 세분화 하기 위해 학습데이터셋과 겹치지 않고 다양하게 배치해보았습니다.\n",
        "\n",
        "두 번째로 신경망부분의 하이퍼 파라미터를 직접 조절하여 특징을 한번에 얼마나 작은부분에서부터 큰부분의 특징으로 잡아낼지 조절해보았으나 이 프로젝트에서는 큰 효과가 없었습니다.\n",
        "\n",
        "\n",
        "---\n",
        "\n",
        "\n",
        "-자기다짐\n",
        "\n",
        "다음에는 직접 신경망의 층을 추가하여 정확도를 올려보고 싶습니다\n",
        "\n",
        "가위바위보 세가지 클래스만이 아닌 더 다양한 라벨 값을 가지는 프로젝트를 따로 진행해보고 싶습니다."
      ],
      "metadata": {
        "id": "evF4ZVBHFO-T"
      }
    }
  ]
}