{
  "nbformat": 4,
  "nbformat_minor": 0,
  "metadata": {
    "colab": {
      "name": "Exp_8.ipynb",
      "provenance": [],
      "collapsed_sections": [],
      "machine_shape": "hm",
      "mount_file_id": "1B8-ZmiirF41kdWhqrvFQ8i1BA8zuT39P",
      "authorship_tag": "ABX9TyNn8qxL3ZSCO9eeTUYcWVev",
      "include_colab_link": true
    },
    "kernelspec": {
      "name": "python3",
      "display_name": "Python 3"
    },
    "language_info": {
      "name": "python"
    },
    "gpuClass": "standard",
    "accelerator": "GPU"
  },
  "cells": [
    {
      "cell_type": "markdown",
      "metadata": {
        "id": "view-in-github",
        "colab_type": "text"
      },
      "source": [
        "<a href=\"https://colab.research.google.com/github/Jingut/EX/blob/main/Exp_8.ipynb\" target=\"_parent\"><img src=\"https://colab.research.google.com/assets/colab-badge.svg\" alt=\"Open In Colab\"/></a>"
      ]
    },
    {
      "cell_type": "code",
      "source": [
        "!apt-get update"
      ],
      "metadata": {
        "colab": {
          "base_uri": "https://localhost:8080/"
        },
        "id": "OVRvYyBdr884",
        "outputId": "4c3a795f-241f-4f2a-ecdf-f9a6af40e161"
      },
      "execution_count": 1,
      "outputs": [
        {
          "output_type": "stream",
          "name": "stdout",
          "text": [
            "\r0% [Working]\r            \rHit:1 http://ppa.launchpad.net/c2d4u.team/c2d4u4.0+/ubuntu bionic InRelease\n",
            "\r0% [Connecting to archive.ubuntu.com (185.125.190.39)] [Connecting to security.\r0% [1 InRelease gpgv 15.9 kB] [Waiting for headers] [Connecting to security.ubu\r                                                                               \rHit:2 https://cloud.r-project.org/bin/linux/ubuntu bionic-cran40/ InRelease\n",
            "\r0% [1 InRelease gpgv 15.9 kB] [Waiting for headers] [Connecting to security.ubu\r                                                                               \rHit:3 http://archive.ubuntu.com/ubuntu bionic InRelease\n",
            "\r0% [1 InRelease gpgv 15.9 kB] [Connecting to security.ubuntu.com] [Waiting for \r                                                                               \rHit:4 http://ppa.launchpad.net/cran/libgit2/ubuntu bionic InRelease\n",
            "\r0% [1 InRelease gpgv 15.9 kB] [Waiting for headers] [Connecting to security.ubu\r                                                                               \rHit:5 http://archive.ubuntu.com/ubuntu bionic-updates InRelease\n",
            "\r0% [1 InRelease gpgv 15.9 kB] [Connecting to security.ubuntu.com (185.125.190.3\r                                                                               \rHit:6 http://archive.ubuntu.com/ubuntu bionic-backports InRelease\n",
            "\r0% [1 InRelease gpgv 15.9 kB] [Waiting for headers] [Waiting for headers] [Wait\r                                                                               \rHit:7 http://security.ubuntu.com/ubuntu bionic-security InRelease\n",
            "\r                                                                               \r0% [1 InRelease gpgv 15.9 kB] [Waiting for headers] [Waiting for headers]\r                                                                         \rHit:8 http://ppa.launchpad.net/deadsnakes/ppa/ubuntu bionic InRelease\n",
            "Hit:9 http://ppa.launchpad.net/graphics-drivers/ppa/ubuntu bionic InRelease\n",
            "Ign:10 https://developer.download.nvidia.com/compute/machine-learning/repos/ubuntu1804/x86_64  InRelease\n",
            "Hit:11 https://developer.download.nvidia.com/compute/cuda/repos/ubuntu1804/x86_64  InRelease\n",
            "Hit:12 https://developer.download.nvidia.com/compute/machine-learning/repos/ubuntu1804/x86_64  Release\n",
            "Reading package lists... Done\n"
          ]
        }
      ]
    },
    {
      "cell_type": "code",
      "source": [
        "!apt-get install g++ openjdk-8-jdk "
      ],
      "metadata": {
        "colab": {
          "base_uri": "https://localhost:8080/"
        },
        "id": "WcJ-QZHBr1Qk",
        "outputId": "3e8cfc05-2f98-4b9e-e35a-7b252885b47f"
      },
      "execution_count": 2,
      "outputs": [
        {
          "output_type": "stream",
          "name": "stdout",
          "text": [
            "Reading package lists... Done\n",
            "Building dependency tree       \n",
            "Reading state information... Done\n",
            "g++ is already the newest version (4:7.4.0-1ubuntu2.3).\n",
            "openjdk-8-jdk is already the newest version (8u342-b07-0ubuntu1~18.04).\n",
            "The following package was automatically installed and is no longer required:\n",
            "  libnvidia-common-460\n",
            "Use 'apt autoremove' to remove it.\n",
            "0 upgraded, 0 newly installed, 0 to remove and 21 not upgraded.\n"
          ]
        }
      ]
    },
    {
      "cell_type": "code",
      "source": [
        "!pip3 install konlpy JPype1-py3"
      ],
      "metadata": {
        "colab": {
          "base_uri": "https://localhost:8080/"
        },
        "id": "qEVg2aF9r7aQ",
        "outputId": "504987d5-92ef-4bd7-e949-75bb3792464f"
      },
      "execution_count": 3,
      "outputs": [
        {
          "output_type": "stream",
          "name": "stdout",
          "text": [
            "Looking in indexes: https://pypi.org/simple, https://us-python.pkg.dev/colab-wheels/public/simple/\n",
            "Requirement already satisfied: konlpy in /usr/local/lib/python3.7/dist-packages (0.6.0)\n",
            "Requirement already satisfied: JPype1-py3 in /usr/local/lib/python3.7/dist-packages (0.5.5.4)\n",
            "Requirement already satisfied: JPype1>=0.7.0 in /usr/local/lib/python3.7/dist-packages (from konlpy) (1.4.0)\n",
            "Requirement already satisfied: numpy>=1.6 in /usr/local/lib/python3.7/dist-packages (from konlpy) (1.21.6)\n",
            "Requirement already satisfied: lxml>=4.1.0 in /usr/local/lib/python3.7/dist-packages (from konlpy) (4.9.1)\n",
            "Requirement already satisfied: typing-extensions in /usr/local/lib/python3.7/dist-packages (from JPype1>=0.7.0->konlpy) (4.1.1)\n"
          ]
        }
      ]
    },
    {
      "cell_type": "code",
      "source": [
        "!bash <(curl -s https://raw.githubusercontent.com/konlpy/konlpy/master/scripts/mecab.sh)"
      ],
      "metadata": {
        "colab": {
          "base_uri": "https://localhost:8080/"
        },
        "id": "jwSsusznsF9O",
        "outputId": "aaf39c44-f9c3-4cc9-a85a-f348adb1cdb7"
      },
      "execution_count": 4,
      "outputs": [
        {
          "output_type": "stream",
          "name": "stdout",
          "text": [
            "mecab-ko is already installed\n",
            "mecab-ko-dic is already installed\n",
            "mecab-python is already installed\n",
            "Done.\n"
          ]
        }
      ]
    },
    {
      "cell_type": "markdown",
      "source": [
        "# 프로젝트 : 네이버 영화리뷰 감성분석 도전하기\n"
      ],
      "metadata": {
        "id": "cs3xK_W_uO8z"
      }
    },
    {
      "cell_type": "markdown",
      "source": [
        "# 라이브러리 버전을 확인"
      ],
      "metadata": {
        "id": "0CE5Jl3wuUiI"
      }
    },
    {
      "cell_type": "code",
      "source": [
        "import pandas\n",
        "import konlpy\n",
        "import gensim\n",
        "import numpy as np\n",
        "import tensorflow as tf\n",
        "import os\n",
        "\n",
        "print(pandas.__version__)\n",
        "print(konlpy.__version__)\n",
        "print(gensim.__version__)"
      ],
      "metadata": {
        "colab": {
          "base_uri": "https://localhost:8080/"
        },
        "id": "wUgOPt2erl7f",
        "outputId": "a4009d27-5d5a-47ad-97c6-b59a62fd5471"
      },
      "execution_count": 5,
      "outputs": [
        {
          "output_type": "stream",
          "name": "stdout",
          "text": [
            "1.3.5\n",
            "0.6.0\n",
            "3.6.0\n"
          ]
        }
      ]
    },
    {
      "cell_type": "code",
      "source": [
        "!git clone https://github.com/e9t/nsmc"
      ],
      "metadata": {
        "colab": {
          "base_uri": "https://localhost:8080/"
        },
        "id": "sUjj7VxYtXFI",
        "outputId": "d9ad1e36-3f8e-4886-b99e-b2a0dc8d0d8b"
      },
      "execution_count": 6,
      "outputs": [
        {
          "output_type": "stream",
          "name": "stdout",
          "text": [
            "fatal: destination path 'nsmc' already exists and is not an empty directory.\n"
          ]
        }
      ]
    },
    {
      "cell_type": "code",
      "source": [
        "!pip install tensorflow==2.8\n",
        "!apt install --allow-change-held-packages libcudnn8=8.1.0.77-1+cuda11.2\n",
        "# 코랩 GPU로 학습이 안될 때 설치해야 할것"
      ],
      "metadata": {
        "colab": {
          "base_uri": "https://localhost:8080/"
        },
        "id": "J7jFvbxqd1JV",
        "outputId": "7c818e12-1694-486f-f74c-e284a7cb3698"
      },
      "execution_count": 7,
      "outputs": [
        {
          "output_type": "stream",
          "name": "stdout",
          "text": [
            "Looking in indexes: https://pypi.org/simple, https://us-python.pkg.dev/colab-wheels/public/simple/\n",
            "Requirement already satisfied: tensorflow==2.8 in /usr/local/lib/python3.7/dist-packages (2.8.0+zzzcolab20220506162203)\n",
            "Requirement already satisfied: opt-einsum>=2.3.2 in /usr/local/lib/python3.7/dist-packages (from tensorflow==2.8) (3.3.0)\n",
            "Requirement already satisfied: grpcio<2.0,>=1.24.3 in /usr/local/lib/python3.7/dist-packages (from tensorflow==2.8) (1.47.0)\n",
            "Requirement already satisfied: typing-extensions>=3.6.6 in /usr/local/lib/python3.7/dist-packages (from tensorflow==2.8) (4.1.1)\n",
            "Requirement already satisfied: gast>=0.2.1 in /usr/local/lib/python3.7/dist-packages (from tensorflow==2.8) (0.4.0)\n",
            "Requirement already satisfied: h5py>=2.9.0 in /usr/local/lib/python3.7/dist-packages (from tensorflow==2.8) (3.1.0)\n",
            "Requirement already satisfied: tensorboard<2.9,>=2.8 in /usr/local/lib/python3.7/dist-packages (from tensorflow==2.8) (2.8.0)\n",
            "Requirement already satisfied: wrapt>=1.11.0 in /usr/local/lib/python3.7/dist-packages (from tensorflow==2.8) (1.14.1)\n",
            "Requirement already satisfied: absl-py>=0.4.0 in /usr/local/lib/python3.7/dist-packages (from tensorflow==2.8) (1.2.0)\n",
            "Requirement already satisfied: tensorflow-io-gcs-filesystem>=0.23.1 in /usr/local/lib/python3.7/dist-packages (from tensorflow==2.8) (0.26.0)\n",
            "Requirement already satisfied: astunparse>=1.6.0 in /usr/local/lib/python3.7/dist-packages (from tensorflow==2.8) (1.6.3)\n",
            "Requirement already satisfied: flatbuffers>=1.12 in /usr/local/lib/python3.7/dist-packages (from tensorflow==2.8) (1.12)\n",
            "Requirement already satisfied: google-pasta>=0.1.1 in /usr/local/lib/python3.7/dist-packages (from tensorflow==2.8) (0.2.0)\n",
            "Requirement already satisfied: numpy>=1.20 in /usr/local/lib/python3.7/dist-packages (from tensorflow==2.8) (1.21.6)\n",
            "Requirement already satisfied: six>=1.12.0 in /usr/local/lib/python3.7/dist-packages (from tensorflow==2.8) (1.15.0)\n",
            "Requirement already satisfied: setuptools in /usr/local/lib/python3.7/dist-packages (from tensorflow==2.8) (57.4.0)\n",
            "Requirement already satisfied: termcolor>=1.1.0 in /usr/local/lib/python3.7/dist-packages (from tensorflow==2.8) (1.1.0)\n",
            "Requirement already satisfied: tf-estimator-nightly==2.8.0.dev2021122109 in /usr/local/lib/python3.7/dist-packages (from tensorflow==2.8) (2.8.0.dev2021122109)\n",
            "Requirement already satisfied: protobuf>=3.9.2 in /usr/local/lib/python3.7/dist-packages (from tensorflow==2.8) (3.17.3)\n",
            "Requirement already satisfied: keras<2.9,>=2.8.0rc0 in /usr/local/lib/python3.7/dist-packages (from tensorflow==2.8) (2.8.0)\n",
            "Requirement already satisfied: keras-preprocessing>=1.1.1 in /usr/local/lib/python3.7/dist-packages (from tensorflow==2.8) (1.1.2)\n",
            "Requirement already satisfied: libclang>=9.0.1 in /usr/local/lib/python3.7/dist-packages (from tensorflow==2.8) (14.0.6)\n",
            "Requirement already satisfied: wheel<1.0,>=0.23.0 in /usr/local/lib/python3.7/dist-packages (from astunparse>=1.6.0->tensorflow==2.8) (0.37.1)\n",
            "Requirement already satisfied: cached-property in /usr/local/lib/python3.7/dist-packages (from h5py>=2.9.0->tensorflow==2.8) (1.5.2)\n",
            "Requirement already satisfied: google-auth-oauthlib<0.5,>=0.4.1 in /usr/local/lib/python3.7/dist-packages (from tensorboard<2.9,>=2.8->tensorflow==2.8) (0.4.6)\n",
            "Requirement already satisfied: requests<3,>=2.21.0 in /usr/local/lib/python3.7/dist-packages (from tensorboard<2.9,>=2.8->tensorflow==2.8) (2.23.0)\n",
            "Requirement already satisfied: werkzeug>=0.11.15 in /usr/local/lib/python3.7/dist-packages (from tensorboard<2.9,>=2.8->tensorflow==2.8) (1.0.1)\n",
            "Requirement already satisfied: markdown>=2.6.8 in /usr/local/lib/python3.7/dist-packages (from tensorboard<2.9,>=2.8->tensorflow==2.8) (3.4.1)\n",
            "Requirement already satisfied: google-auth<3,>=1.6.3 in /usr/local/lib/python3.7/dist-packages (from tensorboard<2.9,>=2.8->tensorflow==2.8) (1.35.0)\n",
            "Requirement already satisfied: tensorboard-data-server<0.7.0,>=0.6.0 in /usr/local/lib/python3.7/dist-packages (from tensorboard<2.9,>=2.8->tensorflow==2.8) (0.6.1)\n",
            "Requirement already satisfied: tensorboard-plugin-wit>=1.6.0 in /usr/local/lib/python3.7/dist-packages (from tensorboard<2.9,>=2.8->tensorflow==2.8) (1.8.1)\n",
            "Requirement already satisfied: pyasn1-modules>=0.2.1 in /usr/local/lib/python3.7/dist-packages (from google-auth<3,>=1.6.3->tensorboard<2.9,>=2.8->tensorflow==2.8) (0.2.8)\n",
            "Requirement already satisfied: cachetools<5.0,>=2.0.0 in /usr/local/lib/python3.7/dist-packages (from google-auth<3,>=1.6.3->tensorboard<2.9,>=2.8->tensorflow==2.8) (4.2.4)\n",
            "Requirement already satisfied: rsa<5,>=3.1.4 in /usr/local/lib/python3.7/dist-packages (from google-auth<3,>=1.6.3->tensorboard<2.9,>=2.8->tensorflow==2.8) (4.9)\n",
            "Requirement already satisfied: requests-oauthlib>=0.7.0 in /usr/local/lib/python3.7/dist-packages (from google-auth-oauthlib<0.5,>=0.4.1->tensorboard<2.9,>=2.8->tensorflow==2.8) (1.3.1)\n",
            "Requirement already satisfied: importlib-metadata>=4.4 in /usr/local/lib/python3.7/dist-packages (from markdown>=2.6.8->tensorboard<2.9,>=2.8->tensorflow==2.8) (4.12.0)\n",
            "Requirement already satisfied: zipp>=0.5 in /usr/local/lib/python3.7/dist-packages (from importlib-metadata>=4.4->markdown>=2.6.8->tensorboard<2.9,>=2.8->tensorflow==2.8) (3.8.1)\n",
            "Requirement already satisfied: pyasn1<0.5.0,>=0.4.6 in /usr/local/lib/python3.7/dist-packages (from pyasn1-modules>=0.2.1->google-auth<3,>=1.6.3->tensorboard<2.9,>=2.8->tensorflow==2.8) (0.4.8)\n",
            "Requirement already satisfied: idna<3,>=2.5 in /usr/local/lib/python3.7/dist-packages (from requests<3,>=2.21.0->tensorboard<2.9,>=2.8->tensorflow==2.8) (2.10)\n",
            "Requirement already satisfied: certifi>=2017.4.17 in /usr/local/lib/python3.7/dist-packages (from requests<3,>=2.21.0->tensorboard<2.9,>=2.8->tensorflow==2.8) (2022.6.15)\n",
            "Requirement already satisfied: urllib3!=1.25.0,!=1.25.1,<1.26,>=1.21.1 in /usr/local/lib/python3.7/dist-packages (from requests<3,>=2.21.0->tensorboard<2.9,>=2.8->tensorflow==2.8) (1.24.3)\n",
            "Requirement already satisfied: chardet<4,>=3.0.2 in /usr/local/lib/python3.7/dist-packages (from requests<3,>=2.21.0->tensorboard<2.9,>=2.8->tensorflow==2.8) (3.0.4)\n",
            "Requirement already satisfied: oauthlib>=3.0.0 in /usr/local/lib/python3.7/dist-packages (from requests-oauthlib>=0.7.0->google-auth-oauthlib<0.5,>=0.4.1->tensorboard<2.9,>=2.8->tensorflow==2.8) (3.2.0)\n",
            "Reading package lists... Done\n",
            "Building dependency tree       \n",
            "Reading state information... Done\n",
            "libcudnn8 is already the newest version (8.1.0.77-1+cuda11.2).\n",
            "The following package was automatically installed and is no longer required:\n",
            "  libnvidia-common-460\n",
            "Use 'apt autoremove' to remove it.\n",
            "0 upgraded, 0 newly installed, 0 to remove and 20 not upgraded.\n"
          ]
        }
      ]
    },
    {
      "cell_type": "markdown",
      "source": [
        "#1) 데이터 준비와 확인"
      ],
      "metadata": {
        "id": "t3iRsr10uXG3"
      }
    },
    {
      "cell_type": "code",
      "source": [
        "import pandas as pd\n",
        "\n",
        "# 데이터를 읽어봅시다. \n",
        "train_data = pd.read_table('/content/nsmc/ratings_train.txt')\n",
        "test_data = pd.read_table('/content/nsmc/ratings_test.txt')\n",
        "\n",
        "train_data.head()"
      ],
      "metadata": {
        "colab": {
          "base_uri": "https://localhost:8080/",
          "height": 206
        },
        "id": "aQUBvaF-rl48",
        "outputId": "c75f9261-e628-44f0-adf5-67886c45196c"
      },
      "execution_count": 8,
      "outputs": [
        {
          "output_type": "execute_result",
          "data": {
            "text/plain": [
              "         id                                           document  label\n",
              "0   9976970                                아 더빙.. 진짜 짜증나네요 목소리      0\n",
              "1   3819312                  흠...포스터보고 초딩영화줄....오버연기조차 가볍지 않구나      1\n",
              "2  10265843                                  너무재밓었다그래서보는것을추천한다      0\n",
              "3   9045019                      교도소 이야기구먼 ..솔직히 재미는 없다..평점 조정      0\n",
              "4   6483659  사이몬페그의 익살스런 연기가 돋보였던 영화!스파이더맨에서 늙어보이기만 했던 커스틴 ...      1"
            ],
            "text/html": [
              "\n",
              "  <div id=\"df-f9c64f4a-6b65-408b-b280-824a9d64e977\">\n",
              "    <div class=\"colab-df-container\">\n",
              "      <div>\n",
              "<style scoped>\n",
              "    .dataframe tbody tr th:only-of-type {\n",
              "        vertical-align: middle;\n",
              "    }\n",
              "\n",
              "    .dataframe tbody tr th {\n",
              "        vertical-align: top;\n",
              "    }\n",
              "\n",
              "    .dataframe thead th {\n",
              "        text-align: right;\n",
              "    }\n",
              "</style>\n",
              "<table border=\"1\" class=\"dataframe\">\n",
              "  <thead>\n",
              "    <tr style=\"text-align: right;\">\n",
              "      <th></th>\n",
              "      <th>id</th>\n",
              "      <th>document</th>\n",
              "      <th>label</th>\n",
              "    </tr>\n",
              "  </thead>\n",
              "  <tbody>\n",
              "    <tr>\n",
              "      <th>0</th>\n",
              "      <td>9976970</td>\n",
              "      <td>아 더빙.. 진짜 짜증나네요 목소리</td>\n",
              "      <td>0</td>\n",
              "    </tr>\n",
              "    <tr>\n",
              "      <th>1</th>\n",
              "      <td>3819312</td>\n",
              "      <td>흠...포스터보고 초딩영화줄....오버연기조차 가볍지 않구나</td>\n",
              "      <td>1</td>\n",
              "    </tr>\n",
              "    <tr>\n",
              "      <th>2</th>\n",
              "      <td>10265843</td>\n",
              "      <td>너무재밓었다그래서보는것을추천한다</td>\n",
              "      <td>0</td>\n",
              "    </tr>\n",
              "    <tr>\n",
              "      <th>3</th>\n",
              "      <td>9045019</td>\n",
              "      <td>교도소 이야기구먼 ..솔직히 재미는 없다..평점 조정</td>\n",
              "      <td>0</td>\n",
              "    </tr>\n",
              "    <tr>\n",
              "      <th>4</th>\n",
              "      <td>6483659</td>\n",
              "      <td>사이몬페그의 익살스런 연기가 돋보였던 영화!스파이더맨에서 늙어보이기만 했던 커스틴 ...</td>\n",
              "      <td>1</td>\n",
              "    </tr>\n",
              "  </tbody>\n",
              "</table>\n",
              "</div>\n",
              "      <button class=\"colab-df-convert\" onclick=\"convertToInteractive('df-f9c64f4a-6b65-408b-b280-824a9d64e977')\"\n",
              "              title=\"Convert this dataframe to an interactive table.\"\n",
              "              style=\"display:none;\">\n",
              "        \n",
              "  <svg xmlns=\"http://www.w3.org/2000/svg\" height=\"24px\"viewBox=\"0 0 24 24\"\n",
              "       width=\"24px\">\n",
              "    <path d=\"M0 0h24v24H0V0z\" fill=\"none\"/>\n",
              "    <path d=\"M18.56 5.44l.94 2.06.94-2.06 2.06-.94-2.06-.94-.94-2.06-.94 2.06-2.06.94zm-11 1L8.5 8.5l.94-2.06 2.06-.94-2.06-.94L8.5 2.5l-.94 2.06-2.06.94zm10 10l.94 2.06.94-2.06 2.06-.94-2.06-.94-.94-2.06-.94 2.06-2.06.94z\"/><path d=\"M17.41 7.96l-1.37-1.37c-.4-.4-.92-.59-1.43-.59-.52 0-1.04.2-1.43.59L10.3 9.45l-7.72 7.72c-.78.78-.78 2.05 0 2.83L4 21.41c.39.39.9.59 1.41.59.51 0 1.02-.2 1.41-.59l7.78-7.78 2.81-2.81c.8-.78.8-2.07 0-2.86zM5.41 20L4 18.59l7.72-7.72 1.47 1.35L5.41 20z\"/>\n",
              "  </svg>\n",
              "      </button>\n",
              "      \n",
              "  <style>\n",
              "    .colab-df-container {\n",
              "      display:flex;\n",
              "      flex-wrap:wrap;\n",
              "      gap: 12px;\n",
              "    }\n",
              "\n",
              "    .colab-df-convert {\n",
              "      background-color: #E8F0FE;\n",
              "      border: none;\n",
              "      border-radius: 50%;\n",
              "      cursor: pointer;\n",
              "      display: none;\n",
              "      fill: #1967D2;\n",
              "      height: 32px;\n",
              "      padding: 0 0 0 0;\n",
              "      width: 32px;\n",
              "    }\n",
              "\n",
              "    .colab-df-convert:hover {\n",
              "      background-color: #E2EBFA;\n",
              "      box-shadow: 0px 1px 2px rgba(60, 64, 67, 0.3), 0px 1px 3px 1px rgba(60, 64, 67, 0.15);\n",
              "      fill: #174EA6;\n",
              "    }\n",
              "\n",
              "    [theme=dark] .colab-df-convert {\n",
              "      background-color: #3B4455;\n",
              "      fill: #D2E3FC;\n",
              "    }\n",
              "\n",
              "    [theme=dark] .colab-df-convert:hover {\n",
              "      background-color: #434B5C;\n",
              "      box-shadow: 0px 1px 3px 1px rgba(0, 0, 0, 0.15);\n",
              "      filter: drop-shadow(0px 1px 2px rgba(0, 0, 0, 0.3));\n",
              "      fill: #FFFFFF;\n",
              "    }\n",
              "  </style>\n",
              "\n",
              "      <script>\n",
              "        const buttonEl =\n",
              "          document.querySelector('#df-f9c64f4a-6b65-408b-b280-824a9d64e977 button.colab-df-convert');\n",
              "        buttonEl.style.display =\n",
              "          google.colab.kernel.accessAllowed ? 'block' : 'none';\n",
              "\n",
              "        async function convertToInteractive(key) {\n",
              "          const element = document.querySelector('#df-f9c64f4a-6b65-408b-b280-824a9d64e977');\n",
              "          const dataTable =\n",
              "            await google.colab.kernel.invokeFunction('convertToInteractive',\n",
              "                                                     [key], {});\n",
              "          if (!dataTable) return;\n",
              "\n",
              "          const docLinkHtml = 'Like what you see? Visit the ' +\n",
              "            '<a target=\"_blank\" href=https://colab.research.google.com/notebooks/data_table.ipynb>data table notebook</a>'\n",
              "            + ' to learn more about interactive tables.';\n",
              "          element.innerHTML = '';\n",
              "          dataTable['output_type'] = 'display_data';\n",
              "          await google.colab.output.renderOutput(dataTable, element);\n",
              "          const docLink = document.createElement('div');\n",
              "          docLink.innerHTML = docLinkHtml;\n",
              "          element.appendChild(docLink);\n",
              "        }\n",
              "      </script>\n",
              "    </div>\n",
              "  </div>\n",
              "  "
            ]
          },
          "metadata": {},
          "execution_count": 8
        }
      ]
    },
    {
      "cell_type": "markdown",
      "source": [
        "#2) 데이터로더 구성\n",
        "\n",
        "실습 때 다루었던 IMDB 데이터셋은 텍스트를 가공하여 imdb.data_loader() 메서드를 호출하면 숫자 인덱스로 변환된 텍스트와 word_to_index 딕셔너리까지 친절하게 제공합니다. 그러나 이번에 다루게 될 nsmc 데이터셋은 전혀 가공되지 않은 텍스트 파일로 이루어져 있습니다. 이것을 읽어서 imdb.data_loader()와 동일하게 동작하는 자신만의 data_loader를 만들어 보는 것으로 시작합니다. data_loader 안에서는 다음을 수행해야 합니다.\n",
        "\n",
        "- 데이터의 중복 제거\n",
        "\n",
        "* NaN 결측치 제거\n",
        "\n",
        "* 한국어 토크나이저로 토큰화\n",
        "\n",
        "* 불용어(Stopwords) 제거\n",
        "\n",
        "* 사전word_to_index 구성\n",
        "\n",
        "* 텍스트 스트링을 사전 인덱스 스트링으로 \n",
        "변환\n",
        "\n",
        "\n",
        "* X_train, y_train, X_test, y_test, \n",
        "\n",
        "* word_to_index 리턴"
      ],
      "metadata": {
        "id": "q0n0uldjuZBZ"
      }
    },
    {
      "cell_type": "code",
      "source": [
        "from konlpy.tag import Mecab\n",
        "import numpy as np\n",
        "from collections import Counter\n",
        "\n",
        "tokenizer = Mecab()\n",
        "stopwords = ['의','가','이','은','들','는','좀','잘','걍','과','도','를','으로','자','에','와','한','하다']\n",
        "\n",
        "def load_data(train_data, test_data, num_words=10000):\n",
        "    train_data.drop_duplicates(subset=['document'], inplace=True)\n",
        "    train_data = train_data.dropna(how = 'any') \n",
        "    test_data.drop_duplicates(subset=['document'], inplace=True)\n",
        "    test_data = test_data.dropna(how = 'any') \n",
        "    \n",
        "    X_train = []\n",
        "    for sentence in train_data['document']:\n",
        "        temp_X = tokenizer.morphs(sentence) # 토큰화\n",
        "        temp_X = [word for word in temp_X if not word in stopwords] # 불용어 제거\n",
        "        X_train.append(temp_X)\n",
        "\n",
        "    X_test = []\n",
        "    for sentence in test_data['document']:\n",
        "        temp_X = tokenizer.morphs(sentence) # 토큰화\n",
        "        temp_X = [word for word in temp_X if not word in stopwords] # 불용어 제거\n",
        "        X_test.append(temp_X)\n",
        "    \n",
        "    words = np.concatenate(X_train).tolist()\n",
        "    counter = Counter(words)\n",
        "    counter = counter.most_common(10000-4)\n",
        "    vocab = ['<PAD>', '<BOS>', '<UNK>', '<UNUSED>'] + [key for key, _ in counter]\n",
        "    word_to_index = {word:index for index, word in enumerate(vocab)}\n",
        "        \n",
        "    def wordlist_to_indexlist(wordlist):\n",
        "      return [word_to_index[word] if word in word_to_index else word_to_index['<UNK>'] for word in wordlist]\n",
        "        \n",
        "    X_train = list(map(wordlist_to_indexlist, X_train))\n",
        "    X_test = list(map(wordlist_to_indexlist, X_test))\n",
        "        \n",
        "    return X_train, np.array(list(train_data['label'])), X_test, np.array(list(test_data['label'])), word_to_index\n",
        "    \n",
        "X_train, y_train, X_test, y_test, word_to_index = load_data(train_data, test_data)"
      ],
      "metadata": {
        "id": "hfl4g3wDrl2f"
      },
      "execution_count": 9,
      "outputs": []
    },
    {
      "cell_type": "code",
      "source": [
        "# 문장 1개를 활용할 딕셔너리와 함께 주면, 단어 인덱스 리스트 벡터로 변환해 주는 함수입니다. \n",
        "# 단, 모든 문장은 <BOS>로 시작하는 것으로 합니다. \n",
        "def get_encoded_sentence(sentence, word_to_index):\n",
        "    return [word_to_index['<BOS>']]+[word_to_index[word] if word in word_to_index else word_to_index['<UNK>'] for word in sentence.split()]\n",
        "\n",
        "# 여러 개의 문장 리스트를 한꺼번에 단어 인덱스 리스트 벡터로 encode해 주는 함수입니다. \n",
        "def get_encoded_sentences(sentences, word_to_index):\n",
        "    return [get_encoded_sentence(sentence, word_to_index) for sentence in sentences]\n",
        "\n",
        "# 숫자 벡터로 encode된 문장을 원래대로 decode하는 함수입니다. \n",
        "def get_decoded_sentence(encoded_sentence, index_to_word):\n",
        "    return ' '.join(index_to_word[index] if index in index_to_word else '<UNK>' for index in encoded_sentence[1:])  #[1:]를 통해 <BOS>를 제외\n",
        "\n",
        "# 여러 개의 숫자 벡터로 encode된 문장을 한꺼번에 원래대로 decode하는 함수입니다. \n",
        "def get_decoded_sentences(encoded_sentences, index_to_word):\n",
        "    return [get_decoded_sentence(encoded_sentence, index_to_word) for encoded_sentence in encoded_sentences]"
      ],
      "metadata": {
        "id": "0HZblWbiu1Kc"
      },
      "execution_count": 10,
      "outputs": []
    },
    {
      "cell_type": "markdown",
      "source": [
        "# 3) 모델 구성을 위한 데이터 분석 및 가공\n",
        "* 데이터셋 내 문장 길이 분포\n",
        "\n",
        "* 적절한 최대 문장 길이 지정\n",
        "\n",
        "* keras.preprocessing.sequence.pad_sequences 을 활용한 패딩 추가\n"
      ],
      "metadata": {
        "id": "S7Z5j8H-u4O5"
      }
    },
    {
      "cell_type": "code",
      "source": [
        "#데이터셋 내 문장 길이 분포\n",
        "print(\"훈련 샘플 개수: {}, 테스트 개수: {}\".format(len(X_train), len(X_test)))"
      ],
      "metadata": {
        "colab": {
          "base_uri": "https://localhost:8080/"
        },
        "id": "LVcPGsfm2TpY",
        "outputId": "3593e393-9b2a-4ec8-e170-037f05be2ebd"
      },
      "execution_count": 11,
      "outputs": [
        {
          "output_type": "stream",
          "name": "stdout",
          "text": [
            "훈련 샘플 개수: 146182, 테스트 개수: 49157\n"
          ]
        }
      ]
    },
    {
      "cell_type": "code",
      "source": [
        "print(X_train[0])  # 1번째 리뷰데이터\n",
        "print('라벨: ', y_train[0])  # 1번째 리뷰데이터의 라벨\n",
        "print('1번째 리뷰 문장 길이: ', len(X_train[0]))\n",
        "print('2번째 리뷰 문장 길이: ', len(X_train[1]))"
      ],
      "metadata": {
        "colab": {
          "base_uri": "https://localhost:8080/"
        },
        "id": "VkYtWPgA2lSM",
        "outputId": "b81dc5b6-562c-4bd4-c4e5-eb853532718a"
      },
      "execution_count": 12,
      "outputs": [
        {
          "output_type": "stream",
          "name": "stdout",
          "text": [
            "[32, 74, 919, 4, 4, 39, 228, 20, 33, 748]\n",
            "라벨:  0\n",
            "1번째 리뷰 문장 길이:  10\n",
            "2번째 리뷰 문장 길이:  17\n"
          ]
        }
      ]
    },
    {
      "cell_type": "code",
      "source": [
        "total_data_text = list(X_train) + list(X_test)\n",
        "# 텍스트데이터 문장길이의 리스트를 생성한 후\n",
        "num_tokens = [len(tokens) for tokens in total_data_text]\n",
        "num_tokens = np.array(num_tokens)\n",
        "# 문장길이의 평균값, 최대값, 표준편차를 계산해 본다. \n",
        "print('문장길이 평균 : ', np.mean(num_tokens))\n",
        "print('문장길이 최대 : ', np.max(num_tokens))\n",
        "print('문장길이 표준편차 : ', np.std(num_tokens))\n",
        "\n",
        "# 예를들어, 최대 길이를 (평균 + 2*표준편차)로 한다면,  \n",
        "max_tokens = np.mean(num_tokens) + 2 * np.std(num_tokens)\n",
        "maxlen = int(max_tokens)\n",
        "print('pad_sequences maxlen : ', maxlen)\n",
        "print('전체 문장의 {}%가 maxlen 설정값 이내에 포함됩니다. '.format(np.sum(num_tokens < max_tokens) / len(num_tokens)))"
      ],
      "metadata": {
        "colab": {
          "base_uri": "https://localhost:8080/"
        },
        "id": "86kPzQHj245x",
        "outputId": "d425d4c5-1ad2-40a6-d3cc-edef7688b082"
      },
      "execution_count": 13,
      "outputs": [
        {
          "output_type": "stream",
          "name": "stdout",
          "text": [
            "문장길이 평균 :  15.96940191154864\n",
            "문장길이 최대 :  116\n",
            "문장길이 표준편차 :  12.843571191092\n",
            "pad_sequences maxlen :  41\n",
            "전체 문장의 0.9342988343341575%가 maxlen 설정값 이내에 포함됩니다. \n"
          ]
        }
      ]
    },
    {
      "cell_type": "code",
      "source": [
        "X_train = tf.keras.preprocessing.sequence.pad_sequences(X_train,\n",
        "                                                        value=word_to_index[\"<PAD>\"],\n",
        "                                                        padding='pre', \n",
        "                                                        maxlen=maxlen)\n",
        "\n",
        "X_test = tf.keras.preprocessing.sequence.pad_sequences(X_test,\n",
        "                                                       value=word_to_index[\"<PAD>\"],\n",
        "                                                       padding='pre',\n",
        "                                                       maxlen=maxlen)\n",
        "\n",
        "print(X_train.shape)"
      ],
      "metadata": {
        "colab": {
          "base_uri": "https://localhost:8080/"
        },
        "id": "YJ28Fnko3oIu",
        "outputId": "f903804f-d547-4db7-8d2a-5d67a5c8f738"
      },
      "execution_count": 14,
      "outputs": [
        {
          "output_type": "stream",
          "name": "stdout",
          "text": [
            "(146182, 41)\n"
          ]
        }
      ]
    },
    {
      "cell_type": "markdown",
      "source": [
        "# 4) 모델 구성 및 validation set 구성\n",
        "\n",
        "모델은 3가지 이상 다양하게 구성하여 실험해 보세요.\n",
        "\n",
        "lstm, maxpool추가등\n"
      ],
      "metadata": {
        "id": "eQuxEy5Mu9RY"
      }
    },
    {
      "cell_type": "code",
      "source": [
        "from keras.models import Sequential\n",
        "from keras.layers import SimpleRNN, Dense\n",
        "\n",
        "np.random.seed(0)\n",
        "vocab_size = 10000    # 어휘 사전의 크기입니다(10,000개의 단어)\n",
        "word_vector_dim = 100  # 워드 벡터의 차원 수 (변경 가능한 하이퍼파라미터)\n",
        "\n",
        "\n",
        "model1 = tf.keras.Sequential()\n",
        "model1.add(tf.keras.layers.Embedding(vocab_size, word_vector_dim, input_shape=(None,)))\n",
        "model1.add(tf.keras.layers.GlobalMaxPooling1D())\n",
        "model1.add(tf.keras.layers.Dense(8, activation='relu'))\n",
        "model1.add(tf.keras.layers.Dense(1, activation='sigmoid')) \n",
        "model1.summary()"
      ],
      "metadata": {
        "colab": {
          "base_uri": "https://localhost:8080/"
        },
        "id": "V6RP7kB_D3zk",
        "outputId": "498dfcc3-4972-4b15-dd36-1adb8e50535b"
      },
      "execution_count": 15,
      "outputs": [
        {
          "output_type": "stream",
          "name": "stdout",
          "text": [
            "Model: \"sequential\"\n",
            "_________________________________________________________________\n",
            " Layer (type)                Output Shape              Param #   \n",
            "=================================================================\n",
            " embedding (Embedding)       (None, None, 100)         1000000   \n",
            "                                                                 \n",
            " global_max_pooling1d (Globa  (None, 100)              0         \n",
            " lMaxPooling1D)                                                  \n",
            "                                                                 \n",
            " dense (Dense)               (None, 8)                 808       \n",
            "                                                                 \n",
            " dense_1 (Dense)             (None, 1)                 9         \n",
            "                                                                 \n",
            "=================================================================\n",
            "Total params: 1,000,817\n",
            "Trainable params: 1,000,817\n",
            "Non-trainable params: 0\n",
            "_________________________________________________________________\n"
          ]
        }
      ]
    },
    {
      "cell_type": "code",
      "source": [
        "vocab_size = 10000  # 어휘 사전의 크기입니다(10개의 단어)\n",
        "word_vector_dim = 100  # 단어 하나를 표현하는 임베딩 벡터의 차원수입니다. \n",
        "\n",
        "\n",
        "model2 = tf.keras.Sequential()\n",
        "model2.add(tf.keras.layers.Embedding(vocab_size, word_vector_dim, input_shape=(None,)))\n",
        "model2.add(tf.keras.layers.LSTM(8))   # 가장 널리 쓰이는 RNN인 LSTM 레이어를 사용하였습니다. 이때 LSTM state 벡터의 차원수는 8로 하였습니다. (변경 가능)\n",
        "model2.add(tf.keras.layers.Dense(8, activation='relu'))\n",
        "model2.add(tf.keras.layers.Dense(1, activation='sigmoid'))  # 최종 출력은 긍정/부정을 나타내는 1dim 입니다.\n",
        "model2.summary()"
      ],
      "metadata": {
        "colab": {
          "base_uri": "https://localhost:8080/"
        },
        "id": "E3TZTX2KGmZv",
        "outputId": "f9b1cab1-1e91-41c7-abee-6ccf2153998e"
      },
      "execution_count": 16,
      "outputs": [
        {
          "output_type": "stream",
          "name": "stdout",
          "text": [
            "Model: \"sequential_1\"\n",
            "_________________________________________________________________\n",
            " Layer (type)                Output Shape              Param #   \n",
            "=================================================================\n",
            " embedding_1 (Embedding)     (None, None, 100)         1000000   \n",
            "                                                                 \n",
            " lstm (LSTM)                 (None, 8)                 3488      \n",
            "                                                                 \n",
            " dense_2 (Dense)             (None, 8)                 72        \n",
            "                                                                 \n",
            " dense_3 (Dense)             (None, 1)                 9         \n",
            "                                                                 \n",
            "=================================================================\n",
            "Total params: 1,003,569\n",
            "Trainable params: 1,003,569\n",
            "Non-trainable params: 0\n",
            "_________________________________________________________________\n"
          ]
        }
      ]
    },
    {
      "cell_type": "code",
      "source": [
        "vocab_size = 10000  # 어휘 사전의 크기입니다(10개의 단어)\n",
        "word_vector_dim = 100   # 단어 하나를 표현하는 임베딩 벡터의 차원 수입니다. \n",
        "np.random.seed(0)\n",
        "\n",
        "model3 = tf.keras.Sequential()\n",
        "model3.add(tf.keras.layers.Embedding(vocab_size, word_vector_dim, input_shape=(None,)))\n",
        "model3.add(tf.keras.layers.Conv1D(16, 7, activation='relu'))\n",
        "model3.add(tf.keras.layers.MaxPooling1D(5))\n",
        "model3.add(tf.keras.layers.Conv1D(16, 7, activation='relu'))\n",
        "model3.add(tf.keras.layers.GlobalMaxPooling1D())\n",
        "model3.add(tf.keras.layers.Dense(8, activation='relu'))\n",
        "model3.add(tf.keras.layers.Dense(1, activation='sigmoid'))  # 최종 출력은 긍정/부정을 나타내는 1dim 입니다.\n",
        "model3.summary()"
      ],
      "metadata": {
        "colab": {
          "base_uri": "https://localhost:8080/"
        },
        "id": "vYiCX1A1HBVd",
        "outputId": "d951484d-6bba-40b7-ac00-d797560e1e70"
      },
      "execution_count": 17,
      "outputs": [
        {
          "output_type": "stream",
          "name": "stdout",
          "text": [
            "Model: \"sequential_2\"\n",
            "_________________________________________________________________\n",
            " Layer (type)                Output Shape              Param #   \n",
            "=================================================================\n",
            " embedding_2 (Embedding)     (None, None, 100)         1000000   \n",
            "                                                                 \n",
            " conv1d (Conv1D)             (None, None, 16)          11216     \n",
            "                                                                 \n",
            " max_pooling1d (MaxPooling1D  (None, None, 16)         0         \n",
            " )                                                               \n",
            "                                                                 \n",
            " conv1d_1 (Conv1D)           (None, None, 16)          1808      \n",
            "                                                                 \n",
            " global_max_pooling1d_1 (Glo  (None, 16)               0         \n",
            " balMaxPooling1D)                                                \n",
            "                                                                 \n",
            " dense_4 (Dense)             (None, 8)                 136       \n",
            "                                                                 \n",
            " dense_5 (Dense)             (None, 1)                 9         \n",
            "                                                                 \n",
            "=================================================================\n",
            "Total params: 1,013,169\n",
            "Trainable params: 1,013,169\n",
            "Non-trainable params: 0\n",
            "_________________________________________________________________\n"
          ]
        }
      ]
    },
    {
      "cell_type": "code",
      "source": [
        "# validation set 10000건 분리\n",
        "x_val = X_train[:10000]   \n",
        "y_val = y_train[:10000]\n",
        "\n",
        "# validation set을 제외한 나머지 15000건\n",
        "partial_X_train = X_train[10000:]  \n",
        "partial_y_train = y_train[10000:]\n",
        "\n",
        "print(partial_X_train.shape)\n",
        "print(partial_y_train.shape)"
      ],
      "metadata": {
        "colab": {
          "base_uri": "https://localhost:8080/"
        },
        "id": "b84zNSeYDaNE",
        "outputId": "16924e02-cfb2-4ac5-aab1-042d289a6f3f"
      },
      "execution_count": 18,
      "outputs": [
        {
          "output_type": "stream",
          "name": "stdout",
          "text": [
            "(136182, 41)\n",
            "(136182,)\n"
          ]
        }
      ]
    },
    {
      "cell_type": "markdown",
      "source": [
        "#5) 모델 훈련 개시\n"
      ],
      "metadata": {
        "id": "iZm7mmBcvAW4"
      }
    },
    {
      "cell_type": "code",
      "source": [
        "model1.compile(optimizer='adam',\n",
        "              loss='binary_crossentropy',\n",
        "              metrics=['accuracy'])\n",
        "              \n",
        "epochs=20  # 몇 epoch를 훈련하면 좋을지 결과를 보면서 바꾸어 봅시다. \n",
        "\n",
        "history1 = model1.fit(partial_X_train,\n",
        "                    partial_y_train,\n",
        "                    epochs=epochs,\n",
        "                    batch_size= 512,\n",
        "                    validation_data=(x_val, y_val),\n",
        "                    verbose=1)"
      ],
      "metadata": {
        "colab": {
          "base_uri": "https://localhost:8080/"
        },
        "id": "VBxEo-uGEBjy",
        "outputId": "739768c0-a535-4459-e6ad-171a0a0a23e5"
      },
      "execution_count": 19,
      "outputs": [
        {
          "output_type": "stream",
          "name": "stdout",
          "text": [
            "Epoch 1/20\n",
            "266/266 [==============================] - 2s 5ms/step - loss: 0.4763 - accuracy: 0.8003 - val_loss: 0.3491 - val_accuracy: 0.8474\n",
            "Epoch 2/20\n",
            "266/266 [==============================] - 1s 4ms/step - loss: 0.3200 - accuracy: 0.8654 - val_loss: 0.3313 - val_accuracy: 0.8553\n",
            "Epoch 3/20\n",
            "266/266 [==============================] - 1s 4ms/step - loss: 0.2767 - accuracy: 0.8866 - val_loss: 0.3333 - val_accuracy: 0.8557\n",
            "Epoch 4/20\n",
            "266/266 [==============================] - 1s 4ms/step - loss: 0.2419 - accuracy: 0.9045 - val_loss: 0.3431 - val_accuracy: 0.8554\n",
            "Epoch 5/20\n",
            "266/266 [==============================] - 1s 4ms/step - loss: 0.2088 - accuracy: 0.9202 - val_loss: 0.3589 - val_accuracy: 0.8544\n",
            "Epoch 6/20\n",
            "266/266 [==============================] - 1s 4ms/step - loss: 0.1756 - accuracy: 0.9361 - val_loss: 0.3827 - val_accuracy: 0.8522\n",
            "Epoch 7/20\n",
            "266/266 [==============================] - 1s 4ms/step - loss: 0.1437 - accuracy: 0.9507 - val_loss: 0.4129 - val_accuracy: 0.8463\n",
            "Epoch 8/20\n",
            "266/266 [==============================] - 1s 4ms/step - loss: 0.1145 - accuracy: 0.9631 - val_loss: 0.4442 - val_accuracy: 0.8439\n",
            "Epoch 9/20\n",
            "266/266 [==============================] - 1s 4ms/step - loss: 0.0904 - accuracy: 0.9728 - val_loss: 0.4820 - val_accuracy: 0.8452\n",
            "Epoch 10/20\n",
            "266/266 [==============================] - 1s 4ms/step - loss: 0.0705 - accuracy: 0.9807 - val_loss: 0.5226 - val_accuracy: 0.8423\n",
            "Epoch 11/20\n",
            "266/266 [==============================] - 1s 4ms/step - loss: 0.0554 - accuracy: 0.9854 - val_loss: 0.5549 - val_accuracy: 0.8398\n",
            "Epoch 12/20\n",
            "266/266 [==============================] - 1s 4ms/step - loss: 0.0442 - accuracy: 0.9891 - val_loss: 0.5994 - val_accuracy: 0.8367\n",
            "Epoch 13/20\n",
            "266/266 [==============================] - 1s 4ms/step - loss: 0.0352 - accuracy: 0.9915 - val_loss: 0.6319 - val_accuracy: 0.8310\n",
            "Epoch 14/20\n",
            "266/266 [==============================] - 1s 4ms/step - loss: 0.0288 - accuracy: 0.9931 - val_loss: 0.6688 - val_accuracy: 0.8306\n",
            "Epoch 15/20\n",
            "266/266 [==============================] - 1s 4ms/step - loss: 0.0244 - accuracy: 0.9940 - val_loss: 0.6980 - val_accuracy: 0.8319\n",
            "Epoch 16/20\n",
            "266/266 [==============================] - 1s 4ms/step - loss: 0.0207 - accuracy: 0.9947 - val_loss: 0.7338 - val_accuracy: 0.8296\n",
            "Epoch 17/20\n",
            "266/266 [==============================] - 1s 4ms/step - loss: 0.0180 - accuracy: 0.9953 - val_loss: 0.7643 - val_accuracy: 0.8288\n",
            "Epoch 18/20\n",
            "266/266 [==============================] - 1s 4ms/step - loss: 0.0163 - accuracy: 0.9954 - val_loss: 0.7873 - val_accuracy: 0.8306\n",
            "Epoch 19/20\n",
            "266/266 [==============================] - 1s 4ms/step - loss: 0.0144 - accuracy: 0.9959 - val_loss: 0.8195 - val_accuracy: 0.8295\n",
            "Epoch 20/20\n",
            "266/266 [==============================] - 1s 4ms/step - loss: 0.0131 - accuracy: 0.9959 - val_loss: 0.8498 - val_accuracy: 0.8276\n"
          ]
        }
      ]
    },
    {
      "cell_type": "code",
      "source": [
        "model2.compile(optimizer='adam',\n",
        "              loss='binary_crossentropy',\n",
        "              metrics=['accuracy'])\n",
        "              \n",
        "epochs=20  # 몇 epoch를 훈련하면 좋을지 결과를 보면서 바꾸어 봅시다. \n",
        "\n",
        "history2 = model2.fit(partial_X_train,\n",
        "                    partial_y_train,\n",
        "                    epochs=epochs,\n",
        "                    batch_size= 512,\n",
        "                    validation_data=(x_val, y_val),\n",
        "                    verbose=1)"
      ],
      "metadata": {
        "colab": {
          "base_uri": "https://localhost:8080/"
        },
        "id": "LW6iXPlKrA6J",
        "outputId": "e593e66b-3b1c-4416-9820-06e0e3445815"
      },
      "execution_count": 20,
      "outputs": [
        {
          "output_type": "stream",
          "name": "stdout",
          "text": [
            "Epoch 1/20\n",
            "266/266 [==============================] - 5s 8ms/step - loss: 0.5423 - accuracy: 0.7780 - val_loss: 0.4753 - val_accuracy: 0.8426\n",
            "Epoch 2/20\n",
            "266/266 [==============================] - 2s 7ms/step - loss: 0.4461 - accuracy: 0.8542 - val_loss: 0.4389 - val_accuracy: 0.8483\n",
            "Epoch 3/20\n",
            "266/266 [==============================] - 2s 6ms/step - loss: 0.4008 - accuracy: 0.8675 - val_loss: 0.4227 - val_accuracy: 0.8435\n",
            "Epoch 4/20\n",
            "266/266 [==============================] - 2s 6ms/step - loss: 0.3651 - accuracy: 0.8787 - val_loss: 0.4052 - val_accuracy: 0.8458\n",
            "Epoch 5/20\n",
            "266/266 [==============================] - 2s 6ms/step - loss: 0.3352 - accuracy: 0.8877 - val_loss: 0.4034 - val_accuracy: 0.8465\n",
            "Epoch 6/20\n",
            "266/266 [==============================] - 2s 6ms/step - loss: 0.3090 - accuracy: 0.8969 - val_loss: 0.3994 - val_accuracy: 0.8470\n",
            "Epoch 7/20\n",
            "266/266 [==============================] - 2s 6ms/step - loss: 0.2856 - accuracy: 0.9053 - val_loss: 0.4073 - val_accuracy: 0.8501\n",
            "Epoch 8/20\n",
            "266/266 [==============================] - 2s 6ms/step - loss: 0.2645 - accuracy: 0.9129 - val_loss: 0.4044 - val_accuracy: 0.8421\n",
            "Epoch 9/20\n",
            "266/266 [==============================] - 2s 6ms/step - loss: 0.2438 - accuracy: 0.9203 - val_loss: 0.4320 - val_accuracy: 0.8444\n",
            "Epoch 10/20\n",
            "266/266 [==============================] - 2s 6ms/step - loss: 0.2264 - accuracy: 0.9272 - val_loss: 0.4314 - val_accuracy: 0.8494\n",
            "Epoch 11/20\n",
            "266/266 [==============================] - 2s 7ms/step - loss: 0.2112 - accuracy: 0.9329 - val_loss: 0.4408 - val_accuracy: 0.8473\n",
            "Epoch 12/20\n",
            "266/266 [==============================] - 2s 6ms/step - loss: 0.1976 - accuracy: 0.9377 - val_loss: 0.4792 - val_accuracy: 0.8454\n",
            "Epoch 13/20\n",
            "266/266 [==============================] - 2s 6ms/step - loss: 0.1871 - accuracy: 0.9417 - val_loss: 0.4624 - val_accuracy: 0.8456\n",
            "Epoch 14/20\n",
            "266/266 [==============================] - 2s 7ms/step - loss: 0.1770 - accuracy: 0.9457 - val_loss: 0.4813 - val_accuracy: 0.8433\n",
            "Epoch 15/20\n",
            "266/266 [==============================] - 2s 6ms/step - loss: 0.1702 - accuracy: 0.9476 - val_loss: 0.4905 - val_accuracy: 0.8463\n",
            "Epoch 16/20\n",
            "266/266 [==============================] - 2s 6ms/step - loss: 0.1602 - accuracy: 0.9517 - val_loss: 0.5217 - val_accuracy: 0.8427\n",
            "Epoch 17/20\n",
            "266/266 [==============================] - 2s 6ms/step - loss: 0.1541 - accuracy: 0.9538 - val_loss: 0.5394 - val_accuracy: 0.8430\n",
            "Epoch 18/20\n",
            "266/266 [==============================] - 2s 6ms/step - loss: 0.1488 - accuracy: 0.9560 - val_loss: 0.5530 - val_accuracy: 0.8409\n",
            "Epoch 19/20\n",
            "266/266 [==============================] - 2s 7ms/step - loss: 0.1436 - accuracy: 0.9574 - val_loss: 0.5765 - val_accuracy: 0.8444\n",
            "Epoch 20/20\n",
            "266/266 [==============================] - 2s 6ms/step - loss: 0.1386 - accuracy: 0.9596 - val_loss: 0.5989 - val_accuracy: 0.8378\n"
          ]
        }
      ]
    },
    {
      "cell_type": "code",
      "source": [
        "model3.compile(optimizer='adam',\n",
        "              loss='binary_crossentropy',\n",
        "              metrics=['accuracy'])\n",
        "              \n",
        "epochs=20  # 몇 epoch를 훈련하면 좋을지 결과를 보면서 바꾸어 봅시다. \n",
        "\n",
        "history3 = model3.fit(partial_X_train,\n",
        "                    partial_y_train,\n",
        "                    epochs=epochs,\n",
        "                    batch_size= 512,\n",
        "                    validation_data=(x_val, y_val),\n",
        "                    verbose=1)"
      ],
      "metadata": {
        "colab": {
          "base_uri": "https://localhost:8080/"
        },
        "id": "q29BNuQGrAtT",
        "outputId": "4cb9b025-d219-4820-c85c-1ca5156950b3"
      },
      "execution_count": 21,
      "outputs": [
        {
          "output_type": "stream",
          "name": "stdout",
          "text": [
            "Epoch 1/20\n",
            "266/266 [==============================] - 4s 7ms/step - loss: 0.4466 - accuracy: 0.7801 - val_loss: 0.3320 - val_accuracy: 0.8558\n",
            "Epoch 2/20\n",
            "266/266 [==============================] - 2s 6ms/step - loss: 0.2979 - accuracy: 0.8746 - val_loss: 0.3203 - val_accuracy: 0.8616\n",
            "Epoch 3/20\n",
            "266/266 [==============================] - 1s 6ms/step - loss: 0.2404 - accuracy: 0.9036 - val_loss: 0.3345 - val_accuracy: 0.8582\n",
            "Epoch 4/20\n",
            "266/266 [==============================] - 1s 6ms/step - loss: 0.1748 - accuracy: 0.9341 - val_loss: 0.3793 - val_accuracy: 0.8545\n",
            "Epoch 5/20\n",
            "266/266 [==============================] - 1s 6ms/step - loss: 0.1141 - accuracy: 0.9608 - val_loss: 0.4618 - val_accuracy: 0.8480\n",
            "Epoch 6/20\n",
            "266/266 [==============================] - 2s 6ms/step - loss: 0.0746 - accuracy: 0.9759 - val_loss: 0.5407 - val_accuracy: 0.8419\n",
            "Epoch 7/20\n",
            "266/266 [==============================] - 2s 6ms/step - loss: 0.0517 - accuracy: 0.9839 - val_loss: 0.6582 - val_accuracy: 0.8376\n",
            "Epoch 8/20\n",
            "266/266 [==============================] - 2s 6ms/step - loss: 0.0387 - accuracy: 0.9879 - val_loss: 0.7067 - val_accuracy: 0.8316\n",
            "Epoch 9/20\n",
            "266/266 [==============================] - 2s 6ms/step - loss: 0.0299 - accuracy: 0.9910 - val_loss: 0.7858 - val_accuracy: 0.8362\n",
            "Epoch 10/20\n",
            "266/266 [==============================] - 2s 6ms/step - loss: 0.0254 - accuracy: 0.9921 - val_loss: 0.8498 - val_accuracy: 0.8345\n",
            "Epoch 11/20\n",
            "266/266 [==============================] - 1s 6ms/step - loss: 0.0238 - accuracy: 0.9924 - val_loss: 0.9004 - val_accuracy: 0.8322\n",
            "Epoch 12/20\n",
            "266/266 [==============================] - 2s 6ms/step - loss: 0.0233 - accuracy: 0.9924 - val_loss: 0.9644 - val_accuracy: 0.8320\n",
            "Epoch 13/20\n",
            "266/266 [==============================] - 2s 6ms/step - loss: 0.0268 - accuracy: 0.9905 - val_loss: 0.9551 - val_accuracy: 0.8323\n",
            "Epoch 14/20\n",
            "266/266 [==============================] - 1s 6ms/step - loss: 0.0290 - accuracy: 0.9899 - val_loss: 1.0171 - val_accuracy: 0.8340\n",
            "Epoch 15/20\n",
            "266/266 [==============================] - 2s 6ms/step - loss: 0.0237 - accuracy: 0.9916 - val_loss: 1.0348 - val_accuracy: 0.8272\n",
            "Epoch 16/20\n",
            "266/266 [==============================] - 1s 6ms/step - loss: 0.0187 - accuracy: 0.9935 - val_loss: 1.1441 - val_accuracy: 0.8300\n",
            "Epoch 17/20\n",
            "266/266 [==============================] - 2s 6ms/step - loss: 0.0151 - accuracy: 0.9950 - val_loss: 1.1458 - val_accuracy: 0.8286\n",
            "Epoch 18/20\n",
            "266/266 [==============================] - 2s 6ms/step - loss: 0.0133 - accuracy: 0.9955 - val_loss: 1.1742 - val_accuracy: 0.8244\n",
            "Epoch 19/20\n",
            "266/266 [==============================] - 2s 6ms/step - loss: 0.0120 - accuracy: 0.9956 - val_loss: 1.2469 - val_accuracy: 0.8267\n",
            "Epoch 20/20\n",
            "266/266 [==============================] - 2s 6ms/step - loss: 0.0117 - accuracy: 0.9959 - val_loss: 1.3090 - val_accuracy: 0.8261\n"
          ]
        }
      ]
    },
    {
      "cell_type": "markdown",
      "source": [
        "# 6) Loss, Accuracy 그래프 시각화"
      ],
      "metadata": {
        "id": "DNtRoKCgvBmn"
      }
    },
    {
      "cell_type": "code",
      "source": [
        "results = model1.evaluate(X_test,  y_test, verbose=2)\n",
        "\n",
        "print(results)"
      ],
      "metadata": {
        "colab": {
          "base_uri": "https://localhost:8080/"
        },
        "id": "tjghiCkcLlo2",
        "outputId": "d8b4ed0c-7db0-4ae2-b292-05fc62726be0"
      },
      "execution_count": 22,
      "outputs": [
        {
          "output_type": "stream",
          "name": "stdout",
          "text": [
            "1537/1537 - 2s - loss: 0.8698 - accuracy: 0.8264 - 2s/epoch - 2ms/step\n",
            "[0.869762659072876, 0.8263522982597351]\n"
          ]
        }
      ]
    },
    {
      "cell_type": "code",
      "source": [
        "results = model2.evaluate(X_test,  y_test, verbose=2)\n",
        "\n",
        "print(results)"
      ],
      "metadata": {
        "colab": {
          "base_uri": "https://localhost:8080/"
        },
        "id": "7b2A9tN9rK6d",
        "outputId": "d2bd385c-75c0-4d5c-b82b-f984b6bb2d66"
      },
      "execution_count": 23,
      "outputs": [
        {
          "output_type": "stream",
          "name": "stdout",
          "text": [
            "1537/1537 - 4s - loss: 0.6023 - accuracy: 0.8383 - 4s/epoch - 2ms/step\n",
            "[0.6022540926933289, 0.838334321975708]\n"
          ]
        }
      ]
    },
    {
      "cell_type": "code",
      "source": [
        "results = model3.evaluate(X_test,  y_test, verbose=2)\n",
        "\n",
        "print(results)"
      ],
      "metadata": {
        "colab": {
          "base_uri": "https://localhost:8080/"
        },
        "id": "fY-ipPofrKsu",
        "outputId": "0ec465a2-0278-482a-f5d1-1aa049e760db"
      },
      "execution_count": 24,
      "outputs": [
        {
          "output_type": "stream",
          "name": "stdout",
          "text": [
            "1537/1537 - 3s - loss: 1.2971 - accuracy: 0.8282 - 3s/epoch - 2ms/step\n",
            "[1.2971341609954834, 0.8281831741333008]\n"
          ]
        }
      ]
    },
    {
      "cell_type": "code",
      "source": [
        "history_dict1 = history1.history\n",
        "print(history_dict1.keys()) # epoch에 따른 그래프를 그려볼 수 있는 항목들"
      ],
      "metadata": {
        "colab": {
          "base_uri": "https://localhost:8080/"
        },
        "id": "JqjwsWDkLlml",
        "outputId": "75c8d13d-9050-462a-cbfe-486fb56be092"
      },
      "execution_count": 25,
      "outputs": [
        {
          "output_type": "stream",
          "name": "stdout",
          "text": [
            "dict_keys(['loss', 'accuracy', 'val_loss', 'val_accuracy'])\n"
          ]
        }
      ]
    },
    {
      "cell_type": "code",
      "source": [
        "history_dict2 = history2.history\n",
        "print(history_dict2.keys()) # epoch에 따른 그래프를 그려볼 수 있는 항목들"
      ],
      "metadata": {
        "colab": {
          "base_uri": "https://localhost:8080/"
        },
        "id": "Vx8Dq8C1xVKS",
        "outputId": "405be553-68a4-4c52-ca73-d5b92f8987da"
      },
      "execution_count": 26,
      "outputs": [
        {
          "output_type": "stream",
          "name": "stdout",
          "text": [
            "dict_keys(['loss', 'accuracy', 'val_loss', 'val_accuracy'])\n"
          ]
        }
      ]
    },
    {
      "cell_type": "code",
      "source": [
        "history_dict3 = history3.history\n",
        "print(history_dict3.keys()) # epoch에 따른 그래프를 그려볼 수 있는 항목들"
      ],
      "metadata": {
        "colab": {
          "base_uri": "https://localhost:8080/"
        },
        "id": "Rt2z4iWsxVci",
        "outputId": "c75a427d-0a1c-4863-f33a-87d8b0d116e1"
      },
      "execution_count": 27,
      "outputs": [
        {
          "output_type": "stream",
          "name": "stdout",
          "text": [
            "dict_keys(['loss', 'accuracy', 'val_loss', 'val_accuracy'])\n"
          ]
        }
      ]
    },
    {
      "cell_type": "code",
      "source": [
        "import matplotlib.pyplot as plt\n",
        "\n",
        "acc = history_dict1['accuracy']\n",
        "val_acc = history_dict1['val_accuracy']\n",
        "loss = history_dict1['loss']\n",
        "val_loss = history_dict1['val_loss']\n",
        "\n",
        "epochs = range(1, len(acc) + 1)\n",
        "\n",
        "# \"bo\"는 \"파란색 점\"입니다\n",
        "plt.plot(epochs, loss, 'bo', label='Training loss')\n",
        "# b는 \"파란 실선\"입니다\n",
        "plt.plot(epochs, val_loss, 'b', label='Validation loss')\n",
        "plt.title('Training and validation loss')\n",
        "plt.xlabel('Epochs')\n",
        "plt.ylabel('Loss')\n",
        "plt.legend()\n",
        "\n",
        "plt.show()"
      ],
      "metadata": {
        "colab": {
          "base_uri": "https://localhost:8080/",
          "height": 295
        },
        "id": "mmzXegdXLqZ2",
        "outputId": "1e014f92-57b8-4b98-b934-fe19a0ecedd0"
      },
      "execution_count": 28,
      "outputs": [
        {
          "output_type": "display_data",
          "data": {
            "text/plain": [
              "<Figure size 432x288 with 1 Axes>"
            ],
            "image/png": "[encoded data removed]"
          },
          "metadata": {
            "needs_background": "light"
          }
        }
      ]
    },
    {
      "cell_type": "code",
      "source": [
        "plt.clf()   # 그림을 초기화합니다\n",
        "\n",
        "plt.plot(epochs, acc, 'bo', label='Training acc')\n",
        "plt.plot(epochs, val_acc, 'b', label='Validation acc')\n",
        "plt.title('Training and validation accuracy')\n",
        "plt.xlabel('Epochs')\n",
        "plt.ylabel('Accuracy')\n",
        "plt.legend()\n",
        "\n",
        "plt.show()"
      ],
      "metadata": {
        "colab": {
          "base_uri": "https://localhost:8080/",
          "height": 295
        },
        "id": "P5S_csJ-xgFC",
        "outputId": "0e05dc5a-692d-44bc-a8f7-47fc0e730a40"
      },
      "execution_count": 29,
      "outputs": [
        {
          "output_type": "display_data",
          "data": {
            "text/plain": [
              "<Figure size 432x288 with 1 Axes>"
            ],
            "image/png": "[encoded data removed]"
          },
          "metadata": {
            "needs_background": "light"
          }
        }
      ]
    },
    {
      "cell_type": "code",
      "source": [
        "import matplotlib.pyplot as plt\n",
        "\n",
        "acc = history_dict2['accuracy']\n",
        "val_acc = history_dict2['val_accuracy']\n",
        "loss = history_dict2['loss']\n",
        "val_loss = history_dict2['val_loss']\n",
        "\n",
        "epochs = range(1, len(acc) + 1)\n",
        "\n",
        "# \"bo\"는 \"파란색 점\"입니다\n",
        "plt.plot(epochs, loss, 'bo', label='Training loss')\n",
        "# b는 \"파란 실선\"입니다\n",
        "plt.plot(epochs, val_loss, 'b', label='Validation loss')\n",
        "plt.title('Training and validation loss')\n",
        "plt.xlabel('Epochs')\n",
        "plt.ylabel('Loss')\n",
        "plt.legend()\n",
        "\n",
        "plt.show()"
      ],
      "metadata": {
        "colab": {
          "base_uri": "https://localhost:8080/",
          "height": 295
        },
        "id": "CA7lf3d9xfHm",
        "outputId": "9e3b4b74-d96f-4e4e-9c7c-5923ce505b65"
      },
      "execution_count": 30,
      "outputs": [
        {
          "output_type": "display_data",
          "data": {
            "text/plain": [
              "<Figure size 432x288 with 1 Axes>"
            ],
            "image/png": "[encoded data removed]"
          },
          "metadata": {
            "needs_background": "light"
          }
        }
      ]
    },
    {
      "cell_type": "code",
      "source": [
        "plt.clf()   # 그림을 초기화합니다\n",
        "\n",
        "plt.plot(epochs, acc, 'bo', label='Training acc')\n",
        "plt.plot(epochs, val_acc, 'b', label='Validation acc')\n",
        "plt.title('Training and validation accuracy')\n",
        "plt.xlabel('Epochs')\n",
        "plt.ylabel('Accuracy')\n",
        "plt.legend()\n",
        "\n",
        "plt.show()"
      ],
      "metadata": {
        "colab": {
          "base_uri": "https://localhost:8080/",
          "height": 295
        },
        "id": "LgFRHrpDLuV0",
        "outputId": "47e59abe-2518-48a4-c407-eadd4528ac9d"
      },
      "execution_count": 31,
      "outputs": [
        {
          "output_type": "display_data",
          "data": {
            "text/plain": [
              "<Figure size 432x288 with 1 Axes>"
            ],
            "image/png": "[encoded data removed]"
          },
          "metadata": {
            "needs_background": "light"
          }
        }
      ]
    },
    {
      "cell_type": "code",
      "source": [
        "import matplotlib.pyplot as plt\n",
        "\n",
        "acc = history_dict3['accuracy']\n",
        "val_acc = history_dict3['val_accuracy']\n",
        "loss = history_dict3['loss']\n",
        "val_loss = history_dict3['val_loss']\n",
        "\n",
        "epochs = range(1, len(acc) + 1)\n",
        "\n",
        "# \"bo\"는 \"파란색 점\"입니다\n",
        "plt.plot(epochs, loss, 'bo', label='Training loss')\n",
        "# b는 \"파란 실선\"입니다\n",
        "plt.plot(epochs, val_loss, 'b', label='Validation loss')\n",
        "plt.title('Training and validation loss')\n",
        "plt.xlabel('Epochs')\n",
        "plt.ylabel('Loss')\n",
        "plt.legend()\n",
        "\n",
        "plt.show()"
      ],
      "metadata": {
        "colab": {
          "base_uri": "https://localhost:8080/",
          "height": 295
        },
        "id": "Qlc2QAgNxfNf",
        "outputId": "4489f9c1-f895-43f4-8c2c-8efdf6a48c13"
      },
      "execution_count": 32,
      "outputs": [
        {
          "output_type": "display_data",
          "data": {
            "text/plain": [
              "<Figure size 432x288 with 1 Axes>"
            ],
            "image/png": "[encoded data removed]"
          },
          "metadata": {
            "needs_background": "light"
          }
        }
      ]
    },
    {
      "cell_type": "code",
      "source": [
        "plt.clf()   # 그림을 초기화합니다\n",
        "\n",
        "plt.plot(epochs, acc, 'bo', label='Training acc')\n",
        "plt.plot(epochs, val_acc, 'b', label='Validation acc')\n",
        "plt.title('Training and validation accuracy')\n",
        "plt.xlabel('Epochs')\n",
        "plt.ylabel('Accuracy')\n",
        "plt.legend()\n",
        "\n",
        "plt.show()"
      ],
      "metadata": {
        "colab": {
          "base_uri": "https://localhost:8080/",
          "height": 295
        },
        "id": "mBaaJ_cjxgke",
        "outputId": "7593e396-d0cd-413d-bd08-7dfcfcf061ab"
      },
      "execution_count": 33,
      "outputs": [
        {
          "output_type": "display_data",
          "data": {
            "text/plain": [
              "<Figure size 432x288 with 1 Axes>"
            ],
            "image/png": "[encoded data removed]"
          },
          "metadata": {
            "needs_background": "light"
          }
        }
      ]
    },
    {
      "cell_type": "code",
      "source": [
        "embedding_layer = model1.layers[0]\n",
        "weights = embedding_layer.get_weights()[0]\n",
        "print(weights.shape)    # shape: (vocab_size, embedding_dim)"
      ],
      "metadata": {
        "colab": {
          "base_uri": "https://localhost:8080/"
        },
        "id": "_dcykV_KBvr1",
        "outputId": "67a0ada4-bd78-4009-c759-81847b67bf2a"
      },
      "execution_count": 34,
      "outputs": [
        {
          "output_type": "stream",
          "name": "stdout",
          "text": [
            "(10000, 100)\n"
          ]
        }
      ]
    },
    {
      "cell_type": "code",
      "source": [
        "embedding_layer = model2.layers[0]\n",
        "weights = embedding_layer.get_weights()[0]\n",
        "print(weights.shape)    # shape: (vocab_size, embedding_dim)"
      ],
      "metadata": {
        "colab": {
          "base_uri": "https://localhost:8080/"
        },
        "id": "w97PJ-OWrVR5",
        "outputId": "594926b0-7fac-4e34-bb23-4d7a0def4a96"
      },
      "execution_count": 35,
      "outputs": [
        {
          "output_type": "stream",
          "name": "stdout",
          "text": [
            "(10000, 100)\n"
          ]
        }
      ]
    },
    {
      "cell_type": "code",
      "source": [
        "embedding_layer = model3.layers[0]\n",
        "weights = embedding_layer.get_weights()[0]\n",
        "print(weights.shape)    # shape: (vocab_size, embedding_dim)"
      ],
      "metadata": {
        "colab": {
          "base_uri": "https://localhost:8080/"
        },
        "id": "G7hHm3LWrVMS",
        "outputId": "92e1d075-f5a1-4d3a-f308-a735c45ab846"
      },
      "execution_count": 36,
      "outputs": [
        {
          "output_type": "stream",
          "name": "stdout",
          "text": [
            "(10000, 100)\n"
          ]
        }
      ]
    },
    {
      "cell_type": "markdown",
      "source": [
        "# 7) 학습된 Embedding 레이어 분석"
      ],
      "metadata": {
        "id": "xzuN9jQ4vDac"
      }
    },
    {
      "cell_type": "markdown",
      "source": [
        "# 8) 한국어 Word2Vec 임베딩 활용하여 성능 개선\n"
      ],
      "metadata": {
        "id": "QgNfggQCvErJ"
      }
    },
    {
      "cell_type": "markdown",
      "source": [
        "Training and validation loss를 그려 보면, 몇 epoch까지의 트레이닝이 적절한지 최적점을 추정해 볼 수 있습니다. validation loss의 그래프가 train loss와의 이격이 발생하게 되면 더 이상의 트레이닝은 무의미해지게 마련입니다."
      ],
      "metadata": {
        "id": "99H7vedKLsiA"
      }
    },
    {
      "cell_type": "code",
      "source": [
        "# 학습한 Embedding 파라미터를 파일에 써서 저장합니다. \n",
        "index_to_word = {index:word for word, index in word_to_index.items()}\n",
        "word_to_index={word:index for index, word in index_to_word.items()}\n",
        "word2vec_file_path = '/content/drive/MyDrive/word2vec.txt'\n",
        "f = open(word2vec_file_path, 'w')\n",
        "f.write('{} {}\\n'.format(vocab_size-4, word_vector_dim))  # 몇개의 벡터를 얼마 사이즈로 기재할지 타이틀을 씁니다.\n",
        "\n",
        "# 단어 개수(에서 특수문자 4개는 제외하고)만큼의 워드 벡터를 파일에 기록합니다. \n",
        "vectors = model2.get_weights()[0]\n",
        "for i in range(4,vocab_size):\n",
        "  f.write('{} {}\\n'.format(index_to_word[i], ' '.join(map(str, list(vectors[i, :])))))\n",
        "f.close()"
      ],
      "metadata": {
        "id": "UoKakmDM8lI3"
      },
      "execution_count": 37,
      "outputs": []
    },
    {
      "cell_type": "code",
      "source": [
        "from gensim.models.keyedvectors import Word2VecKeyedVectors\n",
        "\n",
        "word_vectors = Word2VecKeyedVectors.load_word2vec_format(word2vec_file_path, binary=False)\n",
        "vector = word_vectors['사랑']\n",
        "vector"
      ],
      "metadata": {
        "colab": {
          "base_uri": "https://localhost:8080/"
        },
        "id": "vT700hJsZDyg",
        "outputId": "4ef0e06c-d363-4228-dd8d-26a0baf5a71d"
      },
      "execution_count": 38,
      "outputs": [
        {
          "output_type": "execute_result",
          "data": {
            "text/plain": [
              "array([ 0.02937589, -0.04668761, -0.0947912 ,  0.00767936,  0.05843323,\n",
              "        0.03356896,  0.02784698, -0.10052253, -0.0651691 , -0.02464988,\n",
              "        0.06530337, -0.08576927,  0.01302151,  0.03441633, -0.07046764,\n",
              "        0.14727192, -0.09707151, -0.02969913, -0.10394479,  0.10588142,\n",
              "        0.11786158, -0.1526451 ,  0.0290927 ,  0.09427416,  0.00069363,\n",
              "        0.06164145,  0.2362021 , -0.12186397,  0.0657955 , -0.14134865,\n",
              "       -0.092127  , -0.01817951,  0.13231273,  0.0067181 , -0.08135489,\n",
              "        0.14529142,  0.09347849,  0.08237743,  0.11492696,  0.0377064 ,\n",
              "       -0.02664603,  0.11119869, -0.10306221,  0.10109679,  0.13027954,\n",
              "       -0.04847882,  0.10329013,  0.09158485, -0.02621144,  0.17557147,\n",
              "       -0.09543051, -0.04621815,  0.15545857,  0.14638951, -0.14857325,\n",
              "        0.00755917,  0.04941008,  0.02961294,  0.03881631, -0.08254969,\n",
              "       -0.06599111,  0.04039842,  0.11393145,  0.05218324, -0.06747057,\n",
              "       -0.0589841 ,  0.0399221 , -0.08553416,  0.06125595, -0.07656974,\n",
              "        0.21527354, -0.07722141, -0.03734177, -0.15513435,  0.12255571,\n",
              "       -0.07669016, -0.10708164,  0.0796933 ,  0.15357606,  0.02533744,\n",
              "       -0.05203902,  0.16202952,  0.00508032,  0.11687039,  0.14290904,\n",
              "        0.17441717, -0.19956014, -0.03929405,  0.01190644,  0.10819578,\n",
              "        0.09358143,  0.27899104,  0.01429695,  0.05603952,  0.01330475,\n",
              "       -0.14285538, -0.04074004, -0.11346637, -0.06445625, -0.04629344],\n",
              "      dtype=float32)"
            ]
          },
          "metadata": {},
          "execution_count": 38
        }
      ]
    },
    {
      "cell_type": "code",
      "source": [
        "!pip install gensim"
      ],
      "metadata": {
        "colab": {
          "base_uri": "https://localhost:8080/"
        },
        "id": "KtSUV57FUsPi",
        "outputId": "5d067ff4-7339-4988-b025-072fc89985c7"
      },
      "execution_count": 39,
      "outputs": [
        {
          "output_type": "stream",
          "name": "stdout",
          "text": [
            "Looking in indexes: https://pypi.org/simple, https://us-python.pkg.dev/colab-wheels/public/simple/\n",
            "Requirement already satisfied: gensim in /usr/local/lib/python3.7/dist-packages (3.6.0)\n",
            "Requirement already satisfied: six>=1.5.0 in /usr/local/lib/python3.7/dist-packages (from gensim) (1.15.0)\n",
            "Requirement already satisfied: smart-open>=1.2.1 in /usr/local/lib/python3.7/dist-packages (from gensim) (5.2.1)\n",
            "Requirement already satisfied: scipy>=0.18.1 in /usr/local/lib/python3.7/dist-packages (from gensim) (1.7.3)\n",
            "Requirement already satisfied: numpy>=1.11.3 in /usr/local/lib/python3.7/dist-packages (from gensim) (1.21.6)\n"
          ]
        }
      ]
    },
    {
      "cell_type": "code",
      "source": [
        "word_vectors.similar_by_word(\"사랑\")"
      ],
      "metadata": {
        "colab": {
          "base_uri": "https://localhost:8080/"
        },
        "id": "IgjKoLhTLfKz",
        "outputId": "6a083b0b-443a-4381-baaf-02fb953b7451"
      },
      "execution_count": 40,
      "outputs": [
        {
          "output_type": "execute_result",
          "data": {
            "text/plain": [
              "[('스콧', 0.8465864062309265),\n",
              " ('귓가', 0.8168860077857971),\n",
              " ('준다면', 0.8121400475502014),\n",
              " ('강렬', 0.8079788088798523),\n",
              " ('짠', 0.8052635192871094),\n",
              " ('훌륭', 0.8034086227416992),\n",
              " ('네티즌', 0.8004252910614014),\n",
              " ('디테일', 0.8000178337097168),\n",
              " ('아름다운', 0.7959952354431152),\n",
              " ('한꺼번에', 0.7955772280693054)]"
            ]
          },
          "metadata": {},
          "execution_count": 40
        }
      ]
    },
    {
      "cell_type": "code",
      "source": [
        "from gensim.models.keyedvectors import Word2VecKeyedVectors\n",
        "word2vec_file_path1 = '/content/drive/MyDrive/word2vec(kor)/word2vec_ko.model'\n",
        "word_vectors1 = Word2VecKeyedVectors.load_word2vec_format(word2vec_file_path1, binary=False)\n",
        "vector1 = word_vectors1.wv['사랑']\n",
        "vector1"
      ],
      "metadata": {
        "colab": {
          "base_uri": "https://localhost:8080/"
        },
        "id": "sSbItPcECCXN",
        "outputId": "84768b08-d1d0-43ec-bdf0-9a1111bc0fac"
      },
      "execution_count": 41,
      "outputs": [
        {
          "output_type": "stream",
          "name": "stderr",
          "text": [
            "/usr/local/lib/python3.7/dist-packages/ipykernel_launcher.py:4: DeprecationWarning: Call to deprecated `wv` (Attribute will be removed in 4.0.0, use self instead).\n",
            "  after removing the cwd from sys.path.\n"
          ]
        },
        {
          "output_type": "execute_result",
          "data": {
            "text/plain": [
              "array([ 0.02530968,  0.05852872,  0.08988379, -0.14168385, -0.08940731,\n",
              "       -0.15185645,  0.10761441, -0.05632664, -0.18238729, -0.14914452,\n",
              "        0.07174833, -0.1472937 , -0.0054911 , -0.12119484, -0.01314659,\n",
              "        0.1407486 ,  0.15253563,  0.03373742,  0.16463675, -0.01106343,\n",
              "        0.07673444, -0.11160018, -0.04351185,  0.12755266,  0.18100742,\n",
              "       -0.17174454, -0.22629628,  0.03327921,  0.03827739, -0.11863233,\n",
              "        0.02637341,  0.04085022,  0.22652847,  0.16345575,  0.01043751,\n",
              "        0.14025016,  0.07280126, -0.04691   , -0.02013588, -0.10701713,\n",
              "       -0.079561  , -0.1755658 ,  0.10289974, -0.06251051, -0.03072437,\n",
              "       -0.00822033,  0.09061726,  0.08657675, -0.08914933, -0.06724706,\n",
              "       -0.09252636, -0.1589538 , -0.13363229, -0.04384868, -0.05100388,\n",
              "        0.06497974,  0.00966329, -0.00313258,  0.07813603, -0.11148603,\n",
              "        0.03293246,  0.14905268,  0.09778181, -0.176283  , -0.18993294,\n",
              "        0.05779038,  0.08356206,  0.0297687 , -0.07800542, -0.01915493,\n",
              "       -0.02833415,  0.07835771,  0.05799539, -0.22853918,  0.00332413,\n",
              "        0.10203376,  0.03013691, -0.12710848, -0.14154942, -0.11408737,\n",
              "       -0.12461118,  0.11243488,  0.16955037, -0.01990519,  0.11980188,\n",
              "       -0.13688135, -0.12163357,  0.21238445, -0.13804428, -0.14846255,\n",
              "        0.17665152, -0.20662408,  0.07368269, -0.08221854, -0.13989972,\n",
              "       -0.11161096,  0.0562197 ,  0.01988802, -0.03538845,  0.02228765],\n",
              "      dtype=float32)"
            ]
          },
          "metadata": {},
          "execution_count": 41
        }
      ]
    },
    {
      "cell_type": "code",
      "source": [
        "word_vectors1.similar_by_word(\"사랑\")"
      ],
      "metadata": {
        "colab": {
          "base_uri": "https://localhost:8080/"
        },
        "id": "qfQcNktgCCRX",
        "outputId": "de867723-3539-475b-9247-41ac8aab1597"
      },
      "execution_count": 42,
      "outputs": [
        {
          "output_type": "execute_result",
          "data": {
            "text/plain": [
              "[('깊', 0.8771204948425293),\n",
              " ('시즌', 0.8445206880569458),\n",
              " ('릿', 0.8442276120185852),\n",
              " ('100', 0.844045877456665),\n",
              " ('주행', 0.8333005309104919),\n",
              " ('저런', 0.8233494162559509),\n",
              " ('느꼈', 0.8167331218719482),\n",
              " ('떠서', 0.8108041286468506),\n",
              " ('생각나', 0.8091479539871216),\n",
              " ('졌으면', 0.8072594404220581)]"
            ]
          },
          "metadata": {},
          "execution_count": 42
        }
      ]
    },
    {
      "cell_type": "code",
      "source": [
        "import numpy as np\n",
        "#word_to_index = model2.get_word_index()\n",
        "vocab_size = 10000    # 어휘 사전의 크기입니다(10,000개의 단어)\n",
        "word_vector_dim = 100  # 워드 벡터의 차원수\n",
        "embedding_matrix = np.random.rand(vocab_size, word_vector_dim)\n",
        "\n",
        "# embedding_matrix에 Word2Vec 워드 벡터를 단어 하나씩마다 차례차례 카피한다.\n",
        "for i in range(4,vocab_size):\n",
        "    if index_to_word[i] in word_vectors.wv:\n",
        "        embedding_matrix[i] = word_vectors.wv[index_to_word[i]]"
      ],
      "metadata": {
        "colab": {
          "base_uri": "https://localhost:8080/"
        },
        "id": "VkX27FNpLjQh",
        "outputId": "f28744e5-c4cd-49bd-f73c-b62260081788"
      },
      "execution_count": 43,
      "outputs": [
        {
          "output_type": "stream",
          "name": "stderr",
          "text": [
            "/usr/local/lib/python3.7/dist-packages/ipykernel_launcher.py:9: DeprecationWarning: Call to deprecated `wv` (Attribute will be removed in 4.0.0, use self instead).\n",
            "  if __name__ == '__main__':\n",
            "/usr/local/lib/python3.7/dist-packages/ipykernel_launcher.py:10: DeprecationWarning: Call to deprecated `wv` (Attribute will be removed in 4.0.0, use self instead).\n",
            "  # Remove the CWD from sys.path while we load stuff.\n"
          ]
        }
      ]
    },
    {
      "cell_type": "code",
      "source": [
        "from tensorflow.keras.initializers import Constant\n",
        "\n",
        "vocab_size = 10000    # 어휘 사전의 크기입니다(10,000개의 단어)\n",
        "word_vector_dim = 100  # 워드 벡터의 차원 수 \n",
        "\n",
        "# 모델 구성\n",
        "model4 = tf.keras.Sequential()\n",
        "model4.add(tf.keras.layers.Embedding(vocab_size, \n",
        "                                 word_vector_dim, \n",
        "                                 embeddings_initializer=Constant(embedding_matrix),  # 카피한 임베딩을 여기서 활용\n",
        "                                 input_length=maxlen, \n",
        "                                 trainable=True))   # trainable을 True로 주면 Fine-tuning\n",
        "model4.add(tf.keras.layers.Conv1D(16, 7, activation='relu'))\n",
        "model4.add(tf.keras.layers.MaxPooling1D(5))\n",
        "model4.add(tf.keras.layers.Conv1D(16, 7, activation='relu'))\n",
        "model4.add(tf.keras.layers.GlobalMaxPooling1D())\n",
        "model4.add(tf.keras.layers.Dense(8, activation='relu'))\n",
        "model4.add(tf.keras.layers.Dense(1, activation='sigmoid')) \n",
        "\n",
        "model4.summary()"
      ],
      "metadata": {
        "colab": {
          "base_uri": "https://localhost:8080/"
        },
        "id": "smzmZ8H9LjIi",
        "outputId": "b7efffac-a4e5-40b5-fc1e-c248ced45879"
      },
      "execution_count": 44,
      "outputs": [
        {
          "output_type": "stream",
          "name": "stdout",
          "text": [
            "Model: \"sequential_3\"\n",
            "_________________________________________________________________\n",
            " Layer (type)                Output Shape              Param #   \n",
            "=================================================================\n",
            " embedding_3 (Embedding)     (None, 41, 100)           1000000   \n",
            "                                                                 \n",
            " conv1d_2 (Conv1D)           (None, 35, 16)            11216     \n",
            "                                                                 \n",
            " max_pooling1d_1 (MaxPooling  (None, 7, 16)            0         \n",
            " 1D)                                                             \n",
            "                                                                 \n",
            " conv1d_3 (Conv1D)           (None, 1, 16)             1808      \n",
            "                                                                 \n",
            " global_max_pooling1d_2 (Glo  (None, 16)               0         \n",
            " balMaxPooling1D)                                                \n",
            "                                                                 \n",
            " dense_6 (Dense)             (None, 8)                 136       \n",
            "                                                                 \n",
            " dense_7 (Dense)             (None, 1)                 9         \n",
            "                                                                 \n",
            "=================================================================\n",
            "Total params: 1,013,169\n",
            "Trainable params: 1,013,169\n",
            "Non-trainable params: 0\n",
            "_________________________________________________________________\n"
          ]
        }
      ]
    },
    {
      "cell_type": "code",
      "source": [
        "from tensorflow.keras.initializers import Constant\n",
        "\n",
        "vocab_size = 10000    # 어휘 사전의 크기입니다(10,000개의 단어)\n",
        "word_vector_dim = 100  # 워드 벡터의 차원 수 \n",
        "\n",
        "# 모델 구성\n",
        "model5 = tf.keras.Sequential()\n",
        "model5.add(tf.keras.layers.Embedding(vocab_size, \n",
        "                                 word_vector_dim, \n",
        "                                 embeddings_initializer=Constant(embedding_matrix),  # 카피한 임베딩을 여기서 활용\n",
        "                                 input_length=maxlen, \n",
        "                                 trainable=True))   # trainable을 True로 주면 Fine-tuning\n",
        "model5 = tf.keras.Sequential()\n",
        "model5.add(tf.keras.layers.Embedding(vocab_size, word_vector_dim, input_shape=(None,)))\n",
        "model5.add(tf.keras.layers.LSTM(256))   # 가장 널리 쓰이는 RNN인 LSTM 레이어를 사용하였습니다. 이때 LSTM state 벡터의 차원수는 8로 하였습니다. (변경 가능)\n",
        "#model5.add(tf.keras.layers.Dense(8, activation='relu'))\n",
        "model5.add(tf.keras.layers.Dense(1, activation='sigmoid'))  # 최종 출력은 긍정/부정을 나타내는 1dim 입니다.\n",
        "model5.summary()"
      ],
      "metadata": {
        "colab": {
          "base_uri": "https://localhost:8080/"
        },
        "id": "OF5tYpgYs2IY",
        "outputId": "d89c3517-0006-489f-d67b-2ee4915170b9"
      },
      "execution_count": 45,
      "outputs": [
        {
          "output_type": "stream",
          "name": "stdout",
          "text": [
            "Model: \"sequential_5\"\n",
            "_________________________________________________________________\n",
            " Layer (type)                Output Shape              Param #   \n",
            "=================================================================\n",
            " embedding_5 (Embedding)     (None, None, 100)         1000000   \n",
            "                                                                 \n",
            " lstm_1 (LSTM)               (None, 256)               365568    \n",
            "                                                                 \n",
            " dense_8 (Dense)             (None, 1)                 257       \n",
            "                                                                 \n",
            "=================================================================\n",
            "Total params: 1,365,825\n",
            "Trainable params: 1,365,825\n",
            "Non-trainable params: 0\n",
            "_________________________________________________________________\n"
          ]
        }
      ]
    },
    {
      "cell_type": "code",
      "source": [
        "from tensorflow.keras.initializers import Constant\n",
        "import tensorflow as tf\n",
        "vocab_size = 10000    # 어휘 사전의 크기입니다(10,000개의 단어)\n",
        "word_vector_dim = 100  # 워드 벡터의 차원 수 \n",
        "\n",
        "# 모델 구성\n",
        "model6 = tf.keras.Sequential()\n",
        "model6.add(tf.keras.layers.Embedding(vocab_size, \n",
        "                                 word_vector_dim, \n",
        "                                 embeddings_initializer=Constant(embedding_matrix),  # 카피한 임베딩을 여기서 활용\n",
        "                                 input_length=maxlen, \n",
        "                                 trainable=True))   # trainable을 True로 주면 Fine-tuning\n",
        "model6 = tf.keras.Sequential()\n",
        "model6.add(tf.keras.layers.Embedding(vocab_size, word_vector_dim, input_shape=(None,)))\n",
        "model6.add(tf.keras.layers.Conv1D(16, 7, activation='relu'))\n",
        "model6.add(tf.keras.layers.MaxPooling1D(5))\n",
        "model6.add(tf.keras.layers.Conv1D(16, 7, activation='relu'))\n",
        "model6.add(tf.keras.layers.GlobalMaxPooling1D())\n",
        "model6.add(tf.keras.layers.Dense(8, activation='relu'))\n",
        "model6.add(tf.keras.layers.Dense(1, activation='sigmoid'))  # 최종 출력은 긍정/부정을 나타내는 1dim 입니다.\n",
        "model6.summary()"
      ],
      "metadata": {
        "colab": {
          "base_uri": "https://localhost:8080/"
        },
        "id": "0zbnXCPbtA3_",
        "outputId": "49b5667d-dde3-4e42-9e11-2262857b19a6"
      },
      "execution_count": 46,
      "outputs": [
        {
          "output_type": "stream",
          "name": "stdout",
          "text": [
            "Model: \"sequential_7\"\n",
            "_________________________________________________________________\n",
            " Layer (type)                Output Shape              Param #   \n",
            "=================================================================\n",
            " embedding_7 (Embedding)     (None, None, 100)         1000000   \n",
            "                                                                 \n",
            " conv1d_4 (Conv1D)           (None, None, 16)          11216     \n",
            "                                                                 \n",
            " max_pooling1d_2 (MaxPooling  (None, None, 16)         0         \n",
            " 1D)                                                             \n",
            "                                                                 \n",
            " conv1d_5 (Conv1D)           (None, None, 16)          1808      \n",
            "                                                                 \n",
            " global_max_pooling1d_3 (Glo  (None, 16)               0         \n",
            " balMaxPooling1D)                                                \n",
            "                                                                 \n",
            " dense_9 (Dense)             (None, 8)                 136       \n",
            "                                                                 \n",
            " dense_10 (Dense)            (None, 1)                 9         \n",
            "                                                                 \n",
            "=================================================================\n",
            "Total params: 1,013,169\n",
            "Trainable params: 1,013,169\n",
            "Non-trainable params: 0\n",
            "_________________________________________________________________\n"
          ]
        }
      ]
    },
    {
      "cell_type": "code",
      "source": [
        "# 학습의 진행\n",
        "model4.compile(optimizer='adam',\n",
        "              loss='binary_crossentropy',\n",
        "              metrics=['accuracy'])\n",
        "              \n",
        "epochs=5  # 몇 epoch를 훈련하면 좋을지 결과를 보면서 바꾸어 봅시다. \n",
        "\n",
        "history = model4.fit(partial_X_train,\n",
        "                    partial_y_train,\n",
        "                    epochs=epochs,\n",
        "                    batch_size=512,\n",
        "                    validation_data=(x_val, y_val),\n",
        "                    verbose=1)"
      ],
      "metadata": {
        "colab": {
          "base_uri": "https://localhost:8080/"
        },
        "id": "-KiKyRBLLmUE",
        "outputId": "cd9e477d-19d1-4c69-b4af-415a273f5e74"
      },
      "execution_count": 47,
      "outputs": [
        {
          "output_type": "stream",
          "name": "stdout",
          "text": [
            "Epoch 1/5\n",
            "266/266 [==============================] - 2s 6ms/step - loss: 0.3891 - accuracy: 0.8285 - val_loss: 0.3462 - val_accuracy: 0.8517\n",
            "Epoch 2/5\n",
            "266/266 [==============================] - 2s 6ms/step - loss: 0.2778 - accuracy: 0.8880 - val_loss: 0.3472 - val_accuracy: 0.8541\n",
            "Epoch 3/5\n",
            "266/266 [==============================] - 2s 6ms/step - loss: 0.2406 - accuracy: 0.9068 - val_loss: 0.3552 - val_accuracy: 0.8510\n",
            "Epoch 4/5\n",
            "266/266 [==============================] - 1s 6ms/step - loss: 0.2098 - accuracy: 0.9213 - val_loss: 0.3760 - val_accuracy: 0.8530\n",
            "Epoch 5/5\n",
            "266/266 [==============================] - 1s 6ms/step - loss: 0.1765 - accuracy: 0.9369 - val_loss: 0.4099 - val_accuracy: 0.8480\n"
          ]
        }
      ]
    },
    {
      "cell_type": "code",
      "source": [
        "# 학습의 진행\n",
        "model5.compile(optimizer='adam',\n",
        "              loss='binary_crossentropy',\n",
        "              metrics=['accuracy'])\n",
        "              \n",
        "epochs=5 # 몇 epoch를 훈련하면 좋을지 결과를 보면서 바꾸어 봅시다. \n",
        "\n",
        "history = model5.fit(partial_X_train,\n",
        "                    partial_y_train,\n",
        "                    epochs=epochs,\n",
        "                    batch_size=512,\n",
        "                    validation_data=(x_val, y_val),\n",
        "                    verbose=1)"
      ],
      "metadata": {
        "colab": {
          "base_uri": "https://localhost:8080/"
        },
        "id": "hrD3uXc7tGQZ",
        "outputId": "a7e131c9-b58b-4bfa-fa10-5db2b1d6b1d7"
      },
      "execution_count": 48,
      "outputs": [
        {
          "output_type": "stream",
          "name": "stdout",
          "text": [
            "Epoch 1/5\n",
            "266/266 [==============================] - 8s 23ms/step - loss: 0.4099 - accuracy: 0.8098 - val_loss: 0.3406 - val_accuracy: 0.8497\n",
            "Epoch 2/5\n",
            "266/266 [==============================] - 6s 21ms/step - loss: 0.3194 - accuracy: 0.8640 - val_loss: 0.3273 - val_accuracy: 0.8539\n",
            "Epoch 3/5\n",
            "266/266 [==============================] - 6s 21ms/step - loss: 0.2844 - accuracy: 0.8799 - val_loss: 0.3166 - val_accuracy: 0.8609\n",
            "Epoch 4/5\n",
            "266/266 [==============================] - 6s 21ms/step - loss: 0.2562 - accuracy: 0.8937 - val_loss: 0.3218 - val_accuracy: 0.8641\n",
            "Epoch 5/5\n",
            "266/266 [==============================] - 6s 21ms/step - loss: 0.2318 - accuracy: 0.9051 - val_loss: 0.3334 - val_accuracy: 0.8581\n"
          ]
        }
      ]
    },
    {
      "cell_type": "code",
      "source": [
        "# 학습의 진행\n",
        "model6.compile(optimizer='adam',\n",
        "              loss='binary_crossentropy',\n",
        "              metrics=['accuracy'])\n",
        "              \n",
        "epochs=5  # 몇 epoch를 훈련하면 좋을지 결과를 보면서 바꾸어 봅시다. \n",
        "\n",
        "history = model6.fit(partial_X_train,\n",
        "                    partial_y_train,\n",
        "                    epochs=epochs,\n",
        "                    batch_size=512,\n",
        "                    validation_data=(x_val, y_val),\n",
        "                    verbose=1)"
      ],
      "metadata": {
        "colab": {
          "base_uri": "https://localhost:8080/"
        },
        "id": "HFruJS85tGH0",
        "outputId": "1ad237eb-d9c5-4ef3-8ba2-2a1a42390837"
      },
      "execution_count": 49,
      "outputs": [
        {
          "output_type": "stream",
          "name": "stdout",
          "text": [
            "Epoch 1/5\n",
            "266/266 [==============================] - 2s 6ms/step - loss: 0.4430 - accuracy: 0.7919 - val_loss: 0.3372 - val_accuracy: 0.8554\n",
            "Epoch 2/5\n",
            "266/266 [==============================] - 2s 6ms/step - loss: 0.3066 - accuracy: 0.8708 - val_loss: 0.3292 - val_accuracy: 0.8554\n",
            "Epoch 3/5\n",
            "266/266 [==============================] - 2s 6ms/step - loss: 0.2583 - accuracy: 0.8953 - val_loss: 0.3348 - val_accuracy: 0.8565\n",
            "Epoch 4/5\n",
            "266/266 [==============================] - 2s 6ms/step - loss: 0.2025 - accuracy: 0.9232 - val_loss: 0.3621 - val_accuracy: 0.8560\n",
            "Epoch 5/5\n",
            "266/266 [==============================] - 1s 6ms/step - loss: 0.1436 - accuracy: 0.9491 - val_loss: 0.4100 - val_accuracy: 0.8519\n"
          ]
        }
      ]
    },
    {
      "cell_type": "code",
      "source": [
        "# 테스트셋을 통한 모델 평가\n",
        "results = model4.evaluate(X_test,  y_test, verbose=2)\n",
        "\n",
        "print(results)"
      ],
      "metadata": {
        "colab": {
          "base_uri": "https://localhost:8080/"
        },
        "id": "f3O0uDmVLo4a",
        "outputId": "2ccca8e0-9948-4b73-8a52-7507054a1086"
      },
      "execution_count": 50,
      "outputs": [
        {
          "output_type": "stream",
          "name": "stdout",
          "text": [
            "1537/1537 - 3s - loss: 0.4195 - accuracy: 0.8419 - 3s/epoch - 2ms/step\n",
            "[0.41946670413017273, 0.841853678226471]\n"
          ]
        }
      ]
    },
    {
      "cell_type": "code",
      "source": [
        "# 테스트셋을 통한 모델 평가\n",
        "results = model5.evaluate(X_test,  y_test, verbose=2)\n",
        "\n",
        "print(results)"
      ],
      "metadata": {
        "colab": {
          "base_uri": "https://localhost:8080/"
        },
        "id": "nfJAeymetPcc",
        "outputId": "3f75ed8a-087b-408b-b6fa-c0951ad37873"
      },
      "execution_count": 51,
      "outputs": [
        {
          "output_type": "stream",
          "name": "stdout",
          "text": [
            "1537/1537 - 4s - loss: 0.3414 - accuracy: 0.8566 - 4s/epoch - 3ms/step\n",
            "[0.3414194881916046, 0.85658198595047]\n"
          ]
        }
      ]
    },
    {
      "cell_type": "code",
      "source": [
        "# 테스트셋을 통한 모델 평가\n",
        "results = model6.evaluate(X_test,  y_test, verbose=2)\n",
        "\n",
        "print(results)"
      ],
      "metadata": {
        "colab": {
          "base_uri": "https://localhost:8080/"
        },
        "id": "Ty89p4gXtPjH",
        "outputId": "df60a2dc-0740-4a80-862f-997dc9c2ddf3"
      },
      "execution_count": 52,
      "outputs": [
        {
          "output_type": "stream",
          "name": "stdout",
          "text": [
            "1537/1537 - 3s - loss: 0.4196 - accuracy: 0.8483 - 3s/epoch - 2ms/step\n",
            "[0.4195839762687683, 0.8483023643493652]\n"
          ]
        }
      ]
    },
    {
      "cell_type": "markdown",
      "source": [
        "한국어 Word2Vec은 /data 폴더 안에 있는 word2vec_ko.model을 활용하세요.\n",
        "\n",
        "\n",
        "한국어 Word2Vec을 활용할 때는 load_word2vec_format() 형태가 아닌 load() 형태로 모델을 불러와주세요. 또한 모델을 활용할 때에는 아래 예시와 같이 .wv를 붙여서 활용합니다. 좀더 자세한 활용법에 대해선 다음 링크들을 참조해주세요. \n",
        "\n",
        "참고 링크1 : https://radimrehurek.com/gensim/auto_examples/tutorials/run_word2vec.html#storing-and-loading-models\n",
        "\n",
        "참고 링크2 :https://radimrehurek.com/gensim/models/keyedvectors.html"
      ],
      "metadata": {
        "id": "LrPXHGNUvHBj"
      }
    },
    {
      "cell_type": "markdown",
      "source": [
        "#결론\n",
        "\n",
        "이번 프로젝트에서는 네이버 영화리뷰 데이터를 받아와서 감성분석을 해보는 프로젝트를 진행해보았습니다.\n",
        "\n",
        "각각 3개의 모델을 구성하여 결과를 출력해보았고.\n",
        "word2vec임베딩을 이용하여 하나의 키워드를 지정하면 그에 맞는 관련 키워드를 출력해보고 자체학습 혹은 사전학습된 임베딩 레이어를 분석 해보았습니다.\n",
        "\n"
      ],
      "metadata": {
        "id": "vUxM3Ok8Gwl_"
      }
    },
    {
      "cell_type": "markdown",
      "source": [
        "# 회고\n",
        "\n",
        "---\n",
        "\n",
        "\n",
        "\n",
        "## - 이번 프로젝트에서 어려웠던 점\n",
        "\n",
        "이번 프로젝트에서 어려웠던 점은 데이터 자체 전처리가 많아서 까다로웠습니다 그리고 모델구성도 다양하게 구성해보아야했고 텍스트 스트링을 인덱스 스트링으로 변환하는 부분도 쉽지 않았습니다. 그리고 한국어 데이터셋을 받아올 때 LMS와 다르게 데이터를 로드하는 방법이 달랐고 이번 학습은 런타임을 GPU를 이용하여 돌렸을 때 오류가 발생하는 이슈도 있었습니다.\n",
        "\n",
        "그리고 사전학습되지 않은 word2vec과 사전학습이된 word2vec에 같은 키워드를 할당했을 때 사전학습이 된 것의 결과물이 키워드와 연관성이 높은 단어들이 많이 추출되었습니다.\n",
        "\n",
        "\n",
        "---\n",
        "\n",
        "\n",
        "## - 프로젝트를 진행하면서 알게된 점\n",
        "- 이번에 프로젝트를 진행하면서 런타임을 GPU로 설정하면  모델 학습이 되지 않는 이슈가 있었는데 아래의 코드를 실행해주면 정상적으로 진행이 되고 \n",
        "!pip install tensorflow==2.8\n",
        "!apt install --allow-change-held-packages libcudnn8=8.1.0.77-1+cuda11.2\n",
        "\n",
        "\n",
        "- 에포크를 많이 지정할수록 학습의 결과가 좋다고 생각했었는데 이번에는 많이 학습을 시킬수록 다시 학습률이 떨어지는 경우가 발생해서 적당한 에포크 수를 지정해주는 것이 좋다는 것을 알았습니다.\n",
        "\n",
        "- 이번에는 훈련데이터셋을 분리할 때 패딩을 post가 아닌 pre로 설정해주었는데 저번 프로젝트에서는 post가 이론과는 다르게 pre패딩보다 결과가 좋았었는데\n",
        "이번에는 pre로 설정해주었더니 전반적으로 post보다 학습결과가 조금 더 좋게 나왔습니다.\n",
        "\n",
        "---\n",
        "\n",
        "\n",
        "## - 루브릭 평가지표를 맞추기 위해 시도한 것들\n",
        "\n",
        "- 학습데이터 패딩을 pre, post등으로 바꾸어서 학습성능을 비교해보았습니다.\n",
        "\n",
        "- 네이버 영화리뷰 데이터 감성분석 정확도를 85%이상 달성하기 위해 배치사이즈를 조절해보았고 모델 5번에서 LSTM의 입력값을 늘려주었고 아래쪽의 Dense층의 활성화 함수가 relu함수인 층을 제거해보고 돌려보았습니다.\n",
        "\n",
        "- 20에포크 기준으로 가장 정확도가 높았던 에포크를 찾아보았고 그에 맞게 에포크를 조절해주었습니다\n",
        "\n",
        "---\n",
        "\n",
        "\n",
        "## - 자기다짐\n",
        "\n",
        "- 아직 데이터 전처리 부분이나 코드적인 이해가 많이 부족한듯하여 목요일마다 진행중인 캐글필사를 좀 더 적극적으로 해보아야겠다고 생각했습니다.\n",
        "\n",
        "- 모델학습 전에 데이터를 뜯어보는 습관을 가져야 할 것 같다고 생각했습니다.\n",
        "\n",
        "- 모델의 파라미터만 조절해서 학습성능을 올리기보다는 이제는 모델의 구조도 만져보는 시도를 해보아야 할 것 같다고 생각했습니다.\n",
        "\n"
      ],
      "metadata": {
        "id": "d7u421NOGwvg"
      }
    }
  ]
}