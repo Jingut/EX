{
  "nbformat": 4,
  "nbformat_minor": 0,
  "metadata": {
    "colab": {
      "provenance": [],
      "collapsed_sections": [],
      "machine_shape": "hm",
      "mount_file_id": "1up6LUCBN2VSyCw9yxwhE8yaSqyPoP4g7",
      "authorship_tag": "ABX9TyOO9w/n5HkvC+dO9UBwyalp",
      "include_colab_link": true
    },
    "kernelspec": {
      "name": "python3",
      "display_name": "Python 3"
    },
    "language_info": {
      "name": "python"
    },
    "accelerator": "GPU",
    "gpuClass": "standard"
  },
  "cells": [
    {
      "cell_type": "markdown",
      "metadata": {
        "id": "view-in-github",
        "colab_type": "text"
      },
      "source": [
        "<a href=\"https://colab.research.google.com/github/Jingut/EX/blob/main/Exp_12.ipynb\" target=\"_parent\"><img src=\"https://colab.research.google.com/assets/colab-badge.svg\" alt=\"Open In Colab\"/></a>"
      ]
    },
    {
      "cell_type": "code",
      "source": [
        "!pip install version"
      ],
      "metadata": {
        "colab": {
          "base_uri": "https://localhost:8080/"
        },
        "id": "bKYu9A9ythBc",
        "outputId": "9678fff9-3f42-45aa-a67e-dba6c0c39611"
      },
      "execution_count": 1,
      "outputs": [
        {
          "output_type": "stream",
          "name": "stdout",
          "text": [
            "Looking in indexes: https://pypi.org/simple, https://us-python.pkg.dev/colab-wheels/public/simple/\n",
            "Requirement already satisfied: version in /usr/local/lib/python3.7/dist-packages (0.1.0)\n"
          ]
        }
      ]
    },
    {
      "cell_type": "code",
      "source": [
        "!pip install importlib"
      ],
      "metadata": {
        "colab": {
          "base_uri": "https://localhost:8080/"
        },
        "id": "2gCKX8nXtn_z",
        "outputId": "935ef875-482d-40d5-930a-a0c501c20594"
      },
      "execution_count": 2,
      "outputs": [
        {
          "output_type": "stream",
          "name": "stdout",
          "text": [
            "Looking in indexes: https://pypi.org/simple, https://us-python.pkg.dev/colab-wheels/public/simple/\n",
            "Requirement already satisfied: importlib in /usr/local/lib/python3.7/dist-packages (1.0.4)\n"
          ]
        }
      ]
    },
    {
      "cell_type": "code",
      "source": [
        "!pip install summa"
      ],
      "metadata": {
        "colab": {
          "base_uri": "https://localhost:8080/"
        },
        "id": "QyzP2raauBEK",
        "outputId": "bec19607-9849-40c3-cc1d-5f2292ee10e3"
      },
      "execution_count": 3,
      "outputs": [
        {
          "output_type": "stream",
          "name": "stdout",
          "text": [
            "Looking in indexes: https://pypi.org/simple, https://us-python.pkg.dev/colab-wheels/public/simple/\n",
            "Requirement already satisfied: summa in /usr/local/lib/python3.7/dist-packages (1.2.0)\n",
            "Requirement already satisfied: scipy>=0.19 in /usr/local/lib/python3.7/dist-packages (from summa) (1.7.3)\n",
            "Requirement already satisfied: numpy<1.23.0,>=1.16.5 in /usr/local/lib/python3.7/dist-packages (from scipy>=0.19->summa) (1.21.6)\n"
          ]
        }
      ]
    },
    {
      "cell_type": "code",
      "execution_count": 4,
      "metadata": {
        "colab": {
          "base_uri": "https://localhost:8080/"
        },
        "id": "1OPdwL7Islmw",
        "outputId": "8dd82f16-6b72-4789-a790-4ba537f15560"
      },
      "outputs": [
        {
          "output_type": "stream",
          "name": "stderr",
          "text": [
            "[nltk_data] Downloading package stopwords to /root/nltk_data...\n",
            "[nltk_data]   Package stopwords is already up-to-date!\n"
          ]
        }
      ],
      "source": [
        "import nltk\n",
        "nltk.download('stopwords')  # NLTK 패키지에서 불용어 사전 다운로드\n",
        "\n",
        "import numpy as np\n",
        "import pandas as pd\n",
        "import os\n",
        "import re\n",
        "import matplotlib.pyplot as plt\n",
        "from nltk.corpus import stopwords\n",
        "from bs4 import BeautifulSoup \n",
        "from tensorflow.keras.preprocessing.text import Tokenizer \n",
        "from tensorflow.keras.preprocessing.sequence import pad_sequences\n",
        "import urllib.request"
      ]
    },
    {
      "cell_type": "markdown",
      "source": [
        "#Step 1. 데이터 수집하기\n",
        "데이터는 아래 링크에 있는 뉴스 기사 데이터(news_summary_more.csv)를 사용하세요.\n",
        "\n",
        "[sunnysai12345/News_Summary](https://github.com/sunnysai12345/News_Summary)\n",
        "아래의 코드로 데이터를 다운로드할 수 있어요.\n",
        "\n"
      ],
      "metadata": {
        "id": "5FP6ToQ6uNe9"
      }
    },
    {
      "cell_type": "code",
      "source": [
        "import urllib.request\n",
        "urllib.request.urlretrieve(\"https://raw.githubusercontent.com/sunnysai12345/News_Summary/master/news_summary_more.csv\", filename=\"news_summary_more.csv\")\n",
        "data = pd.read_csv('news_summary_more.csv', encoding='iso-8859-1')"
      ],
      "metadata": {
        "id": "PzrociQwuXmn"
      },
      "execution_count": 5,
      "outputs": []
    },
    {
      "cell_type": "code",
      "source": [
        "data.sample(10)"
      ],
      "metadata": {
        "colab": {
          "base_uri": "https://localhost:8080/",
          "height": 363
        },
        "id": "SzvBq2sGugXg",
        "outputId": "3d27e931-5530-4869-dbb6-85cee7a1cc74"
      },
      "execution_count": 6,
      "outputs": [
        {
          "output_type": "execute_result",
          "data": {
            "text/plain": [
              "                                               headlines  \\\n",
              "81955  Ranveer gifts himself car worth over Ã¢ÂÂ¹3 c...   \n",
              "54711  Sri Lankan courts order release of 69 Indian f...   \n",
              "19287  College student rapes 11-yr-old in Gurugram ho...   \n",
              "12883  Kejriwal says Delhi will become 'gas chamber',...   \n",
              "44635  French newspaper charges men 25% more on Women...   \n",
              "71639            Gujarat government bans Blue Whale Game   \n",
              "30381  Glad we could entertain you: Kohli to Google C...   \n",
              "78681  McDonald's employee fired on dirty ice-cream m...   \n",
              "37357  Firm develops AI to detect heart attacks with ...   \n",
              "18911  Bombay HC slams cops over Bhima-Koregaon press...   \n",
              "\n",
              "                                                    text  \n",
              "81955  According to reports, actor Ranveer Singh has ...  \n",
              "54711  Courts in Sri Lanka's Jaffna and Vavuniya have...  \n",
              "19287  A 22-year-old student from a private universit...  \n",
              "12883  Amid deteriorating air quality in Delhi, Chief...  \n",
              "44635  To highlight the gender pay gap, French newspa...  \n",
              "71639  The Gujarat government on Tuesday banned the B...  \n",
              "30381  After Google CEO Sundar Pichai praised Virat K...  \n",
              "78681  A US man, who claimed to be an ex-employee of ...  \n",
              "37357  Danish software company Corti has developed an...  \n",
              "18911  The Bombay High Court on Monday slammed the Ma...  "
            ],
            "text/html": [
              "\n",
              "  <div id=\"df-4c24aa34-cc42-454f-a721-e26ca03b1f45\">\n",
              "    <div class=\"colab-df-container\">\n",
              "      <div>\n",
              "<style scoped>\n",
              "    .dataframe tbody tr th:only-of-type {\n",
              "        vertical-align: middle;\n",
              "    }\n",
              "\n",
              "    .dataframe tbody tr th {\n",
              "        vertical-align: top;\n",
              "    }\n",
              "\n",
              "    .dataframe thead th {\n",
              "        text-align: right;\n",
              "    }\n",
              "</style>\n",
              "<table border=\"1\" class=\"dataframe\">\n",
              "  <thead>\n",
              "    <tr style=\"text-align: right;\">\n",
              "      <th></th>\n",
              "      <th>headlines</th>\n",
              "      <th>text</th>\n",
              "    </tr>\n",
              "  </thead>\n",
              "  <tbody>\n",
              "    <tr>\n",
              "      <th>81955</th>\n",
              "      <td>Ranveer gifts himself car worth over Ã¢ÂÂ¹3 c...</td>\n",
              "      <td>According to reports, actor Ranveer Singh has ...</td>\n",
              "    </tr>\n",
              "    <tr>\n",
              "      <th>54711</th>\n",
              "      <td>Sri Lankan courts order release of 69 Indian f...</td>\n",
              "      <td>Courts in Sri Lanka's Jaffna and Vavuniya have...</td>\n",
              "    </tr>\n",
              "    <tr>\n",
              "      <th>19287</th>\n",
              "      <td>College student rapes 11-yr-old in Gurugram ho...</td>\n",
              "      <td>A 22-year-old student from a private universit...</td>\n",
              "    </tr>\n",
              "    <tr>\n",
              "      <th>12883</th>\n",
              "      <td>Kejriwal says Delhi will become 'gas chamber',...</td>\n",
              "      <td>Amid deteriorating air quality in Delhi, Chief...</td>\n",
              "    </tr>\n",
              "    <tr>\n",
              "      <th>44635</th>\n",
              "      <td>French newspaper charges men 25% more on Women...</td>\n",
              "      <td>To highlight the gender pay gap, French newspa...</td>\n",
              "    </tr>\n",
              "    <tr>\n",
              "      <th>71639</th>\n",
              "      <td>Gujarat government bans Blue Whale Game</td>\n",
              "      <td>The Gujarat government on Tuesday banned the B...</td>\n",
              "    </tr>\n",
              "    <tr>\n",
              "      <th>30381</th>\n",
              "      <td>Glad we could entertain you: Kohli to Google C...</td>\n",
              "      <td>After Google CEO Sundar Pichai praised Virat K...</td>\n",
              "    </tr>\n",
              "    <tr>\n",
              "      <th>78681</th>\n",
              "      <td>McDonald's employee fired on dirty ice-cream m...</td>\n",
              "      <td>A US man, who claimed to be an ex-employee of ...</td>\n",
              "    </tr>\n",
              "    <tr>\n",
              "      <th>37357</th>\n",
              "      <td>Firm develops AI to detect heart attacks with ...</td>\n",
              "      <td>Danish software company Corti has developed an...</td>\n",
              "    </tr>\n",
              "    <tr>\n",
              "      <th>18911</th>\n",
              "      <td>Bombay HC slams cops over Bhima-Koregaon press...</td>\n",
              "      <td>The Bombay High Court on Monday slammed the Ma...</td>\n",
              "    </tr>\n",
              "  </tbody>\n",
              "</table>\n",
              "</div>\n",
              "      <button class=\"colab-df-convert\" onclick=\"convertToInteractive('df-4c24aa34-cc42-454f-a721-e26ca03b1f45')\"\n",
              "              title=\"Convert this dataframe to an interactive table.\"\n",
              "              style=\"display:none;\">\n",
              "        \n",
              "  <svg xmlns=\"http://www.w3.org/2000/svg\" height=\"24px\"viewBox=\"0 0 24 24\"\n",
              "       width=\"24px\">\n",
              "    <path d=\"M0 0h24v24H0V0z\" fill=\"none\"/>\n",
              "    <path d=\"M18.56 5.44l.94 2.06.94-2.06 2.06-.94-2.06-.94-.94-2.06-.94 2.06-2.06.94zm-11 1L8.5 8.5l.94-2.06 2.06-.94-2.06-.94L8.5 2.5l-.94 2.06-2.06.94zm10 10l.94 2.06.94-2.06 2.06-.94-2.06-.94-.94-2.06-.94 2.06-2.06.94z\"/><path d=\"M17.41 7.96l-1.37-1.37c-.4-.4-.92-.59-1.43-.59-.52 0-1.04.2-1.43.59L10.3 9.45l-7.72 7.72c-.78.78-.78 2.05 0 2.83L4 21.41c.39.39.9.59 1.41.59.51 0 1.02-.2 1.41-.59l7.78-7.78 2.81-2.81c.8-.78.8-2.07 0-2.86zM5.41 20L4 18.59l7.72-7.72 1.47 1.35L5.41 20z\"/>\n",
              "  </svg>\n",
              "      </button>\n",
              "      \n",
              "  <style>\n",
              "    .colab-df-container {\n",
              "      display:flex;\n",
              "      flex-wrap:wrap;\n",
              "      gap: 12px;\n",
              "    }\n",
              "\n",
              "    .colab-df-convert {\n",
              "      background-color: #E8F0FE;\n",
              "      border: none;\n",
              "      border-radius: 50%;\n",
              "      cursor: pointer;\n",
              "      display: none;\n",
              "      fill: #1967D2;\n",
              "      height: 32px;\n",
              "      padding: 0 0 0 0;\n",
              "      width: 32px;\n",
              "    }\n",
              "\n",
              "    .colab-df-convert:hover {\n",
              "      background-color: #E2EBFA;\n",
              "      box-shadow: 0px 1px 2px rgba(60, 64, 67, 0.3), 0px 1px 3px 1px rgba(60, 64, 67, 0.15);\n",
              "      fill: #174EA6;\n",
              "    }\n",
              "\n",
              "    [theme=dark] .colab-df-convert {\n",
              "      background-color: #3B4455;\n",
              "      fill: #D2E3FC;\n",
              "    }\n",
              "\n",
              "    [theme=dark] .colab-df-convert:hover {\n",
              "      background-color: #434B5C;\n",
              "      box-shadow: 0px 1px 3px 1px rgba(0, 0, 0, 0.15);\n",
              "      filter: drop-shadow(0px 1px 2px rgba(0, 0, 0, 0.3));\n",
              "      fill: #FFFFFF;\n",
              "    }\n",
              "  </style>\n",
              "\n",
              "      <script>\n",
              "        const buttonEl =\n",
              "          document.querySelector('#df-4c24aa34-cc42-454f-a721-e26ca03b1f45 button.colab-df-convert');\n",
              "        buttonEl.style.display =\n",
              "          google.colab.kernel.accessAllowed ? 'block' : 'none';\n",
              "\n",
              "        async function convertToInteractive(key) {\n",
              "          const element = document.querySelector('#df-4c24aa34-cc42-454f-a721-e26ca03b1f45');\n",
              "          const dataTable =\n",
              "            await google.colab.kernel.invokeFunction('convertToInteractive',\n",
              "                                                     [key], {});\n",
              "          if (!dataTable) return;\n",
              "\n",
              "          const docLinkHtml = 'Like what you see? Visit the ' +\n",
              "            '<a target=\"_blank\" href=https://colab.research.google.com/notebooks/data_table.ipynb>data table notebook</a>'\n",
              "            + ' to learn more about interactive tables.';\n",
              "          element.innerHTML = '';\n",
              "          dataTable['output_type'] = 'display_data';\n",
              "          await google.colab.output.renderOutput(dataTable, element);\n",
              "          const docLink = document.createElement('div');\n",
              "          docLink.innerHTML = docLinkHtml;\n",
              "          element.appendChild(docLink);\n",
              "        }\n",
              "      </script>\n",
              "    </div>\n",
              "  </div>\n",
              "  "
            ]
          },
          "metadata": {},
          "execution_count": 6
        }
      ]
    },
    {
      "cell_type": "markdown",
      "source": [
        "이 데이터는 기사의 본문에 해당되는 text와 headlines 두 가지 열로 구성되어져 있습니다.\n",
        "\n",
        "추상적 요약을 하는 경우에는 text를 본문, headlines를 이미 요약된 데이터로 삼아서 모델을 학습할 수 있어요. 추출적 요약을 하는 경우에는 오직 text열만을 사용하세요."
      ],
      "metadata": {
        "id": "P7frr8SMukDt"
      }
    },
    {
      "cell_type": "code",
      "source": [
        "print('전체 샘플수 :', (len(data)))"
      ],
      "metadata": {
        "colab": {
          "base_uri": "https://localhost:8080/"
        },
        "id": "RdwMPwqizwNq",
        "outputId": "80cee9cb-802a-4676-b9bf-4074eaa97522"
      },
      "execution_count": 7,
      "outputs": [
        {
          "output_type": "stream",
          "name": "stdout",
          "text": [
            "전체 샘플수 : 98401\n"
          ]
        }
      ]
    },
    {
      "cell_type": "markdown",
      "source": [
        "#Step 2. 데이터 전처리하기 (추상적 요약)\n",
        "실습에서 사용된 전처리를 참고하여 각자 필요하다고 생각하는 전처리를 추가 사용하여 텍스트를 정규화 또는 정제해 보세요. 만약, 불용어 제거를 선택한다면 상대적으로 길이가 짧은 요약 데이터에 대해서도 불용어를 제거하는 것이 좋을지 고민해 보세요."
      ],
      "metadata": {
        "id": "05MQ0Q2numkH"
      }
    },
    {
      "cell_type": "code",
      "source": [
        "print('text 열에서 중복을 배제한 유일한 샘플의 수 :', data['text'].nunique())\n",
        "print('headlines 열에서 중복을 배제한 유일한 샘플의 수 :', data['headlines'].nunique())"
      ],
      "metadata": {
        "colab": {
          "base_uri": "https://localhost:8080/"
        },
        "id": "b-SDj1ZYz34x",
        "outputId": "7984f674-9aec-4918-9647-1a332b28c6b5"
      },
      "execution_count": 8,
      "outputs": [
        {
          "output_type": "stream",
          "name": "stdout",
          "text": [
            "text 열에서 중복을 배제한 유일한 샘플의 수 : 98360\n",
            "headlines 열에서 중복을 배제한 유일한 샘플의 수 : 98280\n"
          ]
        }
      ]
    },
    {
      "cell_type": "code",
      "source": [
        "# inplace=True 를 설정하면 DataFrame 타입 값을 return 하지 않고 data 내부를 직접적으로 바꿉니다\n",
        "data.drop_duplicates(subset = ['text'], inplace=True)# 중복처리할 열을 입력받으면 알아서 중복데이터를 없애준다.\n",
        "print('전체 샘플수 :', (len(data)))"
      ],
      "metadata": {
        "colab": {
          "base_uri": "https://localhost:8080/"
        },
        "id": "5USrpDq4z32u",
        "outputId": "6b51256e-92a8-4f4d-c345-fbba20113eec"
      },
      "execution_count": 9,
      "outputs": [
        {
          "output_type": "stream",
          "name": "stdout",
          "text": [
            "전체 샘플수 : 98360\n"
          ]
        }
      ]
    },
    {
      "cell_type": "code",
      "source": [
        "data.isnull().sum()# print(data.isnull().sum())"
      ],
      "metadata": {
        "colab": {
          "base_uri": "https://localhost:8080/"
        },
        "id": "8ROEXrlM0Af2",
        "outputId": "bd267670-6e10-4647-e5ef-aa6d4fd55f16"
      },
      "execution_count": 10,
      "outputs": [
        {
          "output_type": "execute_result",
          "data": {
            "text/plain": [
              "headlines    0\n",
              "text         0\n",
              "dtype: int64"
            ]
          },
          "metadata": {},
          "execution_count": 10
        }
      ]
    },
    {
      "cell_type": "code",
      "source": [
        "data.dropna(axis=0, inplace=True)\n",
        "print('전체 샘플수 :', (len(data)))"
      ],
      "metadata": {
        "colab": {
          "base_uri": "https://localhost:8080/"
        },
        "id": "fsSJUDt81G-x",
        "outputId": "5118cfce-a967-4197-8b4a-cc0c71cde512"
      },
      "execution_count": 11,
      "outputs": [
        {
          "output_type": "stream",
          "name": "stdout",
          "text": [
            "전체 샘플수 : 98360\n"
          ]
        }
      ]
    },
    {
      "cell_type": "markdown",
      "source": [
        "#텍스트 정규화와 불용어 제거\n",
        "살아남은 88,425개의 샘플에는 수많은 단어들이 있어요. 그런데 사실 그 단어들 중에서는 같은 의미인데도 다른 표현으로 쓰여 마치 다른 단어들처럼 간주되는 경우가 있어요.\n",
        "\n",
        "예를 들어서 it'll은 it will과 같고, mustn't과 must not은 사실 같은 표현이죠. 이런 경우 기계가 굳이 이들을 마치 다른 단어로 간주하게 해서 연산량을 늘리는 것보다는 기계 학습 전에 미리 같은 표현으로 통일시켜주는 것이 기계의 연산량을 줄일 수 있는 방법이에요.\n",
        "\n",
        "이러한 방법론을 텍스트 처리에서는 텍스트 정규화(text normalization) 라고 해요."
      ],
      "metadata": {
        "id": "yRSDm2V41PBF"
      }
    },
    {
      "cell_type": "code",
      "source": [
        "contractions = {\"isn't\": \"is not\", \"aren't\": \"are not\",\"can't\": \"cannot\", \"'cause\": \"because\", \"could've\": \"could have\", \"couldn't\": \"could not\",\n",
        "                           \"didn't\": \"did not\",  \"doesn't\": \"does not\", \"don't\": \"do not\", \"hadn't\": \"had not\", \"hasn't\": \"has not\", \"haven't\": \"have not\",\n",
        "                           \"he'd\": \"he would\",\"he'll\": \"he will\", \"he's\": \"he is\", \"how'd\": \"how did\", \"how'd'y\": \"how do you\", \"how'll\": \"how will\", \"how's\": \"how is\",\n",
        "                           \"I'd\": \"I would\", \"I'd've\": \"I would have\", \"I'll\": \"I will\", \"I'll've\": \"I will have\",\"I'm\": \"I am\", \"I've\": \"I have\", \"i'd\": \"i would\",\n",
        "                           \"i'd've\": \"i would have\", \"i'll\": \"i will\",  \"i'll've\": \"i will have\",\"i'm\": \"i am\", \"i've\": \"i have\", \"isn't\": \"is not\", \"it'd\": \"it would\",\n",
        "                           \"it'd've\": \"it would have\", \"it'll\": \"it will\", \"it'll've\": \"it will have\",\"it's\": \"it is\", \"let's\": \"let us\", \"ma'am\": \"madam\",\n",
        "                           \"mayn't\": \"may not\", \"might've\": \"might have\",\"mightn't\": \"might not\",\"mightn't've\": \"might not have\", \"must've\": \"must have\",\n",
        "                           \"mustn't\": \"must not\", \"mustn't've\": \"must not have\", \"needn't\": \"need not\", \"needn't've\": \"need not have\",\"o'clock\": \"of the clock\",\n",
        "                           \"oughtn't\": \"ought not\", \"oughtn't've\": \"ought not have\", \"shan't\": \"shall not\", \"sha'n't\": \"shall not\", \"shan't've\": \"shall not have\",\n",
        "                           \"she'd\": \"she would\", \"she'd've\": \"she would have\", \"she'll\": \"she will\", \"she'll've\": \"she will have\", \"she's\": \"she is\",\n",
        "                           \"should've\": \"should have\", \"shouldn't\": \"should not\", \"shouldn't've\": \"should not have\", \"so've\": \"so have\",\"so's\": \"so as\",\n",
        "                           \"this's\": \"this is\",\"that'd\": \"that would\", \"that'd've\": \"that would have\", \"that's\": \"that is\", \"there'd\": \"there would\",\n",
        "                           \"there'd've\": \"there would have\", \"there's\": \"there is\", \"here's\": \"here is\",\"they'd\": \"they would\", \"they'd've\": \"they would have\",\n",
        "                           \"they'll\": \"they will\", \"they'll've\": \"they will have\", \"they're\": \"they are\", \"they've\": \"they have\", \"to've\": \"to have\",\n",
        "                           \"wasn't\": \"was not\", \"we'd\": \"we would\", \"we'd've\": \"we would have\", \"we'll\": \"we will\", \"we'll've\": \"we will have\", \"we're\": \"we are\",\n",
        "                           \"we've\": \"we have\", \"weren't\": \"were not\", \"what'll\": \"what will\", \"what'll've\": \"what will have\", \"what're\": \"what are\",\n",
        "                           \"what's\": \"what is\", \"what've\": \"what have\", \"when's\": \"when is\", \"when've\": \"when have\", \"where'd\": \"where did\", \"where's\": \"where is\",\n",
        "                           \"where've\": \"where have\", \"who'll\": \"who will\", \"who'll've\": \"who will have\", \"who's\": \"who is\", \"who've\": \"who have\",\n",
        "                           \"why's\": \"why is\", \"why've\": \"why have\", \"will've\": \"will have\", \"won't\": \"will not\", \"won't've\": \"will not have\",\n",
        "                           \"would've\": \"would have\", \"wouldn't\": \"would not\", \"wouldn't've\": \"would not have\", \"y'all\": \"you all\",\n",
        "                           \"y'all'd\": \"you all would\",\"y'all'd've\": \"you all would have\",\"y'all're\": \"you all are\",\"y'all've\": \"you all have\",\n",
        "                           \"you'd\": \"you would\", \"you'd've\": \"you would have\", \"you'll\": \"you will\", \"you'll've\": \"you will have\",\n",
        "                           \"you're\": \"you are\", \"you've\": \"you have\"}\n",
        "\n",
        "print(\"정규화 사전의 수: \", len(contractions))"
      ],
      "metadata": {
        "colab": {
          "base_uri": "https://localhost:8080/"
        },
        "id": "yJA-ST_11KtS",
        "outputId": "4ac56deb-41e2-458a-e5f3-0c6bac4d0b87"
      },
      "execution_count": 12,
      "outputs": [
        {
          "output_type": "stream",
          "name": "stdout",
          "text": [
            "정규화 사전의 수:  119\n"
          ]
        }
      ]
    },
    {
      "cell_type": "code",
      "source": [
        "print('불용어 개수 :', len(stopwords.words('english') ))\n",
        "print(stopwords.words('english'))"
      ],
      "metadata": {
        "colab": {
          "base_uri": "https://localhost:8080/"
        },
        "id": "QKqdj7pe1TuH",
        "outputId": "c62a5292-f792-4444-c2ae-184d172d0d57"
      },
      "execution_count": 13,
      "outputs": [
        {
          "output_type": "stream",
          "name": "stdout",
          "text": [
            "불용어 개수 : 179\n",
            "['i', 'me', 'my', 'myself', 'we', 'our', 'ours', 'ourselves', 'you', \"you're\", \"you've\", \"you'll\", \"you'd\", 'your', 'yours', 'yourself', 'yourselves', 'he', 'him', 'his', 'himself', 'she', \"she's\", 'her', 'hers', 'herself', 'it', \"it's\", 'its', 'itself', 'they', 'them', 'their', 'theirs', 'themselves', 'what', 'which', 'who', 'whom', 'this', 'that', \"that'll\", 'these', 'those', 'am', 'is', 'are', 'was', 'were', 'be', 'been', 'being', 'have', 'has', 'had', 'having', 'do', 'does', 'did', 'doing', 'a', 'an', 'the', 'and', 'but', 'if', 'or', 'because', 'as', 'until', 'while', 'of', 'at', 'by', 'for', 'with', 'about', 'against', 'between', 'into', 'through', 'during', 'before', 'after', 'above', 'below', 'to', 'from', 'up', 'down', 'in', 'out', 'on', 'off', 'over', 'under', 'again', 'further', 'then', 'once', 'here', 'there', 'when', 'where', 'why', 'how', 'all', 'any', 'both', 'each', 'few', 'more', 'most', 'other', 'some', 'such', 'no', 'nor', 'not', 'only', 'own', 'same', 'so', 'than', 'too', 'very', 's', 't', 'can', 'will', 'just', 'don', \"don't\", 'should', \"should've\", 'now', 'd', 'll', 'm', 'o', 're', 've', 'y', 'ain', 'aren', \"aren't\", 'couldn', \"couldn't\", 'didn', \"didn't\", 'doesn', \"doesn't\", 'hadn', \"hadn't\", 'hasn', \"hasn't\", 'haven', \"haven't\", 'isn', \"isn't\", 'ma', 'mightn', \"mightn't\", 'mustn', \"mustn't\", 'needn', \"needn't\", 'shan', \"shan't\", 'shouldn', \"shouldn't\", 'wasn', \"wasn't\", 'weren', \"weren't\", 'won', \"won't\", 'wouldn', \"wouldn't\"]\n"
          ]
        }
      ]
    },
    {
      "cell_type": "code",
      "source": [
        "# 데이터 전처리 함수\n",
        "def preprocess_sentence(sentence, remove_stopwords=True):\n",
        "    sentence = sentence.lower() # 텍스트 소문자화\n",
        "    sentence = BeautifulSoup(sentence, \"lxml\").text # <br />, <a href = ...> 등의 html 태그 제거\n",
        "    sentence = re.sub(r'\\([^)]*\\)', '', sentence) # 괄호로 닫힌 문자열 (...) 제거 Ex) my husband (and myself!) for => my husband for\n",
        "    sentence = re.sub('\"','', sentence) # 쌍따옴표 \" 제거\n",
        "    sentence = ' '.join([contractions[t] if t in contractions else t for t in sentence.split(\" \")]) # 약어 정규화\n",
        "    sentence = re.sub(r\"'s\\b\",\"\", sentence) # 소유격 제거. Ex) roland's -> roland\n",
        "    sentence = re.sub(\"[^a-zA-Z]\", \" \", sentence) # 영어 외 문자(숫자, 특수문자 등) 공백으로 변환\n",
        "    sentence = re.sub('[m]{2,}', 'mm', sentence) # m이 3개 이상이면 2개로 변경. Ex) ummmmmmm yeah -> umm yeah\n",
        "    \n",
        "    # 불용어 제거 (Text)\n",
        "    if remove_stopwords:\n",
        "        tokens = ' '.join(word for word in sentence.split() if not word in stopwords.words('english') if len(word) > 1)\n",
        "    # 불용어 미제거 (Summary)\n",
        "    else:\n",
        "        tokens = ' '.join(word for word in sentence.split() if len(word) > 1)\n",
        "    return tokens"
      ],
      "metadata": {
        "id": "cgukljaG1XH2"
      },
      "execution_count": 14,
      "outputs": []
    },
    {
      "cell_type": "code",
      "source": [
        "clean_text = []\n",
        "# 전체 Text 데이터에 대한 전처리 : 10분 이상 시간이 걸릴 수 있습니다. \n",
        "for s in data['text']:\n",
        "    clean_text.append(preprocess_sentence(s))\n",
        "\n",
        "# 전처리 후 출력\n",
        "print(\"Text 전처리 후 결과: \", clean_text[:5])"
      ],
      "metadata": {
        "colab": {
          "base_uri": "https://localhost:8080/"
        },
        "id": "2hOr4_Uk1dET",
        "outputId": "d337711b-650e-464b-cfc3-1a0252be366e"
      },
      "execution_count": 15,
      "outputs": [
        {
          "output_type": "stream",
          "name": "stdout",
          "text": [
            "Text 전처리 후 결과:  ['saurav kant alumnus upgrad iiit pg program machine learning artificial intelligence sr systems engineer infosys almost years work experience program upgrad degree career support helped transition data scientist tech mahindra salary hike upgrad online power learning powered lakh careers', 'kunal shah credit card bill payment platform cred gave users chance win free food swiggy one year pranav kaushik delhi techie bagged reward spending cred coins users get one cred coin per rupee bill paid used avail rewards brands like ixigo bookmyshow ubereats cult fit', 'new zealand defeated india wickets fourth odi hamilton thursday win first match five match odi series india lost international match rohit sharma captaincy consecutive victories dating back march match witnessed india getting seventh lowest total odi cricket history', 'aegon life iterm insurance plan customers enjoy tax benefits premiums paid save taxes plan provides life cover age years also customers options insure critical illnesses disability accidental death benefit rider life cover age years', 'speaking sexual harassment allegations rajkumar hirani sonam kapoor said known hirani many years true metoo movement get derailed metoo movement always believe woman case need reserve judgment added hirani accused assistant worked sanju']\n"
          ]
        }
      ]
    },
    {
      "cell_type": "code",
      "source": [
        "clean_headlines = []\n",
        "# 전체 Summary 데이터에 대한 전처리 : 5분 이상 시간이 걸릴 수 있습니다. \n",
        "for s in data['headlines']:\n",
        "    clean_headlines.append(preprocess_sentence(s, False))\n",
        "\n",
        "print(\"headlines 전처리 후 결과: \", clean_headlines[:5])"
      ],
      "metadata": {
        "colab": {
          "base_uri": "https://localhost:8080/"
        },
        "id": "AeUUW7bS1t_I",
        "outputId": "a128961a-4263-47d5-cd9d-cf04167a55fb"
      },
      "execution_count": 16,
      "outputs": [
        {
          "output_type": "stream",
          "name": "stdout",
          "text": [
            "headlines 전처리 후 결과:  ['upgrad learner switches to career in ml al with salary hike', 'delhi techie wins free food from swiggy for one year on cred', 'new zealand end rohit sharma led india match winning streak', 'aegon life iterm insurance plan helps customers save tax', 'have known hirani for yrs what if metoo claims are not true sonam']\n"
          ]
        }
      ]
    },
    {
      "cell_type": "code",
      "source": [
        "data['text'] = clean_text\n",
        "data['headlines'] = clean_headlines\n",
        "\n",
        "# 빈 값을 Null 값으로 변환\n",
        "data.replace('', np.nan, inplace=True)"
      ],
      "metadata": {
        "id": "ubQfbEVQ1x8P"
      },
      "execution_count": 17,
      "outputs": []
    },
    {
      "cell_type": "code",
      "source": [
        "data.isnull().sum()"
      ],
      "metadata": {
        "colab": {
          "base_uri": "https://localhost:8080/"
        },
        "id": "eJdAKjWc12L3",
        "outputId": "a5ca5375-c163-4981-8fc6-287b8b50810e"
      },
      "execution_count": 18,
      "outputs": [
        {
          "output_type": "execute_result",
          "data": {
            "text/plain": [
              "headlines    0\n",
              "text         0\n",
              "dtype: int64"
            ]
          },
          "metadata": {},
          "execution_count": 18
        }
      ]
    },
    {
      "cell_type": "code",
      "source": [
        "data.dropna(axis=0, inplace=True)\n",
        "print('전체 샘플수 :', (len(data)))"
      ],
      "metadata": {
        "colab": {
          "base_uri": "https://localhost:8080/"
        },
        "id": "Ll6wfjOx13vE",
        "outputId": "b9dae7e4-2528-4f18-c7dd-89c8e141f8e6"
      },
      "execution_count": 19,
      "outputs": [
        {
          "output_type": "stream",
          "name": "stdout",
          "text": [
            "전체 샘플수 : 98360\n"
          ]
        }
      ]
    },
    {
      "cell_type": "code",
      "source": [
        "# 길이 분포 출력\n",
        "import matplotlib.pyplot as plt\n",
        "\n",
        "text_len = [len(s.split()) for s in data['text']]\n",
        "headlines_len = [len(s.split()) for s in data['headlines']]\n",
        "\n",
        "print('텍스트의 최소 길이 : {}'.format(np.min(text_len)))\n",
        "print('텍스트의 최대 길이 : {}'.format(np.max(text_len)))\n",
        "print('텍스트의 평균 길이 : {}'.format(np.mean(text_len)))\n",
        "print('요약의 최소 길이 : {}'.format(np.min(headlines_len)))\n",
        "print('요약의 최대 길이 : {}'.format(np.max(headlines_len)))\n",
        "print('요약의 평균 길이 : {}'.format(np.mean(headlines_len)))\n",
        "\n",
        "plt.subplot(1,2,1)\n",
        "plt.boxplot(text_len)\n",
        "plt.title('text')\n",
        "plt.subplot(1,2,2)\n",
        "plt.boxplot(headlines_len)\n",
        "plt.title('headlines')\n",
        "plt.tight_layout()\n",
        "plt.show()\n",
        "\n",
        "plt.title('text')\n",
        "plt.hist(text_len, bins = 40)\n",
        "plt.xlabel('length of samples')\n",
        "plt.ylabel('number of samples')\n",
        "plt.show()\n",
        "\n",
        "plt.title('headlines')\n",
        "plt.hist(headlines_len, bins = 40)\n",
        "plt.xlabel('length of samples')\n",
        "plt.ylabel('number of samples')\n",
        "plt.show()"
      ],
      "metadata": {
        "colab": {
          "base_uri": "https://localhost:8080/",
          "height": 960
        },
        "id": "C4B4FGZS1691",
        "outputId": "b81e747e-f1b4-4fb3-853e-ff135b6d8182"
      },
      "execution_count": 20,
      "outputs": [
        {
          "output_type": "stream",
          "name": "stdout",
          "text": [
            "텍스트의 최소 길이 : 1\n",
            "텍스트의 최대 길이 : 60\n",
            "텍스트의 평균 길이 : 35.09968483123221\n",
            "요약의 최소 길이 : 1\n",
            "요약의 최대 길이 : 16\n",
            "요약의 평균 길이 : 9.299532330215534\n"
          ]
        },
        {
          "output_type": "display_data",
          "data": {
            "text/plain": [
              "<Figure size 432x288 with 2 Axes>"
            ],
            "image/png": "[encoded data removed]"
          },
          "metadata": {
            "needs_background": "light"
          }
        },
        {
          "output_type": "display_data",
          "data": {
            "text/plain": [
              "<Figure size 432x288 with 1 Axes>"
            ],
            "image/png": "[encoded data removed]"
          },
          "metadata": {
            "needs_background": "light"
          }
        },
        {
          "output_type": "display_data",
          "data": {
            "text/plain": [
              "<Figure size 432x288 with 1 Axes>"
            ],
            "image/png": "[encoded data removed]"
          },
          "metadata": {
            "needs_background": "light"
          }
        }
      ]
    },
    {
      "cell_type": "code",
      "source": [
        "text_max_len = 35\n",
        "headlines_max_len = 11# 익스에선 위에 그래프값 보고 바꾸어줘야함"
      ],
      "metadata": {
        "id": "iVza0ggA1_Ig"
      },
      "execution_count": 21,
      "outputs": []
    },
    {
      "cell_type": "code",
      "source": [
        "def below_threshold_len(max_len, nested_list):\n",
        "  cnt = 0\n",
        "  for s in nested_list:\n",
        "    if(len(s.split()) <= max_len):\n",
        "        cnt = cnt + 1\n",
        "  print('전체 샘플 중 길이가 %s 이하인 샘플의 비율: %s'%(max_len, (cnt / len(nested_list))))"
      ],
      "metadata": {
        "id": "RUnoP3Wm2CZX"
      },
      "execution_count": 22,
      "outputs": []
    },
    {
      "cell_type": "code",
      "source": [
        "below_threshold_len(text_max_len, data['text'])\n",
        "below_threshold_len(headlines_max_len,  data['headlines'])"
      ],
      "metadata": {
        "colab": {
          "base_uri": "https://localhost:8080/"
        },
        "id": "2JwPIAV82GtY",
        "outputId": "1bdb2eac-5aea-4dec-f20e-b3b34d4ef02c"
      },
      "execution_count": 23,
      "outputs": [
        {
          "output_type": "stream",
          "name": "stdout",
          "text": [
            "전체 샘플 중 길이가 35 이하인 샘플의 비율: 0.5412464416429443\n",
            "전체 샘플 중 길이가 11 이하인 샘플의 비율: 0.9449877999186661\n"
          ]
        }
      ]
    },
    {
      "cell_type": "code",
      "source": [
        "data = data[data['text'].apply(lambda x: len(x.split()) <= text_max_len)]\n",
        "data = data[data['headlines'].apply(lambda x: len(x.split()) <= headlines_max_len)]\n",
        "print('전체 샘플수 :', (len(data)))"
      ],
      "metadata": {
        "colab": {
          "base_uri": "https://localhost:8080/"
        },
        "id": "SZDazbTV2GrT",
        "outputId": "cc7a6a4b-164e-4499-ff71-50e504156100"
      },
      "execution_count": 24,
      "outputs": [
        {
          "output_type": "stream",
          "name": "stdout",
          "text": [
            "전체 샘플수 : 49969\n"
          ]
        }
      ]
    },
    {
      "cell_type": "code",
      "source": [
        "# 요약 데이터에는 시작 토큰과 종료 토큰을 추가한다.\n",
        "data['decoder_input'] = data['headlines'].apply(lambda x : 'sostoken '+ x)\n",
        "data['decoder_target'] = data['headlines'].apply(lambda x : x + ' eostoken')\n",
        "data.head()"
      ],
      "metadata": {
        "colab": {
          "base_uri": "https://localhost:8080/",
          "height": 420
        },
        "id": "PMy-fxCR2Got",
        "outputId": "3f87f173-b60d-4360-b08b-07ea51d4aa18"
      },
      "execution_count": 25,
      "outputs": [
        {
          "output_type": "stream",
          "name": "stderr",
          "text": [
            "/usr/local/lib/python3.7/dist-packages/ipykernel_launcher.py:2: SettingWithCopyWarning: \n",
            "A value is trying to be set on a copy of a slice from a DataFrame.\n",
            "Try using .loc[row_indexer,col_indexer] = value instead\n",
            "\n",
            "See the caveats in the documentation: https://pandas.pydata.org/pandas-docs/stable/user_guide/indexing.html#returning-a-view-versus-a-copy\n",
            "  \n",
            "/usr/local/lib/python3.7/dist-packages/ipykernel_launcher.py:3: SettingWithCopyWarning: \n",
            "A value is trying to be set on a copy of a slice from a DataFrame.\n",
            "Try using .loc[row_indexer,col_indexer] = value instead\n",
            "\n",
            "See the caveats in the documentation: https://pandas.pydata.org/pandas-docs/stable/user_guide/indexing.html#returning-a-view-versus-a-copy\n",
            "  This is separate from the ipykernel package so we can avoid doing imports until\n"
          ]
        },
        {
          "output_type": "execute_result",
          "data": {
            "text/plain": [
              "                                           headlines  \\\n",
              "3  aegon life iterm insurance plan helps customer...   \n",
              "5  rahat fateh ali khan denies getting notice for...   \n",
              "7  govt directs alok verma to join work day befor...   \n",
              "8  called pm modi sir times to satisfy his ego an...   \n",
              "9  cong wins ramgarh bypoll in rajasthan takes to...   \n",
              "\n",
              "                                                text  \\\n",
              "3  aegon life iterm insurance plan customers enjo...   \n",
              "5  pakistani singer rahat fateh ali khan denied r...   \n",
              "7  weeks ex cbi director alok verma told departme...   \n",
              "8  andhra pradesh cm chandrababu naidu said met u...   \n",
              "9  congress candidate shafia zubair ramgarh assem...   \n",
              "\n",
              "                                       decoder_input  \\\n",
              "3  sostoken aegon life iterm insurance plan helps...   \n",
              "5  sostoken rahat fateh ali khan denies getting n...   \n",
              "7  sostoken govt directs alok verma to join work ...   \n",
              "8  sostoken called pm modi sir times to satisfy h...   \n",
              "9  sostoken cong wins ramgarh bypoll in rajasthan...   \n",
              "\n",
              "                                      decoder_target  \n",
              "3  aegon life iterm insurance plan helps customer...  \n",
              "5  rahat fateh ali khan denies getting notice for...  \n",
              "7  govt directs alok verma to join work day befor...  \n",
              "8  called pm modi sir times to satisfy his ego an...  \n",
              "9  cong wins ramgarh bypoll in rajasthan takes to...  "
            ],
            "text/html": [
              "\n",
              "  <div id=\"df-285f0abb-2ed0-49c6-9f83-31512f7c09d1\">\n",
              "    <div class=\"colab-df-container\">\n",
              "      <div>\n",
              "<style scoped>\n",
              "    .dataframe tbody tr th:only-of-type {\n",
              "        vertical-align: middle;\n",
              "    }\n",
              "\n",
              "    .dataframe tbody tr th {\n",
              "        vertical-align: top;\n",
              "    }\n",
              "\n",
              "    .dataframe thead th {\n",
              "        text-align: right;\n",
              "    }\n",
              "</style>\n",
              "<table border=\"1\" class=\"dataframe\">\n",
              "  <thead>\n",
              "    <tr style=\"text-align: right;\">\n",
              "      <th></th>\n",
              "      <th>headlines</th>\n",
              "      <th>text</th>\n",
              "      <th>decoder_input</th>\n",
              "      <th>decoder_target</th>\n",
              "    </tr>\n",
              "  </thead>\n",
              "  <tbody>\n",
              "    <tr>\n",
              "      <th>3</th>\n",
              "      <td>aegon life iterm insurance plan helps customer...</td>\n",
              "      <td>aegon life iterm insurance plan customers enjo...</td>\n",
              "      <td>sostoken aegon life iterm insurance plan helps...</td>\n",
              "      <td>aegon life iterm insurance plan helps customer...</td>\n",
              "    </tr>\n",
              "    <tr>\n",
              "      <th>5</th>\n",
              "      <td>rahat fateh ali khan denies getting notice for...</td>\n",
              "      <td>pakistani singer rahat fateh ali khan denied r...</td>\n",
              "      <td>sostoken rahat fateh ali khan denies getting n...</td>\n",
              "      <td>rahat fateh ali khan denies getting notice for...</td>\n",
              "    </tr>\n",
              "    <tr>\n",
              "      <th>7</th>\n",
              "      <td>govt directs alok verma to join work day befor...</td>\n",
              "      <td>weeks ex cbi director alok verma told departme...</td>\n",
              "      <td>sostoken govt directs alok verma to join work ...</td>\n",
              "      <td>govt directs alok verma to join work day befor...</td>\n",
              "    </tr>\n",
              "    <tr>\n",
              "      <th>8</th>\n",
              "      <td>called pm modi sir times to satisfy his ego an...</td>\n",
              "      <td>andhra pradesh cm chandrababu naidu said met u...</td>\n",
              "      <td>sostoken called pm modi sir times to satisfy h...</td>\n",
              "      <td>called pm modi sir times to satisfy his ego an...</td>\n",
              "    </tr>\n",
              "    <tr>\n",
              "      <th>9</th>\n",
              "      <td>cong wins ramgarh bypoll in rajasthan takes to...</td>\n",
              "      <td>congress candidate shafia zubair ramgarh assem...</td>\n",
              "      <td>sostoken cong wins ramgarh bypoll in rajasthan...</td>\n",
              "      <td>cong wins ramgarh bypoll in rajasthan takes to...</td>\n",
              "    </tr>\n",
              "  </tbody>\n",
              "</table>\n",
              "</div>\n",
              "      <button class=\"colab-df-convert\" onclick=\"convertToInteractive('df-285f0abb-2ed0-49c6-9f83-31512f7c09d1')\"\n",
              "              title=\"Convert this dataframe to an interactive table.\"\n",
              "              style=\"display:none;\">\n",
              "        \n",
              "  <svg xmlns=\"http://www.w3.org/2000/svg\" height=\"24px\"viewBox=\"0 0 24 24\"\n",
              "       width=\"24px\">\n",
              "    <path d=\"M0 0h24v24H0V0z\" fill=\"none\"/>\n",
              "    <path d=\"M18.56 5.44l.94 2.06.94-2.06 2.06-.94-2.06-.94-.94-2.06-.94 2.06-2.06.94zm-11 1L8.5 8.5l.94-2.06 2.06-.94-2.06-.94L8.5 2.5l-.94 2.06-2.06.94zm10 10l.94 2.06.94-2.06 2.06-.94-2.06-.94-.94-2.06-.94 2.06-2.06.94z\"/><path d=\"M17.41 7.96l-1.37-1.37c-.4-.4-.92-.59-1.43-.59-.52 0-1.04.2-1.43.59L10.3 9.45l-7.72 7.72c-.78.78-.78 2.05 0 2.83L4 21.41c.39.39.9.59 1.41.59.51 0 1.02-.2 1.41-.59l7.78-7.78 2.81-2.81c.8-.78.8-2.07 0-2.86zM5.41 20L4 18.59l7.72-7.72 1.47 1.35L5.41 20z\"/>\n",
              "  </svg>\n",
              "      </button>\n",
              "      \n",
              "  <style>\n",
              "    .colab-df-container {\n",
              "      display:flex;\n",
              "      flex-wrap:wrap;\n",
              "      gap: 12px;\n",
              "    }\n",
              "\n",
              "    .colab-df-convert {\n",
              "      background-color: #E8F0FE;\n",
              "      border: none;\n",
              "      border-radius: 50%;\n",
              "      cursor: pointer;\n",
              "      display: none;\n",
              "      fill: #1967D2;\n",
              "      height: 32px;\n",
              "      padding: 0 0 0 0;\n",
              "      width: 32px;\n",
              "    }\n",
              "\n",
              "    .colab-df-convert:hover {\n",
              "      background-color: #E2EBFA;\n",
              "      box-shadow: 0px 1px 2px rgba(60, 64, 67, 0.3), 0px 1px 3px 1px rgba(60, 64, 67, 0.15);\n",
              "      fill: #174EA6;\n",
              "    }\n",
              "\n",
              "    [theme=dark] .colab-df-convert {\n",
              "      background-color: #3B4455;\n",
              "      fill: #D2E3FC;\n",
              "    }\n",
              "\n",
              "    [theme=dark] .colab-df-convert:hover {\n",
              "      background-color: #434B5C;\n",
              "      box-shadow: 0px 1px 3px 1px rgba(0, 0, 0, 0.15);\n",
              "      filter: drop-shadow(0px 1px 2px rgba(0, 0, 0, 0.3));\n",
              "      fill: #FFFFFF;\n",
              "    }\n",
              "  </style>\n",
              "\n",
              "      <script>\n",
              "        const buttonEl =\n",
              "          document.querySelector('#df-285f0abb-2ed0-49c6-9f83-31512f7c09d1 button.colab-df-convert');\n",
              "        buttonEl.style.display =\n",
              "          google.colab.kernel.accessAllowed ? 'block' : 'none';\n",
              "\n",
              "        async function convertToInteractive(key) {\n",
              "          const element = document.querySelector('#df-285f0abb-2ed0-49c6-9f83-31512f7c09d1');\n",
              "          const dataTable =\n",
              "            await google.colab.kernel.invokeFunction('convertToInteractive',\n",
              "                                                     [key], {});\n",
              "          if (!dataTable) return;\n",
              "\n",
              "          const docLinkHtml = 'Like what you see? Visit the ' +\n",
              "            '<a target=\"_blank\" href=https://colab.research.google.com/notebooks/data_table.ipynb>data table notebook</a>'\n",
              "            + ' to learn more about interactive tables.';\n",
              "          element.innerHTML = '';\n",
              "          dataTable['output_type'] = 'display_data';\n",
              "          await google.colab.output.renderOutput(dataTable, element);\n",
              "          const docLink = document.createElement('div');\n",
              "          docLink.innerHTML = docLinkHtml;\n",
              "          element.appendChild(docLink);\n",
              "        }\n",
              "      </script>\n",
              "    </div>\n",
              "  </div>\n",
              "  "
            ]
          },
          "metadata": {},
          "execution_count": 25
        }
      ]
    },
    {
      "cell_type": "code",
      "source": [
        "encoder_input = np.array(data['text']) # 인코더의 입력\n",
        "decoder_input = np.array(data['decoder_input']) # 디코더의 입력\n",
        "decoder_target = np.array(data['decoder_target']) # 디코더의 레이블"
      ],
      "metadata": {
        "id": "ig22JzlM2RQq"
      },
      "execution_count": 26,
      "outputs": []
    },
    {
      "cell_type": "code",
      "source": [
        "indices = np.arange(encoder_input.shape[0])\n",
        "np.random.shuffle(indices)\n",
        "print(indices)"
      ],
      "metadata": {
        "colab": {
          "base_uri": "https://localhost:8080/"
        },
        "id": "tj0OyVNV2UBN",
        "outputId": "3edeccf4-8e93-4c9f-91ed-f8e06f3b27fb"
      },
      "execution_count": 27,
      "outputs": [
        {
          "output_type": "stream",
          "name": "stdout",
          "text": [
            "[41886  6344 10201 ... 35833  6512 30645]\n"
          ]
        }
      ]
    },
    {
      "cell_type": "code",
      "source": [
        "encoder_input = encoder_input[indices]\n",
        "decoder_input = decoder_input[indices]\n",
        "decoder_target = decoder_target[indices]"
      ],
      "metadata": {
        "id": "uoF0Pc5x2T_a"
      },
      "execution_count": 28,
      "outputs": []
    },
    {
      "cell_type": "code",
      "source": [
        "n_of_val = int(len(encoder_input)*0.2)\n",
        "print('테스트 데이터의 수 :', n_of_val)"
      ],
      "metadata": {
        "colab": {
          "base_uri": "https://localhost:8080/"
        },
        "id": "GcnmpEIT2T9T",
        "outputId": "2d5b52d8-f8af-4645-9972-97b1ed1551f2"
      },
      "execution_count": 29,
      "outputs": [
        {
          "output_type": "stream",
          "name": "stdout",
          "text": [
            "테스트 데이터의 수 : 9993\n"
          ]
        }
      ]
    },
    {
      "cell_type": "code",
      "source": [
        "encoder_input_train = encoder_input[:-n_of_val]\n",
        "decoder_input_train = decoder_input[:-n_of_val]\n",
        "decoder_target_train = decoder_target[:-n_of_val]\n",
        "\n",
        "encoder_input_test = encoder_input[-n_of_val:]\n",
        "decoder_input_test = decoder_input[-n_of_val:]\n",
        "decoder_target_test = decoder_target[-n_of_val:]\n",
        "\n",
        "print('훈련 데이터의 개수 :', len(encoder_input_train))\n",
        "print('훈련 레이블의 개수 :', len(decoder_input_train))\n",
        "print('테스트 데이터의 개수 :', len(encoder_input_test))\n",
        "print('테스트 레이블의 개수 :', len(decoder_input_test))"
      ],
      "metadata": {
        "colab": {
          "base_uri": "https://localhost:8080/"
        },
        "id": "CuU2WQpz2Ych",
        "outputId": "46a4c795-07ac-4848-edf5-840de33f74ab"
      },
      "execution_count": 30,
      "outputs": [
        {
          "output_type": "stream",
          "name": "stdout",
          "text": [
            "훈련 데이터의 개수 : 39976\n",
            "훈련 레이블의 개수 : 39976\n",
            "테스트 데이터의 개수 : 9993\n",
            "테스트 레이블의 개수 : 9993\n"
          ]
        }
      ]
    },
    {
      "cell_type": "code",
      "source": [
        "src_tokenizer = Tokenizer() # 토크나이저 정의\n",
        "src_tokenizer.fit_on_texts(encoder_input_train) # 입력된 데이터로부터 단어 집합 생성"
      ],
      "metadata": {
        "id": "0j05sGWA2YhN"
      },
      "execution_count": 31,
      "outputs": []
    },
    {
      "cell_type": "code",
      "source": [
        "threshold = 7\n",
        "total_cnt = len(src_tokenizer.word_index) # 단어의 수\n",
        "rare_cnt = 0 # 등장 빈도수가 threshold보다 작은 단어의 개수를 카운트\n",
        "total_freq = 0 # 훈련 데이터의 전체 단어 빈도수 총 합\n",
        "rare_freq = 0 # 등장 빈도수가 threshold보다 작은 단어의 등장 빈도수의 총 합\n",
        "\n",
        "# 단어와 빈도수의 쌍(pair)을 key와 value로 받는다.\n",
        "for key, value in src_tokenizer.word_counts.items():\n",
        "    total_freq = total_freq + value\n",
        "    \n",
        "\n",
        "    # 단어의 등장 빈도수가 threshold보다 작으면\n",
        "    if(value < threshold):\n",
        "        rare_cnt = rare_cnt + 1\n",
        "        rare_freq = rare_freq + value\n",
        "\n",
        "print('단어 집합(vocabulary)의 크기 :', total_cnt)\n",
        "print('등장 빈도가 %s번 이하인 희귀 단어의 수: %s'%(threshold - 1, rare_cnt))\n",
        "print('단어 집합에서 희귀 단어를 제외시킬 경우의 단어 집합의 크기 %s'%(total_cnt - rare_cnt))\n",
        "print(\"단어 집합에서 희귀 단어의 비율:\", (rare_cnt / total_cnt)*100)\n",
        "print(\"전체 등장 빈도에서 희귀 단어 등장 빈도 비율:\", (rare_freq / total_freq)*100)"
      ],
      "metadata": {
        "colab": {
          "base_uri": "https://localhost:8080/"
        },
        "id": "tq3bqaQw2Ymg",
        "outputId": "d5156ea9-a04e-44f3-ab50-756c0485dcdc"
      },
      "execution_count": 32,
      "outputs": [
        {
          "output_type": "stream",
          "name": "stdout",
          "text": [
            "단어 집합(vocabulary)의 크기 : 48286\n",
            "등장 빈도가 6번 이하인 희귀 단어의 수: 33491\n",
            "단어 집합에서 희귀 단어를 제외시킬 경우의 단어 집합의 크기 14795\n",
            "단어 집합에서 희귀 단어의 비율: 69.3596487594748\n",
            "전체 등장 빈도에서 희귀 단어 등장 빈도 비율: 5.349368623968464\n"
          ]
        }
      ]
    },
    {
      "cell_type": "code",
      "source": [
        "src_vocab = 20000\n",
        "src_tokenizer = Tokenizer(num_words=src_vocab) # 단어 집합의 크기를 20,000으로 제한\n",
        "src_tokenizer.fit_on_texts(encoder_input_train) # 단어 집합 재생성"
      ],
      "metadata": {
        "id": "E-4V4LHM2T6t"
      },
      "execution_count": 33,
      "outputs": []
    },
    {
      "cell_type": "code",
      "source": [
        "# 텍스트 시퀀스를 정수 시퀀스로 변환\n",
        "encoder_input_train = src_tokenizer.texts_to_sequences(encoder_input_train) \n",
        "encoder_input_test = src_tokenizer.texts_to_sequences(encoder_input_test)\n",
        "\n",
        "# 잘 진행되었는지 샘플 출력\n",
        "print(encoder_input_train[:3])"
      ],
      "metadata": {
        "colab": {
          "base_uri": "https://localhost:8080/"
        },
        "id": "H5-jtDC22mrJ",
        "outputId": "981d961a-11ef-462e-8860-a4d3cc37c5db"
      },
      "execution_count": 34,
      "outputs": [
        {
          "output_type": "stream",
          "name": "stdout",
          "text": [
            "[[435, 611, 10, 387, 289, 16192, 1450, 2361, 1563, 135, 4365, 13764, 143, 1303, 359, 243, 20, 1172, 387, 289, 1563, 1450, 804, 572, 243, 714, 4904, 1738, 3085, 243], [263, 6325, 4905, 175, 362, 361, 450, 149, 4056, 259, 1, 664, 4730, 85, 361, 259, 2, 102, 6325, 4905, 6660, 7014, 1007, 2961, 9100, 8444, 5340, 12815], [87, 3924, 1295, 8743, 60, 4, 1434, 105, 277, 42, 14, 134, 60, 154, 1320, 3464, 1, 1957, 447, 52, 14796, 31, 119, 520, 321, 7015, 1068, 2147, 252, 119, 97, 1222, 3464, 2]]\n"
          ]
        }
      ]
    },
    {
      "cell_type": "code",
      "source": [
        "tar_tokenizer = Tokenizer()\n",
        "tar_tokenizer.fit_on_texts(decoder_input_train)"
      ],
      "metadata": {
        "id": "JsDbo3rE2mwM"
      },
      "execution_count": 35,
      "outputs": []
    },
    {
      "cell_type": "code",
      "source": [
        "threshold = 6\n",
        "total_cnt = len(tar_tokenizer.word_index) # 단어의 수\n",
        "rare_cnt = 0 # 등장 빈도수가 threshold보다 작은 단어의 개수를 카운트\n",
        "total_freq = 0 # 훈련 데이터의 전체 단어 빈도수 총 합\n",
        "rare_freq = 0 # 등장 빈도수가 threshold보다 작은 단어의 등장 빈도수의 총 합\n",
        "\n",
        "# 단어와 빈도수의 쌍(pair)을 key와 value로 받는다.\n",
        "for key, value in tar_tokenizer.word_counts.items():\n",
        "    total_freq = total_freq + value\n",
        "\n",
        "    # 단어의 등장 빈도수가 threshold보다 작으면\n",
        "    if(value < threshold):\n",
        "        rare_cnt = rare_cnt + 1\n",
        "        rare_freq = rare_freq + value\n",
        "\n",
        "print('단어 집합(vocabulary)의 크기 :', total_cnt)\n",
        "print('등장 빈도가 %s번 이하인 희귀 단어의 수: %s'%(threshold - 1, rare_cnt))\n",
        "print('단어 집합에서 희귀 단어를 제외시킬 경우의 단어 집합의 크기 %s'%(total_cnt - rare_cnt))\n",
        "print(\"단어 집합에서 희귀 단어의 비율:\", (rare_cnt / total_cnt)*100)\n",
        "print(\"전체 등장 빈도에서 희귀 단어 등장 빈도 비율:\", (rare_freq / total_freq)*100)"
      ],
      "metadata": {
        "colab": {
          "base_uri": "https://localhost:8080/"
        },
        "id": "kXdGCafX2m1D",
        "outputId": "d0e204a9-ea4d-4141-e7aa-6e7426e83c3c"
      },
      "execution_count": 36,
      "outputs": [
        {
          "output_type": "stream",
          "name": "stdout",
          "text": [
            "단어 집합(vocabulary)의 크기 : 22669\n",
            "등장 빈도가 5번 이하인 희귀 단어의 수: 15646\n",
            "단어 집합에서 희귀 단어를 제외시킬 경우의 단어 집합의 크기 7023\n",
            "단어 집합에서 희귀 단어의 비율: 69.01936565353567\n",
            "전체 등장 빈도에서 희귀 단어 등장 빈도 비율: 7.352011692903276\n"
          ]
        }
      ]
    },
    {
      "cell_type": "code",
      "source": [
        "tar_vocab = 10000\n",
        "tar_tokenizer = Tokenizer(num_words=tar_vocab) \n",
        "tar_tokenizer.fit_on_texts(decoder_input_train)\n",
        "tar_tokenizer.fit_on_texts(decoder_target_train)\n",
        "\n",
        "# 텍스트 시퀀스를 정수 시퀀스로 변환\n",
        "decoder_input_train = tar_tokenizer.texts_to_sequences(decoder_input_train) \n",
        "decoder_target_train = tar_tokenizer.texts_to_sequences(decoder_target_train)\n",
        "decoder_input_test = tar_tokenizer.texts_to_sequences(decoder_input_test)\n",
        "decoder_target_test = tar_tokenizer.texts_to_sequences(decoder_target_test)\n",
        "\n",
        "# 잘 변환되었는지 확인\n",
        "print('input')\n",
        "print('input ',decoder_input_train[:5])\n",
        "print('target')\n",
        "print('decoder ',decoder_target_train[:5])"
      ],
      "metadata": {
        "colab": {
          "base_uri": "https://localhost:8080/"
        },
        "id": "KdrEuyIC2m5X",
        "outputId": "48fb474b-0df7-4a22-b593-ad0dbbfab4b7"
      },
      "execution_count": 37,
      "outputs": [
        {
          "output_type": "stream",
          "name": "stdout",
          "text": [
            "input\n",
            "input  [[1, 701, 721, 23, 3, 233, 7, 3672, 1483, 1519], [1, 13, 362, 6, 3488, 2672, 1138, 4, 242, 4, 604], [1, 979, 833, 78, 110, 16, 1082, 2256], [1, 27, 481, 497, 3489, 2483, 4, 28, 27], [1, 1725, 104, 722, 1283, 4, 1343, 6, 1374, 128]]\n",
            "target\n",
            "decoder  [[701, 721, 23, 3, 233, 7, 3672, 1483, 1519, 2], [13, 362, 6, 3488, 2672, 1138, 4, 242, 4, 604, 2], [979, 833, 78, 110, 16, 1082, 2256, 2], [27, 481, 497, 3489, 2483, 4, 28, 27, 2], [1725, 104, 722, 1283, 4, 1343, 6, 1374, 128, 2]]\n"
          ]
        }
      ]
    },
    {
      "cell_type": "code",
      "source": [
        "drop_train = [index for index, sentence in enumerate(decoder_input_train) if len(sentence) == 1]\n",
        "drop_test = [index for index, sentence in enumerate(decoder_input_test) if len(sentence) == 1]\n",
        "\n",
        "print('삭제할 훈련 데이터의 개수 :', len(drop_train))\n",
        "print('삭제할 테스트 데이터의 개수 :', len(drop_test))\n",
        "\n",
        "encoder_input_train = [sentence for index, sentence in enumerate(encoder_input_train) if index not in drop_train]\n",
        "decoder_input_train = [sentence for index, sentence in enumerate(decoder_input_train) if index not in drop_train]\n",
        "decoder_target_train = [sentence for index, sentence in enumerate(decoder_target_train) if index not in drop_train]\n",
        "\n",
        "encoder_input_test = [sentence for index, sentence in enumerate(encoder_input_test) if index not in drop_test]\n",
        "decoder_input_test = [sentence for index, sentence in enumerate(decoder_input_test) if index not in drop_test]\n",
        "decoder_target_test = [sentence for index, sentence in enumerate(decoder_target_test) if index not in drop_test]\n",
        "\n",
        "print('훈련 데이터의 개수 :', len(encoder_input_train))\n",
        "print('훈련 레이블의 개수 :', len(decoder_input_train))\n",
        "print('테스트 데이터의 개수 :', len(encoder_input_test))\n",
        "print('테스트 레이블의 개수 :', len(decoder_input_test))"
      ],
      "metadata": {
        "colab": {
          "base_uri": "https://localhost:8080/"
        },
        "id": "FGKS8Qa-2zLN",
        "outputId": "1fab9cb5-3209-4a5b-f331-249390e82ea1"
      },
      "execution_count": 38,
      "outputs": [
        {
          "output_type": "stream",
          "name": "stdout",
          "text": [
            "삭제할 훈련 데이터의 개수 : 0\n",
            "삭제할 테스트 데이터의 개수 : 0\n",
            "훈련 데이터의 개수 : 39976\n",
            "훈련 레이블의 개수 : 39976\n",
            "테스트 데이터의 개수 : 9993\n",
            "테스트 레이블의 개수 : 9993\n"
          ]
        }
      ]
    },
    {
      "cell_type": "code",
      "source": [
        "encoder_input_train = pad_sequences(encoder_input_train, maxlen=text_max_len, padding='post')\n",
        "encoder_input_test = pad_sequences(encoder_input_test, maxlen=text_max_len, padding='post')\n",
        "decoder_input_train = pad_sequences(decoder_input_train, maxlen=headlines_max_len, padding='post')\n",
        "decoder_target_train = pad_sequences(decoder_target_train, maxlen=headlines_max_len, padding='post')\n",
        "decoder_input_test = pad_sequences(decoder_input_test, maxlen=headlines_max_len, padding='post')\n",
        "decoder_target_test = pad_sequences(decoder_target_test, maxlen=headlines_max_len, padding='post')"
      ],
      "metadata": {
        "id": "X7aplhrY2zJI"
      },
      "execution_count": 39,
      "outputs": []
    },
    {
      "cell_type": "code",
      "source": [
        "from tensorflow.keras.layers import Input, LSTM, Embedding, Dense, Concatenate, TimeDistributed\n",
        "from tensorflow.keras.models import Model\n",
        "from tensorflow.keras.callbacks import EarlyStopping, ModelCheckpoint\n",
        "\n",
        "\n",
        "# 인코더 설계 시작\n",
        "embedding_dim = 128\n",
        "hidden_size = 256\n",
        "\n",
        "# 인코더\n",
        "encoder_inputs = Input(shape=(text_max_len,))\n",
        "\n",
        "# 인코더의 임베딩 층\n",
        "enc_emb = Embedding(src_vocab, embedding_dim)(encoder_inputs)\n",
        "\n",
        "# 인코더의 LSTM 1\n",
        "# encoder_lstm1 = LSTM(hidden_size, return_sequences=True, return_state=True ,dropout = 0.4, recurrent_dropout = 0.4)\n",
        "encoder_lstm1 = LSTM(hidden_size, return_sequences=True, return_state=True ,dropout = 0.4)\n",
        "encoder_output1, state_h1, state_c1 = encoder_lstm1(enc_emb)\n",
        "\n",
        "# 인코더의 LSTM 2\n",
        "# encoder_lstm2 = LSTM(hidden_size, return_sequences=True, return_state=True, dropout=0.4, recurrent_dropout=0.4)\n",
        "encoder_lstm2 = LSTM(hidden_size, return_sequences=True, return_state=True, dropout=0.4)\n",
        "encoder_output2, state_h2, state_c2 = encoder_lstm2(encoder_output1)\n",
        "\n",
        "# 인코더의 LSTM 3\n",
        "# encoder_lstm3 = LSTM(hidden_size, return_state=True, return_sequences=True, dropout=0.4, recurrent_dropout=0.4)\n",
        "encoder_lstm3 = LSTM(hidden_size, return_state=True, return_sequences=True, dropout=0.4)\n",
        "encoder_outputs, state_h, state_c= encoder_lstm3(encoder_output2)"
      ],
      "metadata": {
        "id": "QJcozNwv2zGy"
      },
      "execution_count": 40,
      "outputs": []
    },
    {
      "cell_type": "code",
      "source": [
        "# 디코더 설계\n",
        "decoder_inputs = Input(shape=(None,))\n",
        "\n",
        "# 디코더의 임베딩 층\n",
        "dec_emb_layer = Embedding(tar_vocab, embedding_dim)\n",
        "dec_emb = dec_emb_layer(decoder_inputs)\n",
        "\n",
        "# 디코더의 LSTM\n",
        "# decoder_lstm = LSTM(hidden_size, return_sequences=True, return_state=True, dropout=0.4, recurrent_dropout=0.2)\n",
        "decoder_lstm = LSTM(hidden_size, return_sequences=True, return_state=True, dropout=0.4)\n",
        "decoder_outputs, _, _ = decoder_lstm(dec_emb, initial_state=[state_h, state_c])"
      ],
      "metadata": {
        "id": "gfQP6dx02zBD"
      },
      "execution_count": 41,
      "outputs": []
    },
    {
      "cell_type": "code",
      "source": [
        "# 디코더의 출력층\n",
        "decoder_softmax_layer = Dense(tar_vocab, activation='softmax')\n",
        "decoder_softmax_outputs = decoder_softmax_layer(decoder_outputs) \n",
        "\n",
        "# 모델 정의\n",
        "model = Model([encoder_inputs, decoder_inputs], decoder_softmax_outputs)\n",
        "model.summary()"
      ],
      "metadata": {
        "colab": {
          "base_uri": "https://localhost:8080/"
        },
        "id": "XpF3wvMb2y-w",
        "outputId": "5f2bd73c-df2e-4519-d14f-a76479caa0aa"
      },
      "execution_count": 42,
      "outputs": [
        {
          "output_type": "stream",
          "name": "stdout",
          "text": [
            "Model: \"model\"\n",
            "__________________________________________________________________________________________________\n",
            " Layer (type)                   Output Shape         Param #     Connected to                     \n",
            "==================================================================================================\n",
            " input_1 (InputLayer)           [(None, 35)]         0           []                               \n",
            "                                                                                                  \n",
            " embedding (Embedding)          (None, 35, 128)      2560000     ['input_1[0][0]']                \n",
            "                                                                                                  \n",
            " lstm (LSTM)                    [(None, 35, 256),    394240      ['embedding[0][0]']              \n",
            "                                 (None, 256),                                                     \n",
            "                                 (None, 256)]                                                     \n",
            "                                                                                                  \n",
            " input_2 (InputLayer)           [(None, None)]       0           []                               \n",
            "                                                                                                  \n",
            " lstm_1 (LSTM)                  [(None, 35, 256),    525312      ['lstm[0][0]']                   \n",
            "                                 (None, 256),                                                     \n",
            "                                 (None, 256)]                                                     \n",
            "                                                                                                  \n",
            " embedding_1 (Embedding)        (None, None, 128)    1280000     ['input_2[0][0]']                \n",
            "                                                                                                  \n",
            " lstm_2 (LSTM)                  [(None, 35, 256),    525312      ['lstm_1[0][0]']                 \n",
            "                                 (None, 256),                                                     \n",
            "                                 (None, 256)]                                                     \n",
            "                                                                                                  \n",
            " lstm_3 (LSTM)                  [(None, None, 256),  394240      ['embedding_1[0][0]',            \n",
            "                                 (None, 256),                     'lstm_2[0][1]',                 \n",
            "                                 (None, 256)]                     'lstm_2[0][2]']                 \n",
            "                                                                                                  \n",
            " dense (Dense)                  (None, None, 10000)  2570000     ['lstm_3[0][0]']                 \n",
            "                                                                                                  \n",
            "==================================================================================================\n",
            "Total params: 8,249,104\n",
            "Trainable params: 8,249,104\n",
            "Non-trainable params: 0\n",
            "__________________________________________________________________________________________________\n"
          ]
        }
      ]
    },
    {
      "cell_type": "markdown",
      "source": [
        "#Step 3. 어텐션 메커니즘 사용하기 (추상적 요약)\n",
        "일반적인 seq2seq보다는 어텐션 메커니즘을 사용한 seq2seq를 사용하는 것이 더 나은 성능을 얻을 수 있어요. 실습 내용을 참고하여 어텐션 메커니즘을 사용한 seq2seq를 설계해 보세요."
      ],
      "metadata": {
        "id": "K_eqrjz0upkU"
      }
    },
    {
      "cell_type": "code",
      "source": [
        "from tensorflow.keras.layers import AdditiveAttention\n",
        "\n",
        "# 어텐션 층(어텐션 함수)\n",
        "attn_layer = AdditiveAttention(name='attention_layer')\n",
        "\n",
        "# 인코더와 디코더의 모든 time step의 hidden state를 어텐션 층에 전달하고 결과를 리턴\n",
        "attn_out = attn_layer([decoder_outputs, encoder_outputs])\n",
        "\n",
        "\n",
        "# 어텐션의 결과와 디코더의 hidden state들을 연결\n",
        "decoder_concat_input = Concatenate(axis=-1, name='concat_layer')([decoder_outputs, attn_out])\n",
        "\n",
        "# 디코더의 출력층\n",
        "decoder_softmax_layer = Dense(tar_vocab, activation='softmax')\n",
        "decoder_softmax_outputs = decoder_softmax_layer(decoder_concat_input)\n",
        "\n",
        "# 모델 정의\n",
        "model = Model([encoder_inputs, decoder_inputs], decoder_softmax_outputs)\n",
        "model.summary()"
      ],
      "metadata": {
        "colab": {
          "base_uri": "https://localhost:8080/"
        },
        "id": "RN_wMl3A3FTj",
        "outputId": "c3b35b60-05ed-4fc4-d60e-288b53e7aec3"
      },
      "execution_count": 43,
      "outputs": [
        {
          "output_type": "stream",
          "name": "stdout",
          "text": [
            "Model: \"model_1\"\n",
            "__________________________________________________________________________________________________\n",
            " Layer (type)                   Output Shape         Param #     Connected to                     \n",
            "==================================================================================================\n",
            " input_1 (InputLayer)           [(None, 35)]         0           []                               \n",
            "                                                                                                  \n",
            " embedding (Embedding)          (None, 35, 128)      2560000     ['input_1[0][0]']                \n",
            "                                                                                                  \n",
            " lstm (LSTM)                    [(None, 35, 256),    394240      ['embedding[0][0]']              \n",
            "                                 (None, 256),                                                     \n",
            "                                 (None, 256)]                                                     \n",
            "                                                                                                  \n",
            " input_2 (InputLayer)           [(None, None)]       0           []                               \n",
            "                                                                                                  \n",
            " lstm_1 (LSTM)                  [(None, 35, 256),    525312      ['lstm[0][0]']                   \n",
            "                                 (None, 256),                                                     \n",
            "                                 (None, 256)]                                                     \n",
            "                                                                                                  \n",
            " embedding_1 (Embedding)        (None, None, 128)    1280000     ['input_2[0][0]']                \n",
            "                                                                                                  \n",
            " lstm_2 (LSTM)                  [(None, 35, 256),    525312      ['lstm_1[0][0]']                 \n",
            "                                 (None, 256),                                                     \n",
            "                                 (None, 256)]                                                     \n",
            "                                                                                                  \n",
            " lstm_3 (LSTM)                  [(None, None, 256),  394240      ['embedding_1[0][0]',            \n",
            "                                 (None, 256),                     'lstm_2[0][1]',                 \n",
            "                                 (None, 256)]                     'lstm_2[0][2]']                 \n",
            "                                                                                                  \n",
            " attention_layer (AdditiveAtten  (None, None, 256)   256         ['lstm_3[0][0]',                 \n",
            " tion)                                                            'lstm_2[0][0]']                 \n",
            "                                                                                                  \n",
            " concat_layer (Concatenate)     (None, None, 512)    0           ['lstm_3[0][0]',                 \n",
            "                                                                  'attention_layer[0][0]']        \n",
            "                                                                                                  \n",
            " dense_1 (Dense)                (None, None, 10000)  5130000     ['concat_layer[0][0]']           \n",
            "                                                                                                  \n",
            "==================================================================================================\n",
            "Total params: 10,809,360\n",
            "Trainable params: 10,809,360\n",
            "Non-trainable params: 0\n",
            "__________________________________________________________________________________________________\n"
          ]
        }
      ]
    },
    {
      "cell_type": "code",
      "source": [
        "model.compile(optimizer='rmsprop', loss='sparse_categorical_crossentropy')\n",
        "es = EarlyStopping(monitor='val_loss', patience=2, verbose=1)\n",
        "history = model.fit(x=[encoder_input_train, decoder_input_train], y=decoder_target_train, \\\n",
        "          validation_data=([encoder_input_test, decoder_input_test], decoder_target_test), \\\n",
        "          batch_size=256, callbacks=[es], epochs=50)"
      ],
      "metadata": {
        "colab": {
          "base_uri": "https://localhost:8080/"
        },
        "id": "cvNs7A-L3Fdp",
        "outputId": "e2c5ac55-d8d2-4e4f-aadd-3d1835ac999e"
      },
      "execution_count": 44,
      "outputs": [
        {
          "output_type": "stream",
          "name": "stdout",
          "text": [
            "Epoch 1/50\n",
            "157/157 [==============================] - 21s 67ms/step - loss: 6.2228 - val_loss: 5.7480\n",
            "Epoch 2/50\n",
            "157/157 [==============================] - 9s 59ms/step - loss: 5.7096 - val_loss: 5.4688\n",
            "Epoch 3/50\n",
            "157/157 [==============================] - 9s 58ms/step - loss: 5.4515 - val_loss: 5.3080\n",
            "Epoch 4/50\n",
            "157/157 [==============================] - 9s 59ms/step - loss: 5.2247 - val_loss: 5.1144\n",
            "Epoch 5/50\n",
            "157/157 [==============================] - 9s 58ms/step - loss: 5.0158 - val_loss: 4.9733\n",
            "Epoch 6/50\n",
            "157/157 [==============================] - 9s 59ms/step - loss: 4.8342 - val_loss: 4.8702\n",
            "Epoch 7/50\n",
            "157/157 [==============================] - 9s 59ms/step - loss: 4.6687 - val_loss: 4.7963\n",
            "Epoch 8/50\n",
            "157/157 [==============================] - 9s 59ms/step - loss: 4.5231 - val_loss: 4.7074\n",
            "Epoch 9/50\n",
            "157/157 [==============================] - 9s 59ms/step - loss: 4.3872 - val_loss: 4.6481\n",
            "Epoch 10/50\n",
            "157/157 [==============================] - 9s 59ms/step - loss: 4.2606 - val_loss: 4.6019\n",
            "Epoch 11/50\n",
            "157/157 [==============================] - 9s 59ms/step - loss: 4.1442 - val_loss: 4.5290\n",
            "Epoch 12/50\n",
            "157/157 [==============================] - 9s 59ms/step - loss: 4.0354 - val_loss: 4.4942\n",
            "Epoch 13/50\n",
            "157/157 [==============================] - 9s 59ms/step - loss: 3.9332 - val_loss: 4.4706\n",
            "Epoch 14/50\n",
            "157/157 [==============================] - 9s 59ms/step - loss: 3.8363 - val_loss: 4.4625\n",
            "Epoch 15/50\n",
            "157/157 [==============================] - 9s 59ms/step - loss: 3.7452 - val_loss: 4.4269\n",
            "Epoch 16/50\n",
            "157/157 [==============================] - 9s 59ms/step - loss: 3.6547 - val_loss: 4.4085\n",
            "Epoch 17/50\n",
            "157/157 [==============================] - 9s 59ms/step - loss: 3.5729 - val_loss: 4.3958\n",
            "Epoch 18/50\n",
            "157/157 [==============================] - 9s 59ms/step - loss: 3.4932 - val_loss: 4.3880\n",
            "Epoch 19/50\n",
            "157/157 [==============================] - 9s 59ms/step - loss: 3.4148 - val_loss: 4.3689\n",
            "Epoch 20/50\n",
            "157/157 [==============================] - 9s 59ms/step - loss: 3.3436 - val_loss: 4.3679\n",
            "Epoch 21/50\n",
            "157/157 [==============================] - 9s 59ms/step - loss: 3.2764 - val_loss: 4.3646\n",
            "Epoch 22/50\n",
            "157/157 [==============================] - 9s 59ms/step - loss: 3.2094 - val_loss: 4.3608\n",
            "Epoch 23/50\n",
            "157/157 [==============================] - 9s 59ms/step - loss: 3.1467 - val_loss: 4.3722\n",
            "Epoch 24/50\n",
            "157/157 [==============================] - 9s 59ms/step - loss: 3.0838 - val_loss: 4.3569\n",
            "Epoch 25/50\n",
            "157/157 [==============================] - 9s 59ms/step - loss: 3.0253 - val_loss: 4.3613\n",
            "Epoch 26/50\n",
            "157/157 [==============================] - 9s 59ms/step - loss: 2.9669 - val_loss: 4.3580\n",
            "Epoch 26: early stopping\n"
          ]
        }
      ]
    },
    {
      "cell_type": "code",
      "source": [
        "plt.plot(history.history['loss'], label='train')\n",
        "plt.plot(history.history['val_loss'], label='test')\n",
        "plt.legend()\n",
        "plt.show()"
      ],
      "metadata": {
        "colab": {
          "base_uri": "https://localhost:8080/",
          "height": 265
        },
        "id": "1Cm_Fxlv3FY8",
        "outputId": "85fb93c6-85fd-4f3c-887a-a46aae048c96"
      },
      "execution_count": 45,
      "outputs": [
        {
          "output_type": "display_data",
          "data": {
            "text/plain": [
              "<Figure size 432x288 with 1 Axes>"
            ],
            "image/png": "[encoded data removed]"
          },
          "metadata": {
            "needs_background": "light"
          }
        }
      ]
    },
    {
      "cell_type": "code",
      "source": [
        "src_index_to_word = src_tokenizer.index_word # 원문 단어 집합에서 정수 -> 단어를 얻음\n",
        "tar_word_to_index = tar_tokenizer.word_index # 요약 단어 집합에서 단어 -> 정수를 얻음\n",
        "tar_index_to_word = tar_tokenizer.index_word # 요약 단어 집합에서 정수 -> 단어를 얻음"
      ],
      "metadata": {
        "id": "9BWZoFFc3ZtW"
      },
      "execution_count": 46,
      "outputs": []
    },
    {
      "cell_type": "code",
      "source": [
        "# 인코더 설계\n",
        "encoder_model = Model(inputs=encoder_inputs, outputs=[encoder_outputs, state_h, state_c])\n",
        "\n",
        "# 이전 시점의 상태들을 저장하는 텐서\n",
        "decoder_state_input_h = Input(shape=(hidden_size,))\n",
        "decoder_state_input_c = Input(shape=(hidden_size,))\n",
        "\n",
        "dec_emb2 = dec_emb_layer(decoder_inputs)\n",
        "\n",
        "# 문장의 다음 단어를 예측하기 위해서 초기 상태(initial_state)를 이전 시점의 상태로 사용. 이는 뒤의 함수 decode_sequence()에 구현\n",
        "# 훈련 과정에서와 달리 LSTM의 리턴하는 은닉 상태와 셀 상태인 state_h와 state_c를 버리지 않음.\n",
        "decoder_outputs2, state_h2, state_c2 = decoder_lstm(dec_emb2, initial_state=[decoder_state_input_h, decoder_state_input_c])"
      ],
      "metadata": {
        "id": "DYWh8ZF63ZrU"
      },
      "execution_count": 47,
      "outputs": []
    },
    {
      "cell_type": "code",
      "source": [
        "# 어텐션 함수\n",
        "decoder_hidden_state_input = Input(shape=(text_max_len, hidden_size))\n",
        "attn_out_inf = attn_layer([decoder_outputs2, decoder_hidden_state_input])\n",
        "decoder_inf_concat = Concatenate(axis=-1, name='concat')([decoder_outputs2, attn_out_inf])\n",
        "\n",
        "# 디코더의 출력층\n",
        "decoder_outputs2 = decoder_softmax_layer(decoder_inf_concat) \n",
        "\n",
        "# 최종 디코더 모델\n",
        "decoder_model = Model(\n",
        "    [decoder_inputs] + [decoder_hidden_state_input,decoder_state_input_h, decoder_state_input_c],\n",
        "    [decoder_outputs2] + [state_h2, state_c2])"
      ],
      "metadata": {
        "id": "NUBkddnB3ZpM"
      },
      "execution_count": 48,
      "outputs": []
    },
    {
      "cell_type": "code",
      "source": [
        "def decode_sequence(input_seq):\n",
        "    # 입력으로부터 인코더의 상태를 얻음\n",
        "    e_out, e_h, e_c = encoder_model.predict(input_seq)\n",
        "\n",
        "     # <SOS>에 해당하는 토큰 생성\n",
        "    target_seq = np.zeros((1,1))\n",
        "    target_seq[0, 0] = tar_word_to_index['sostoken']\n",
        "\n",
        "    stop_condition = False\n",
        "    decoded_sentence = ''\n",
        "    while not stop_condition: # stop_condition이 True가 될 때까지 루프 반복\n",
        "\n",
        "        output_tokens, h, c = decoder_model.predict([target_seq] + [e_out, e_h, e_c])\n",
        "        sampled_token_index = np.argmax(output_tokens[0, -1, :])\n",
        "        sampled_token = tar_index_to_word[sampled_token_index]\n",
        "\n",
        "        if (sampled_token!='eostoken'):\n",
        "            decoded_sentence += ' '+sampled_token\n",
        "\n",
        "        #  <eos>에 도달하거나 최대 길이를 넘으면 중단.\n",
        "        if (sampled_token == 'eostoken'  or len(decoded_sentence.split()) >= (headlines_max_len-1)):\n",
        "            stop_condition = True\n",
        "\n",
        "        # 길이가 1인 타겟 시퀀스를 업데이트\n",
        "        target_seq = np.zeros((1,1))\n",
        "        target_seq[0, 0] = sampled_token_index\n",
        "\n",
        "        # 상태를 업데이트 합니다.\n",
        "        e_h, e_c = h, c\n",
        "\n",
        "    return decoded_sentence"
      ],
      "metadata": {
        "id": "T_DguNii3Zm3"
      },
      "execution_count": 49,
      "outputs": []
    },
    {
      "cell_type": "code",
      "source": [
        "# 원문의 정수 시퀀스를 텍스트 시퀀스로 변환\n",
        "def seq2text(input_seq):\n",
        "    temp=''\n",
        "    for i in input_seq:\n",
        "        if (i!=0):\n",
        "            temp = temp + src_index_to_word[i]+' '\n",
        "    return temp\n",
        "\n",
        "# 요약문의 정수 시퀀스를 텍스트 시퀀스로 변환\n",
        "def seq2summary(input_seq):\n",
        "    temp=''\n",
        "    for i in input_seq:\n",
        "        if ((i!=0 and i!=tar_word_to_index['sostoken']) and i!=tar_word_to_index['eostoken']):\n",
        "            temp = temp + tar_index_to_word[i] + ' '\n",
        "    return temp"
      ],
      "metadata": {
        "id": "wyTUH0j8V-dN"
      },
      "execution_count": 50,
      "outputs": []
    },
    {
      "cell_type": "markdown",
      "source": [
        "#Step 4. 실제 결과와 요약문 비교하기 (추상적 요약)\n",
        "원래의 요약문(headlines 열)과 학습을 통해 얻은 추상적 요약의 결과를 비교해 보세요."
      ],
      "metadata": {
        "id": "LHuzic9yures"
      }
    },
    {
      "cell_type": "code",
      "source": [
        "for i in range(50, 100):\n",
        "    print(\"원문 :\", seq2text(encoder_input_test[i]))\n",
        "    print(\"실제 요약 :\", seq2summary(decoder_input_test[i]))\n",
        "    print(\"예측 요약 :\", decode_sequence(encoder_input_test[i].reshape(1, text_max_len)))\n",
        "    print(\"\\n\")"
      ],
      "metadata": {
        "colab": {
          "base_uri": "https://localhost:8080/"
        },
        "id": "-1aMWv9l3vIQ",
        "outputId": "32a87622-2c44-41df-80db-196e70a90be8"
      },
      "execution_count": 51,
      "outputs": [
        {
          "output_type": "stream",
          "name": "stdout",
          "text": [
            "원문 : cctv footage captured shiv sena leader vandalising eatery allegedly delaying egg order video seen beating employee baseball bat eatery located maharashtra palghar maharashtra police arrested leader eatery owner filed complaint \n",
            "실제 요약 : shiv sena leader eatery over delay in order \n",
            "예측 요약 :  shiv sena leader put on his car at delhi sena\n",
            "\n",
            "\n",
            "원문 : captains ipl franchises barring mumbai indians chennai super kings attend opening ceremony april due issues captains video shoot mumbai leave respective cities april four franchises matches next day ceremony followed csk mi match \n",
            "실제 요약 : out of team captains to miss ipl opening ceremony \n",
            "예측 요약 :  delhi players to get lakh for ipl\n",
            "\n",
            "\n",
            "원문 : one two men england rounder ben stokes punched outside nightclub bristol reportedly former british army soldier ryan hale served afghanistan stokes investigated accusations causing actual bodily harm two men stokes considered selection notice ecb said \n",
            "실제 요약 : stokes punched ex soldier during nightclub brawl reports \n",
            "예측 요약 :  former man killed in knife attack\n",
            "\n",
            "\n",
            "원문 : pride five lions attacked located gujarat district mauled cows within minutes shelters around cows calves run group locals wildlife experts said lions display aggressive behaviour surrounded panicked cattle confined areas \n",
            "실제 요약 : lions cows in gujarat \n",
            "예측 요약 :  video shows up govt collapses on kerala floods\n",
            "\n",
            "\n",
            "원문 : couple karnataka gifted helmets saplings guests wedding day something meaningful keep hearing road accidents bike riders wearing helmets hit upon idea gifting helmets would save lives families said groom shivraj \n",
            "실제 요약 : couple give saplings helmets to guests as gifts on wedding \n",
            "예측 요약 :  luru police to get wedding wedding\n",
            "\n",
            "\n",
            "원문 : tata consultancy services thursday reported increase profit crore third quarter ended december highest ever quarterly profit revenue india largest services company increased crore quarter company also revealed saw net addition employees \n",
            "실제 요약 : tcs profit rises to record cr in december quarter \n",
            "예측 요약 :  tcs profit falls up to crore in march quarter\n",
            "\n",
            "\n",
            "원문 : pakistan civil aviation authority suspended licences pilots cabin crew members various airlines holding fake educational degrees informed pakistan supreme court verification degrees airline staff completed except six officials currently abroad \n",
            "실제 요약 : pak suspends licences of pilots cabin crew over fake degrees \n",
            "예측 요약 :  pak flight suspended for using domestic flight\n",
            "\n",
            "\n",
            "원문 : tamil nadu cm edappadi palaniswami laid foundation stone square foot memorial late cm jayalalithaa chennai memorial set cost crore shaped like phoenix surrounded gardens two lion statues entrance built marina beach front near burial site \n",
            "실제 요약 : cr shaped jayalalithaa memorial to be built in tn \n",
            "예측 요약 :  tn cm orders closure of tn cm for cauvery\n",
            "\n",
            "\n",
            "원문 : twenty one state owned banks incurred losses amounting crore due banking frauds rti reply stated pnb incurred highest loss crore fiscal followed sbi incurred losses crore rbi clarified cases fraud involving sum lakh included \n",
            "실제 요약 : govt banks lost crore in bank frauds in fy rti \n",
            "예측 요약 :  pnb to infuse crore in fy\n",
            "\n",
            "\n",
            "원문 : dealers general motors decided stop selling vehicles india demonstrate jantar mantar tuesday protest automaker unhappy gm offer total investments made compensation gm dealers would sitting dharna draw attention concerned ministries loss jobs \n",
            "실제 요약 : general motors dealers to stage over compensation row \n",
            "예측 요약 :  railways to offer to work in india\n",
            "\n",
            "\n",
            "원문 : maldives rejoin commonwealth two years following cabinet approval backing move maldives quit commonwealth accusing interfering domestic affairs ex maldivian president abdulla yameen administration taken step following pressure commonwealth address issues corruption human rights abuses country \n",
            "실제 요약 : maldives to the commonwealth after years \n",
            "예측 요약 :  un appoints wife as indian sabha president resigns\n",
            "\n",
            "\n",
            "원문 : woman traveling uber cab mumbai alleged sexually harassed driver pants started masturbating front added confronted threatened woman said started corner fighting alone public watching \n",
            "실제 요약 : uber driver masturbated threatened me says woman passenger \n",
            "예측 요약 :  uber driver stabs woman with her for refusing to\n",
            "\n",
            "\n",
            "원문 : bullet trains mumbai ahmedabad get dedicated room child feeding separate men women train seats business class seats standard class freezer hot case boiling water facility tea coffee maker train \n",
            "실제 요약 : bullet train to have child feeding room separate \n",
            "예측 요약 :  mumbai school to get birth of kids\n",
            "\n",
            "\n",
            "원문 : chilean national anthem cut short seconds fifa world cup match england following players completed singing remaining portion anthem chilean national anthem around seconds long stopped per fifa second national anthem rule \n",
            "실제 요약 : chile anthem cut short at wc players finish by singing \n",
            "예측 요약 :  st ever player to be used in india\n",
            "\n",
            "\n",
            "원문 : convicted gangster sunil rathi claimed killed another gangster munna bajrangi inside jail latter called fat rathi claimed walk met bajrangi two started arguing according rathi bajrangi threatened gun rathi snatched shot close range \n",
            "실제 요약 : he called me fat gangster who killed munna bajrangi in jail \n",
            "예측 요약 :  police accused of murder accused in ryan blast case\n",
            "\n",
            "\n",
            "원문 : us president donald trump authorised troops use lethal force necessary migrants mexico border threatened close whole us mexico border issue migrants coming us trump deployed nearly troops border deal caravan migrants entering us \n",
            "실제 요약 : trump allows us troops to use force at mexico border \n",
            "예측 요약 :  trump blames military wall in us mexico border\n",
            "\n",
            "\n",
            "원문 : arjun kapoor took social media reveal learned sign language fan special needs shared email received one fans named karen grewal chicago requested arjun create english subtitles instagram posts actors blessed wonderful fans wrote arjun \n",
            "실제 요약 : arjun kapoor learns sign language for fan with special needs \n",
            "예측 요약 :  arjun kapoor to get acting award for women\n",
            "\n",
            "\n",
            "원문 : actress bhumi pednekar look upcoming film revealed film also star actor sushant singh rajput lead role along manoj bajpayee ashutosh rana directed udta punjab director abhishek chaubey set narrate tale dacoits \n",
            "실제 요약 : bhumi pednekar look as from revealed \n",
            "예측 요약 :  rani mukerji to star in bollywood film\n",
            "\n",
            "\n",
            "원문 : uttar pradesh police booked activists allegedly kidnapping mother grandmother one two suspected criminals shot dead police encounter recently charges filed based complaint wife deceased criminal activists include student leaders jawaharlal nehru university aligarh muslim university \n",
            "실제 요약 : activists booked for slain criminal kin \n",
            "예측 요약 :  police police kill self after man who killed her\n",
            "\n",
            "\n",
            "원문 : newly married woman andhra pradesh got husband killed could live lover met facebook police said woman returning home husband monday night asked stop bike three men allegedly came autorickshaw killed \n",
            "실제 요약 : andhra woman gets husband killed to be with facebook friend \n",
            "예측 요약 :  woman kills husband after she refuses to marry her\n",
            "\n",
            "\n",
            "원문 : minister state defence subhash bhamre friday informed lok sabha terror attacks army last year soldiers martyred comparison cases terror attacks recorded bhamre informed one instance ceasefire violation took place daily \n",
            "실제 요약 : jawans were martyred in attacks on army in govt \n",
            "예측 요약 :  not shortage of government in government\n",
            "\n",
            "\n",
            "원문 : mosquito net laced drugs insect growth designed help prevent malaria according study two year clinical trial africa showed net resulted decrease malaria cases study revealed noted reduction overall exposure mosquitoes using nets \n",
            "실제 요약 : drug mosquito net designed to help prevent malaria \n",
            "예측 요약 :  japan recalls deaths in japan\n",
            "\n",
            "\n",
            "원문 : banned nerve agent sarin used april chemical attack syria killed least people injured others according un chemical watchdog report un determine syrian government responsible attack alleged us however syrian government dismissed report saying lacked credibility \n",
            "실제 요약 : banned gas used in recent chemical attack in syria un \n",
            "예측 요약 :  us state claims fire killed in syria\n",
            "\n",
            "\n",
            "원문 : bloomberg reporter revealed officials pentagon us federal emergency management agency mistakenly added internal list last month emails talked presentation puerto rico recovery efforts media reflected federal government struggle convince public response effort going well \n",
            "실제 요약 : pentagon mistakenly adds reporter to internal list \n",
            "예측 요약 :  us eatery to pay for white white white house\n",
            "\n",
            "\n",
            "원문 : low visibility caused dense fog lucknow surrounding areas led collision cars lucknow agra expressway unnao district monday police said people injured accident last month collision cars caused dense fog agra noida yamuna expressway killed one \n",
            "실제 요약 : cars pile up on lucknow agra expressway \n",
            "예측 요약 :  fire in mumbai bridge collapse collapse\n",
            "\n",
            "\n",
            "원문 : two paintings vincent van gogh unveiled museum amsterdam netherlands years stolen view sea leaving church paintings valued nearly million recovered italian police operation mafia group \n",
            "실제 요약 : stolen van works unveiled in amsterdam after years \n",
            "예측 요약 :  video shows restaurant stolen in paris\n",
            "\n",
            "\n",
            "원문 : mlas congress jd held hotels bengaluru day jd leader hd kumaraswamy led alliance scheduled face floor test karnataka assembly parties holding mlas hotels since election results announced may prevent bjp poaching mlas \n",
            "실제 요약 : congress jd mlas held in hotels till karnataka floor test \n",
            "예측 요약 :  taka cm kumaraswamy resigns after seats seats\n",
            "\n",
            "\n",
            "원문 : people including crew members onboard russian military transport plane killed crashed syria tuesday russian defence ministry said aircraft crashed landing airbase ministry said incident could caused technical malfunction \n",
            "실제 요약 : dead as russian military plane crashes in syria \n",
            "예측 요약 :  russian jet killed in us plane crash\n",
            "\n",
            "\n",
            "원문 : talking many people founding team bigbasket co founder ceo hari menon recent event said right balance adding founding team aligned menon said fights disagreements took decision aligned \n",
            "실제 요약 : founders is the right balance bigbasket ceo \n",
            "예측 요약 :  we are the of the future of ceo\n",
            "\n",
            "\n",
            "원문 : haryanvi singer harshita brother law dinesh confessed involved murder said police comes harshita sister claimed singer killed harshita shot six times neck forehead unidentified assailants returning programme panipat tuesday nnnn \n",
            "실제 요약 : haryanvi singer brother in law admits role in her murder \n",
            "예측 요약 :  actress claims to kill me in actress abduction case\n",
            "\n",
            "\n",
            "원문 : punjab national bank disclosed additional exposure crore fraud probe involving nirav modi mehul choksi taking total billion court filing police said choksi gitanjali gems allegedly defrauded pnb crore bank previously pegged exposure gitanjali companies crore \n",
            "실제 요약 : pnb additional cr exposure in fraud case \n",
            "예측 요약 :  pnb fraud accused of nirav modi in pnb scam case\n",
            "\n",
            "\n",
            "원문 : audit cag revealed contaminated food water direct taps unfit consumption served trains report stated packaged items served expiry dates rats found many trains stations revealed food sold higher prices \n",
            "실제 요약 : railways serving food unfit for human consumption cag \n",
            "예측 요약 :  railways to launch food food in trains\n",
            "\n",
            "\n",
            "원문 : delhi court ordered fir amazon india ebay allegedly selling shaped like nude woman comes complaint lodged alleging websites selling nude woman indecent court said outrageous could serious psychological impact young \n",
            "실제 요약 : fir ordered against amazon for selling nude woman \n",
            "예측 요약 :  hc fines man for not fine on amazon company\n",
            "\n",
            "\n",
            "원문 : bjp worker uttar pradesh slapped hospital allegedly demanding patient threatening give false report reportedly workers party also beaten police said yet receive complaint matter \n",
            "실제 요약 : bjp worker slaps for demanding from patient \n",
            "예측 요약 :  bjp leader booked for taking woman to decide\n",
            "\n",
            "\n",
            "원문 : name deceased deputy superintendent police satya singh featured latest officers transfers list issued uttar pradesh police mistake noticed director general police op singh apologised error tweeted apologise take strict action \n",
            "실제 요약 : late dsp name included in up police latest transfers list \n",
            "예측 요약 :  cops protest against cops for fake news on jnu\n",
            "\n",
            "\n",
            "원문 : government reduced basic excise duty rate branded petrol diesel per litre effect october decision taken impact rising international crude oil price finance ministry said revenue loss account reductions crore full year added \n",
            "실제 요약 : excise duty on petrol and diesel reduced by per litre \n",
            "예측 요약 :  government cuts cut rates rates by to\n",
            "\n",
            "\n",
            "원문 : price butter year france according reports rising demand butter france abroad coupled declining milk across europe blamed price increase butter key ingredient french cuisine makes ingredients baked goods industry \n",
            "실제 요약 : cost nearly doubles amid shortage in france \n",
            "예측 요약 :  uae to shut down in india\n",
            "\n",
            "\n",
            "원문 : former team india captain sourav ganguly said head coach ravi shastri batting coach sanjay held accountable india repeated batting failures overseas test tours one batsman performing whereas others seem taken backward steps added \n",
            "실제 요약 : should answer why only batsman is performing ganguly \n",
            "예측 요약 :  ganguly kumble is not ganguly ganguly\n",
            "\n",
            "\n",
            "원문 : restaurant mumbai deaf mute staff encourages diners communicate using sign language staff members use sign language communicate diners encouraged use hand gestures written menu cards owners plan open new branches \n",
            "실제 요약 : mumbai restaurant hires deaf and mute staff \n",
            "예측 요약 :  mumbai police to use of its own pool\n",
            "\n",
            "\n",
            "원문 : year old woman lynched death mob mistaken child tamil nadu victim relatives looking temple stopped ask directions victim spotted children playing offered chocolates seeing someone mistook child traffickers mob attacked \n",
            "실제 요약 : mob lynches year old woman mistaken for child \n",
            "예측 요약 :  woman killed by men in andhra pradesh\n",
            "\n",
            "\n",
            "원문 : samsung electronics friday announced preliminary results posting highest quarterly operating profit three years billion comes amid ongoing bribery embezzlement trial group chief jay lee company recovery global recall exploding galaxy note smartphones \n",
            "실제 요약 : samsung posts best profit in years despite bribery scandal \n",
            "예측 요약 :  google parent alphabet firm stock jumps to billion\n",
            "\n",
            "\n",
            "원문 : bcci wednesday announced annual player contracts men team annual amounts categories grade players paid crore per annum grade grade paid crore lakh respectively ravindra jadeja cheteshwar pujara murali vijay promoted grade category \n",
            "실제 요약 : bcci doubles salaries of indian cricket team \n",
            "예측 요약 :  bcci to get crore for crore\n",
            "\n",
            "\n",
            "원문 : real madrid secured win juventus edged valencia uefa champions league tuesday manchester united scored added time end match help side go past young boys manchester city held draw french side lyon \n",
            "실제 요약 : real madrid juventus man utd all register wins in cl \n",
            "예측 요약 :  ronaldo to score in the world cup\n",
            "\n",
            "\n",
            "원문 : actor nawazuddin siddiqui biography ordinary life memoir revealed mother siddiqui used deposit jewellery collateral take loan pay school fees education biggest priority added nawazuddin said oldest experienced first hand \n",
            "실제 요약 : her jewellery to pay my school fees nawazuddin \n",
            "예측 요약 :  will not be money to return to rajinikanth\n",
            "\n",
            "\n",
            "원문 : kriti sanon denying rumours relationship sushant singh rajput said people asked question times always answered asking times change answer quipped funny people still get bored think start thinking new answers \n",
            "실제 요약 : asking times will not change answer kriti on dating rumours \n",
            "예측 요약 :  kriti sanon sanon kriti sanon sanon\n",
            "\n",
            "\n",
            "원문 : delhi daredevils wicketkeeper batsman rishabh pant took twitter clarify parody news account shared statement attributed claimed angry selectors picking senior indian team pant said never said anything like urged people spread rumours \n",
            "실제 요약 : rishabh pant clarifies after fake statement goes viral \n",
            "예측 요약 :  people should not know about me about me about me\n",
            "\n",
            "\n",
            "원문 : flyover bengaluru outer ring road construction eight years construction flyover completed within months commencement work flyover taken bangalore development authority halted owing problems land acquisition \n",
            "실제 요약 : flyover in bengaluru under construction for over years \n",
            "예측 요약 :  bengaluru to get married to mumbai\n",
            "\n",
            "\n",
            "원문 : bihar mp pappu yadav warned cheat doctors jan continued illegal practices protecting people movement doctors continue meanwhile private hospitals registered firs accused indulging \n",
            "실제 요약 : bihar mp pappu yadav warns cheat doctors of jan \n",
            "예측 요약 :  goa cm orders to be removed from up for\n",
            "\n",
            "\n",
            "원문 : rejecting allegations supported khalistan canadian defence minister singh sajjan tuesday said proud born india want sucked internal politics nation asserted comes punjab cm amarinder singh dubbed sajjan khalistan refused meet \n",
            "실제 요약 : proud to have been born in india canada defence minister \n",
            "예측 요약 :  will not have been here to the of family\n",
            "\n",
            "\n",
            "원문 : bombay high court wednesday declared arrest pnb scam accused cbi illegal taken custody sunset law says woman shall arrested sunset nirav modi executive assistant authorised signatory three group firms \n",
            "실제 요약 : pnb scam accused arrest after illegal bombay hc \n",
            "예측 요약 :  hc asks cbi to arrest crore in case\n",
            "\n",
            "\n"
          ]
        }
      ]
    },
    {
      "cell_type": "markdown",
      "source": [
        "#Step 5. Summa을 이용해서 추출적 요약해보기\n",
        "추상적 요약은 추출적 요약과는 달리 문장의 표현력을 다양하게 가져갈 수 있지만, 추출적 요약에 비해서 난이도가 높아요. 반대로 말하면 추출적 요약은 추상적 요약에 비해 난이도가 낮고 기존 문장에서 문장을 꺼내오는 것이므로 잘못된 요약이 나올 가능성이 낮아요.\n",
        "\n",
        "Summa의 summarize를 사용하여 추출적 요약을 해보세요."
      ],
      "metadata": {
        "id": "xG414BvoutdQ"
      }
    },
    {
      "cell_type": "code",
      "source": [
        "import requests\n",
        "from summa.summarizer import summarize"
      ],
      "metadata": {
        "id": "hG4vbbB-3vAH"
      },
      "execution_count": 52,
      "outputs": []
    },
    {
      "cell_type": "code",
      "source": [
        "text = requests.get('http://rare-technologies.com/the_matrix_synopsis.txt').text"
      ],
      "metadata": {
        "id": "ytK_xmrj3516"
      },
      "execution_count": 53,
      "outputs": []
    },
    {
      "cell_type": "code",
      "source": [
        "print(text[:1500])"
      ],
      "metadata": {
        "colab": {
          "base_uri": "https://localhost:8080/"
        },
        "id": "OfXeSw-O356Y",
        "outputId": "d1179a51-f4ab-4e90-b6af-c45ed8df2813"
      },
      "execution_count": 54,
      "outputs": [
        {
          "output_type": "stream",
          "name": "stdout",
          "text": [
            "The screen is filled with green, cascading code which gives way to the title, The Matrix.\r\n",
            "\r\n",
            "A phone rings and text appears on the screen: \"Call trans opt: received. 2-19-98 13:24:18 REC: Log>\" As a conversation takes place between Trinity (Carrie-Anne Moss) and Cypher (Joe Pantoliano), two free humans, a table of random green numbers are being scanned and individual numbers selected, creating a series of digits not unlike an ordinary phone number, as if a code is being deciphered or a call is being traced.\r\n",
            "\r\n",
            "Trinity discusses some unknown person. Cypher taunts Trinity, suggesting she enjoys watching him. Trinity counters that \"Morpheus (Laurence Fishburne) says he may be 'the One',\" just as the sound of a number being selected alerts Trinity that someone may be tracing their call. She ends the call.\r\n",
            "\r\n",
            "Armed policemen move down a darkened, decrepit hallway in the Heart O' the City Hotel, their flashlight beam bouncing just ahead of them. They come to room 303, kick down the door and find a woman dressed in black, facing away from them. It's Trinity. She brings her hands up from the laptop she's working on at their command.\r\n",
            "\r\n",
            "Outside the hotel a car drives up and three agents appear in neatly pressed black suits. They are Agent Smith (Hugo Weaving), Agent Brown (Paul Goddard), and Agent Jones (Robert Taylor). Agent Smith and the presiding police lieutenant argue. Agent Smith admonishes the policeman that they were given specific orders to contact the agents first, for their\n"
          ]
        }
      ]
    },
    {
      "cell_type": "code",
      "source": [
        "print('Summary:')\n",
        "print(summarize(text, ratio=0.005))"
      ],
      "metadata": {
        "colab": {
          "base_uri": "https://localhost:8080/"
        },
        "id": "dyqNtTte4E8m",
        "outputId": "77e26c1d-e53e-476a-b60f-815063bb8a21"
      },
      "execution_count": 55,
      "outputs": [
        {
          "output_type": "stream",
          "name": "stdout",
          "text": [
            "Summary:\n",
            "Morpheus, Trinity, Neo, Apoc, Switch, Mouse and Cypher are jacked into the Matrix.\n",
            "Trinity brings the helicopter down to the floor that Morpheus is on and Neo opens fire on the three Agents.\n"
          ]
        }
      ]
    },
    {
      "cell_type": "code",
      "source": [
        "print('Summary:')\n",
        "print(summarize(text, ratio=0.005, split=True))"
      ],
      "metadata": {
        "colab": {
          "base_uri": "https://localhost:8080/"
        },
        "id": "Lhjmn_th4E44",
        "outputId": "5cc70539-c130-42a5-fc2c-a95b2916ece6"
      },
      "execution_count": 56,
      "outputs": [
        {
          "output_type": "stream",
          "name": "stdout",
          "text": [
            "Summary:\n",
            "['Morpheus, Trinity, Neo, Apoc, Switch, Mouse and Cypher are jacked into the Matrix.', 'Trinity brings the helicopter down to the floor that Morpheus is on and Neo opens fire on the three Agents.']\n"
          ]
        }
      ]
    },
    {
      "cell_type": "code",
      "source": [
        "print('Summary:')\n",
        "print(summarize(text, words=50))"
      ],
      "metadata": {
        "colab": {
          "base_uri": "https://localhost:8080/"
        },
        "id": "jllhJufu4E2U",
        "outputId": "c8cee7e6-007a-4460-dcb5-8df91f520207"
      },
      "execution_count": 57,
      "outputs": [
        {
          "output_type": "stream",
          "name": "stdout",
          "text": [
            "Summary:\n",
            "Trinity takes Neo to Morpheus.\n",
            "Morpheus, Trinity, Neo, Apoc, Switch, Mouse and Cypher are jacked into the Matrix.\n",
            "Trinity brings the helicopter down to the floor that Morpheus is on and Neo opens fire on the three Agents.\n"
          ]
        }
      ]
    },
    {
      "cell_type": "markdown",
      "source": [
        "#결론\n",
        "\n",
        "이번 프로젝트에서는 뉴스 기사 데이터를 이용하여 뉴스 요약봇을 만드는 작업을 진행하였습니다.\n",
        "\n",
        "LMS에서 배운 전처리대로 데이터 전처리를 진행하였습니다.\n",
        "\n",
        "일반 seq2seq가 아닌 어텐션 메커니즘을 사용한 seq2seq를 진행하였습니다.\n",
        "\n",
        "그리고 실제결과와 (추상적요약) 요약문을 비교하여 잘 요약되었는지도 확인해보았습니다.\n",
        "\n",
        "마지막으로 Summa를 이용히여 추출적요약까지 출력해보는 과정을 진행해보았습니다.\n"
      ],
      "metadata": {
        "id": "-ziHx5Tduxzo"
      }
    },
    {
      "cell_type": "markdown",
      "source": [
        "# 회고\n",
        "\n",
        "---\n",
        "\n",
        "\n",
        "\n",
        "## - 이번 프로젝트에서 어려웠던 점\n",
        "어텐션 메커니즘의 이해가 어려웠고 아직까지 인코딩 디코딩의 개념이 명확하게 잡히지 않은 것 같아 코드를 볼 때도 이해가 쉽지 않았습니다.\n",
        "\n",
        "\n",
        "\n",
        "---\n",
        "\n",
        "\n",
        "## - 프로젝트를 진행하면서 알게된 점\n",
        "텍스트 정규화와 불용어 제거를 저렇게 하나하나 지정해줘서 없애야 한다는 것을 알았고, 문장요약들을 보면 전체적으로 첫 번째 단어는 잘 맞추지만 뒤로 갈수록 단어가 달라지는 경향을 보아 뒤로 갈 수록 예측률이 급격하게 떨어지는 것을 알 수 있었습니다.\n",
        "\n",
        "\n",
        "\n",
        "---\n",
        "\n",
        "\n",
        "## - 루브릭 평가지표를 맞추기 위해 시도한 것들\n",
        "불용어 제거파트에 오타를 수정해서 다시 돌려보았습니다.\n",
        "\n",
        "모델을 만져보았는데 아직 개념이 잘 안잡혀서 그런지 학습시간만 늘고 큰 변화는 없었습니다.\n",
        "\n",
        "마지막으로 그래프를 보고 max_len의 값을 조절해보았습니다.\n",
        "\n",
        "---\n",
        "\n",
        "\n",
        "## - 자기다짐\n",
        "자연어처리를 진행할 때 전처리부분이 쉽지 않았는데 기본적인 컬럼추출이나 정규표현식 불용어제거 등 기본적인 지식들은 따로 추가적인 공부를 해야겠다고 다짐했습니다.\n",
        "\n",
        "\n",
        "\n"
      ],
      "metadata": {
        "id": "FbAECzyFuxve"
      }
    }
  ]
}