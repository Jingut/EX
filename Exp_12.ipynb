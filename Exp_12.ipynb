{
  "nbformat": 4,
  "nbformat_minor": 0,
  "metadata": {
    "colab": {
      "provenance": [],
      "collapsed_sections": [],
      "machine_shape": "hm",
      "mount_file_id": "1up6LUCBN2VSyCw9yxwhE8yaSqyPoP4g7",
      "authorship_tag": "ABX9TyOO9w/n5HkvC+dO9UBwyalp",
      "include_colab_link": true
    },
    "kernelspec": {
      "name": "python3",
      "display_name": "Python 3"
    },
    "language_info": {
      "name": "python"
    },
    "accelerator": "GPU",
    "gpuClass": "standard"
  },
  "cells": [
    {
      "cell_type": "markdown",
      "metadata": {
        "id": "view-in-github",
        "colab_type": "text"
      },
      "source": [
        "<a href=\"https://colab.research.google.com/github/Jingut/EX/blob/main/Exp_12.ipynb\" target=\"_parent\"><img src=\"https://colab.research.google.com/assets/colab-badge.svg\" alt=\"Open In Colab\"/></a>"
      ]
    },
    {
      "cell_type": "code",
      "source": [
        "!pip install version"
      ],
      "metadata": {
        "colab": {
          "base_uri": "https://localhost:8080/"
        },
        "id": "bKYu9A9ythBc",
        "outputId": "b407003f-8a00-45c8-d01d-7c2fc7f55b2f"
      },
      "execution_count": null,
      "outputs": [
        {
          "output_type": "stream",
          "name": "stdout",
          "text": [
            "Looking in indexes: https://pypi.org/simple, https://us-python.pkg.dev/colab-wheels/public/simple/\n",
            "Collecting version\n",
            "  Downloading version-0.1.1.tar.gz (2.0 kB)\n",
            "\u001b[33mWARNING: Discarding https://files.pythonhosted.org/packages/fd/b6/fa3b2c859d4d8817a106e4272029d78a2afbca0a27139997a4e5515bbf60/version-0.1.1.tar.gz#sha256=9ca4aae0312bc3924f4fd31cbfbef468ebf29f278174be0a6bb418fbfad7e85f (from https://pypi.org/simple/version/). Command errored out with exit status 1: python setup.py egg_info Check the logs for full command output.\u001b[0m\n",
            "  Downloading version-0.1.0.tar.gz (1.9 kB)\n",
            "Building wheels for collected packages: version\n",
            "  Building wheel for version (setup.py) ... \u001b[?25l\u001b[?25hdone\n",
            "  Created wheel for version: filename=version-0.1.0-py3-none-any.whl size=2307 sha256=7c11d551fdd0e6be25552441de16f427293e1fa636126ee70e02b48dd73e3cf1\n",
            "  Stored in directory: /root/.cache/pip/wheels/a8/bf/25/b89e7968f244dabd9814b4a1ff9e5d347b93682cbdd2663c49\n",
            "Successfully built version\n",
            "Installing collected packages: version\n",
            "Successfully installed version-0.1.0\n"
          ]
        }
      ]
    },
    {
      "cell_type": "code",
      "source": [
        "!pip install importlib"
      ],
      "metadata": {
        "colab": {
          "base_uri": "https://localhost:8080/"
        },
        "id": "2gCKX8nXtn_z",
        "outputId": "9b5ccfb8-e6d4-437c-9bbe-f9a7161d7ab0"
      },
      "execution_count": null,
      "outputs": [
        {
          "output_type": "stream",
          "name": "stdout",
          "text": [
            "Looking in indexes: https://pypi.org/simple, https://us-python.pkg.dev/colab-wheels/public/simple/\n",
            "Collecting importlib\n",
            "  Downloading importlib-1.0.4.zip (7.1 kB)\n",
            "Building wheels for collected packages: importlib\n",
            "  Building wheel for importlib (setup.py) ... \u001b[?25l\u001b[?25hdone\n",
            "  Created wheel for importlib: filename=importlib-1.0.4-py3-none-any.whl size=5875 sha256=9f82029f153330b9285148a66877c633ae33ead9bb4452271eaf73c70e9a522e\n",
            "  Stored in directory: /root/.cache/pip/wheels/86/e4/cb/62b0e9efd7da1e984baec0c0ded0b727a7ed25e1904ed51fca\n",
            "Successfully built importlib\n",
            "Installing collected packages: importlib\n",
            "Successfully installed importlib-1.0.4\n"
          ]
        }
      ]
    },
    {
      "cell_type": "code",
      "source": [
        "!pip install summa"
      ],
      "metadata": {
        "colab": {
          "base_uri": "https://localhost:8080/"
        },
        "id": "QyzP2raauBEK",
        "outputId": "0c8ea4d1-35f4-4c79-d79b-3f31adbe5a82"
      },
      "execution_count": null,
      "outputs": [
        {
          "output_type": "stream",
          "name": "stdout",
          "text": [
            "Looking in indexes: https://pypi.org/simple, https://us-python.pkg.dev/colab-wheels/public/simple/\n",
            "Collecting summa\n",
            "  Downloading summa-1.2.0.tar.gz (54 kB)\n",
            "\u001b[K     |████████████████████████████████| 54 kB 2.2 MB/s \n",
            "\u001b[?25hRequirement already satisfied: scipy>=0.19 in /usr/local/lib/python3.7/dist-packages (from summa) (1.7.3)\n",
            "Requirement already satisfied: numpy<1.23.0,>=1.16.5 in /usr/local/lib/python3.7/dist-packages (from scipy>=0.19->summa) (1.21.6)\n",
            "Building wheels for collected packages: summa\n",
            "  Building wheel for summa (setup.py) ... \u001b[?25l\u001b[?25hdone\n",
            "  Created wheel for summa: filename=summa-1.2.0-py3-none-any.whl size=54412 sha256=a03ab47a20b7d2c5c849cebc2888b867338c1eeca93cc3486571e2766803b108\n",
            "  Stored in directory: /root/.cache/pip/wheels/29/64/ac/7b443477588d365ef37ada30d456bdf5f07dc5be9f6324cb6e\n",
            "Successfully built summa\n",
            "Installing collected packages: summa\n",
            "Successfully installed summa-1.2.0\n"
          ]
        }
      ]
    },
    {
      "cell_type": "code",
      "execution_count": null,
      "metadata": {
        "colab": {
          "base_uri": "https://localhost:8080/"
        },
        "id": "1OPdwL7Islmw",
        "outputId": "54125e0c-4bb7-4567-b289-bed5d63dae52"
      },
      "outputs": [
        {
          "output_type": "stream",
          "name": "stderr",
          "text": [
            "[nltk_data] Downloading package stopwords to /root/nltk_data...\n",
            "[nltk_data]   Package stopwords is already up-to-date!\n"
          ]
        }
      ],
      "source": [
        "import nltk\n",
        "nltk.download('stopwords')  # NLTK 패키지에서 불용어 사전 다운로드\n",
        "\n",
        "import numpy as np\n",
        "import pandas as pd\n",
        "import os\n",
        "import re\n",
        "import matplotlib.pyplot as plt\n",
        "from nltk.corpus import stopwords\n",
        "from bs4 import BeautifulSoup \n",
        "from tensorflow.keras.preprocessing.text import Tokenizer \n",
        "from tensorflow.keras.preprocessing.sequence import pad_sequences\n",
        "import urllib.request"
      ]
    },
    {
      "cell_type": "markdown",
      "source": [
        "#Step 1. 데이터 수집하기\n",
        "데이터는 아래 링크에 있는 뉴스 기사 데이터(news_summary_more.csv)를 사용하세요.\n",
        "\n",
        "[sunnysai12345/News_Summary](https://github.com/sunnysai12345/News_Summary)\n",
        "아래의 코드로 데이터를 다운로드할 수 있어요.\n",
        "\n"
      ],
      "metadata": {
        "id": "5FP6ToQ6uNe9"
      }
    },
    {
      "cell_type": "code",
      "source": [
        "import urllib.request\n",
        "urllib.request.urlretrieve(\"https://raw.githubusercontent.com/sunnysai12345/News_Summary/master/news_summary_more.csv\", filename=\"news_summary_more.csv\")\n",
        "data = pd.read_csv('news_summary_more.csv', encoding='iso-8859-1')"
      ],
      "metadata": {
        "id": "PzrociQwuXmn"
      },
      "execution_count": null,
      "outputs": []
    },
    {
      "cell_type": "code",
      "source": [
        "data.sample(10)"
      ],
      "metadata": {
        "colab": {
          "base_uri": "https://localhost:8080/",
          "height": 363
        },
        "id": "SzvBq2sGugXg",
        "outputId": "0c5db7fc-12e6-4044-9e13-67e7f8cce269"
      },
      "execution_count": null,
      "outputs": [
        {
          "output_type": "execute_result",
          "data": {
            "text/plain": [
              "                                               headlines  \\\n",
              "15638  SC order on women entry disappointing: Sabarim...   \n",
              "26772  Civil services aspirant jumps in front of trai...   \n",
              "54642  Batsman slams 104-metre six, ball lands on roo...   \n",
              "35175  Headless doll triggers major police operation ...   \n",
              "21718  They're in love with London: Gavaskar slams In...   \n",
              "69209  'Simran' writer Apurva shares script he penned...   \n",
              "7637   Was clear from start I didn't want a live-in r...   \n",
              "58297  Kids steal valuables while people click selfie...   \n",
              "11357  BCCI asks Cricket Australia to exclude beef fr...   \n",
              "27286  I salute Ranbir's brave choice of films: Rishi...   \n",
              "\n",
              "                                                    text  \n",
              "15638  After the Supreme Court removed the ban on ent...  \n",
              "26772  A 23-year-old civil services aspirant allegedl...  \n",
              "54642  Adelaide Strikers' batsman Jonathan Wells slam...  \n",
              "35175  The headless body of a doll prompted a major p...  \n",
              "21718  Former captain Sunil Gavaskar slammed Team Ind...  \n",
              "69209  Apurva Asrani, writer of Kangana Ranaut starre...  \n",
              "7637   Deepika Padukone, in her first post-marriage i...  \n",
              "58297  Kids belonging to a gang from Madhya Pradesh s...  \n",
              "11357  The BCCI has reportedly requested Cricket Aust...  \n",
              "27286  Talking about his son Ranbir Kapoor's choice o...  "
            ],
            "text/html": [
              "\n",
              "  <div id=\"df-78d64245-fccf-4a50-8b12-a01ebcd56506\">\n",
              "    <div class=\"colab-df-container\">\n",
              "      <div>\n",
              "<style scoped>\n",
              "    .dataframe tbody tr th:only-of-type {\n",
              "        vertical-align: middle;\n",
              "    }\n",
              "\n",
              "    .dataframe tbody tr th {\n",
              "        vertical-align: top;\n",
              "    }\n",
              "\n",
              "    .dataframe thead th {\n",
              "        text-align: right;\n",
              "    }\n",
              "</style>\n",
              "<table border=\"1\" class=\"dataframe\">\n",
              "  <thead>\n",
              "    <tr style=\"text-align: right;\">\n",
              "      <th></th>\n",
              "      <th>headlines</th>\n",
              "      <th>text</th>\n",
              "    </tr>\n",
              "  </thead>\n",
              "  <tbody>\n",
              "    <tr>\n",
              "      <th>15638</th>\n",
              "      <td>SC order on women entry disappointing: Sabarim...</td>\n",
              "      <td>After the Supreme Court removed the ban on ent...</td>\n",
              "    </tr>\n",
              "    <tr>\n",
              "      <th>26772</th>\n",
              "      <td>Civil services aspirant jumps in front of trai...</td>\n",
              "      <td>A 23-year-old civil services aspirant allegedl...</td>\n",
              "    </tr>\n",
              "    <tr>\n",
              "      <th>54642</th>\n",
              "      <td>Batsman slams 104-metre six, ball lands on roo...</td>\n",
              "      <td>Adelaide Strikers' batsman Jonathan Wells slam...</td>\n",
              "    </tr>\n",
              "    <tr>\n",
              "      <th>35175</th>\n",
              "      <td>Headless doll triggers major police operation ...</td>\n",
              "      <td>The headless body of a doll prompted a major p...</td>\n",
              "    </tr>\n",
              "    <tr>\n",
              "      <th>21718</th>\n",
              "      <td>They're in love with London: Gavaskar slams In...</td>\n",
              "      <td>Former captain Sunil Gavaskar slammed Team Ind...</td>\n",
              "    </tr>\n",
              "    <tr>\n",
              "      <th>69209</th>\n",
              "      <td>'Simran' writer Apurva shares script he penned...</td>\n",
              "      <td>Apurva Asrani, writer of Kangana Ranaut starre...</td>\n",
              "    </tr>\n",
              "    <tr>\n",
              "      <th>7637</th>\n",
              "      <td>Was clear from start I didn't want a live-in r...</td>\n",
              "      <td>Deepika Padukone, in her first post-marriage i...</td>\n",
              "    </tr>\n",
              "    <tr>\n",
              "      <th>58297</th>\n",
              "      <td>Kids steal valuables while people click selfie...</td>\n",
              "      <td>Kids belonging to a gang from Madhya Pradesh s...</td>\n",
              "    </tr>\n",
              "    <tr>\n",
              "      <th>11357</th>\n",
              "      <td>BCCI asks Cricket Australia to exclude beef fr...</td>\n",
              "      <td>The BCCI has reportedly requested Cricket Aust...</td>\n",
              "    </tr>\n",
              "    <tr>\n",
              "      <th>27286</th>\n",
              "      <td>I salute Ranbir's brave choice of films: Rishi...</td>\n",
              "      <td>Talking about his son Ranbir Kapoor's choice o...</td>\n",
              "    </tr>\n",
              "  </tbody>\n",
              "</table>\n",
              "</div>\n",
              "      <button class=\"colab-df-convert\" onclick=\"convertToInteractive('df-78d64245-fccf-4a50-8b12-a01ebcd56506')\"\n",
              "              title=\"Convert this dataframe to an interactive table.\"\n",
              "              style=\"display:none;\">\n",
              "        \n",
              "  <svg xmlns=\"http://www.w3.org/2000/svg\" height=\"24px\"viewBox=\"0 0 24 24\"\n",
              "       width=\"24px\">\n",
              "    <path d=\"M0 0h24v24H0V0z\" fill=\"none\"/>\n",
              "    <path d=\"M18.56 5.44l.94 2.06.94-2.06 2.06-.94-2.06-.94-.94-2.06-.94 2.06-2.06.94zm-11 1L8.5 8.5l.94-2.06 2.06-.94-2.06-.94L8.5 2.5l-.94 2.06-2.06.94zm10 10l.94 2.06.94-2.06 2.06-.94-2.06-.94-.94-2.06-.94 2.06-2.06.94z\"/><path d=\"M17.41 7.96l-1.37-1.37c-.4-.4-.92-.59-1.43-.59-.52 0-1.04.2-1.43.59L10.3 9.45l-7.72 7.72c-.78.78-.78 2.05 0 2.83L4 21.41c.39.39.9.59 1.41.59.51 0 1.02-.2 1.41-.59l7.78-7.78 2.81-2.81c.8-.78.8-2.07 0-2.86zM5.41 20L4 18.59l7.72-7.72 1.47 1.35L5.41 20z\"/>\n",
              "  </svg>\n",
              "      </button>\n",
              "      \n",
              "  <style>\n",
              "    .colab-df-container {\n",
              "      display:flex;\n",
              "      flex-wrap:wrap;\n",
              "      gap: 12px;\n",
              "    }\n",
              "\n",
              "    .colab-df-convert {\n",
              "      background-color: #E8F0FE;\n",
              "      border: none;\n",
              "      border-radius: 50%;\n",
              "      cursor: pointer;\n",
              "      display: none;\n",
              "      fill: #1967D2;\n",
              "      height: 32px;\n",
              "      padding: 0 0 0 0;\n",
              "      width: 32px;\n",
              "    }\n",
              "\n",
              "    .colab-df-convert:hover {\n",
              "      background-color: #E2EBFA;\n",
              "      box-shadow: 0px 1px 2px rgba(60, 64, 67, 0.3), 0px 1px 3px 1px rgba(60, 64, 67, 0.15);\n",
              "      fill: #174EA6;\n",
              "    }\n",
              "\n",
              "    [theme=dark] .colab-df-convert {\n",
              "      background-color: #3B4455;\n",
              "      fill: #D2E3FC;\n",
              "    }\n",
              "\n",
              "    [theme=dark] .colab-df-convert:hover {\n",
              "      background-color: #434B5C;\n",
              "      box-shadow: 0px 1px 3px 1px rgba(0, 0, 0, 0.15);\n",
              "      filter: drop-shadow(0px 1px 2px rgba(0, 0, 0, 0.3));\n",
              "      fill: #FFFFFF;\n",
              "    }\n",
              "  </style>\n",
              "\n",
              "      <script>\n",
              "        const buttonEl =\n",
              "          document.querySelector('#df-78d64245-fccf-4a50-8b12-a01ebcd56506 button.colab-df-convert');\n",
              "        buttonEl.style.display =\n",
              "          google.colab.kernel.accessAllowed ? 'block' : 'none';\n",
              "\n",
              "        async function convertToInteractive(key) {\n",
              "          const element = document.querySelector('#df-78d64245-fccf-4a50-8b12-a01ebcd56506');\n",
              "          const dataTable =\n",
              "            await google.colab.kernel.invokeFunction('convertToInteractive',\n",
              "                                                     [key], {});\n",
              "          if (!dataTable) return;\n",
              "\n",
              "          const docLinkHtml = 'Like what you see? Visit the ' +\n",
              "            '<a target=\"_blank\" href=https://colab.research.google.com/notebooks/data_table.ipynb>data table notebook</a>'\n",
              "            + ' to learn more about interactive tables.';\n",
              "          element.innerHTML = '';\n",
              "          dataTable['output_type'] = 'display_data';\n",
              "          await google.colab.output.renderOutput(dataTable, element);\n",
              "          const docLink = document.createElement('div');\n",
              "          docLink.innerHTML = docLinkHtml;\n",
              "          element.appendChild(docLink);\n",
              "        }\n",
              "      </script>\n",
              "    </div>\n",
              "  </div>\n",
              "  "
            ]
          },
          "metadata": {},
          "execution_count": 6
        }
      ]
    },
    {
      "cell_type": "markdown",
      "source": [
        "이 데이터는 기사의 본문에 해당되는 text와 headlines 두 가지 열로 구성되어져 있습니다.\n",
        "\n",
        "추상적 요약을 하는 경우에는 text를 본문, headlines를 이미 요약된 데이터로 삼아서 모델을 학습할 수 있어요. 추출적 요약을 하는 경우에는 오직 text열만을 사용하세요."
      ],
      "metadata": {
        "id": "P7frr8SMukDt"
      }
    },
    {
      "cell_type": "code",
      "source": [
        "print('전체 샘플수 :', (len(data)))"
      ],
      "metadata": {
        "colab": {
          "base_uri": "https://localhost:8080/"
        },
        "id": "RdwMPwqizwNq",
        "outputId": "a4c5edd4-f59e-41aa-8508-bdf5f6fd81a8"
      },
      "execution_count": null,
      "outputs": [
        {
          "output_type": "stream",
          "name": "stdout",
          "text": [
            "전체 샘플수 : 98401\n"
          ]
        }
      ]
    },
    {
      "cell_type": "markdown",
      "source": [
        "#Step 2. 데이터 전처리하기 (추상적 요약)\n",
        "실습에서 사용된 전처리를 참고하여 각자 필요하다고 생각하는 전처리를 추가 사용하여 텍스트를 정규화 또는 정제해 보세요. 만약, 불용어 제거를 선택한다면 상대적으로 길이가 짧은 요약 데이터에 대해서도 불용어를 제거하는 것이 좋을지 고민해 보세요."
      ],
      "metadata": {
        "id": "05MQ0Q2numkH"
      }
    },
    {
      "cell_type": "code",
      "source": [
        "print('text 열에서 중복을 배제한 유일한 샘플의 수 :', data['text'].nunique())\n",
        "print('headlines 열에서 중복을 배제한 유일한 샘플의 수 :', data['headlines'].nunique())"
      ],
      "metadata": {
        "colab": {
          "base_uri": "https://localhost:8080/"
        },
        "id": "b-SDj1ZYz34x",
        "outputId": "3882d4fe-8a1c-4642-8d2a-2877971ad074"
      },
      "execution_count": null,
      "outputs": [
        {
          "output_type": "stream",
          "name": "stdout",
          "text": [
            "text 열에서 중복을 배제한 유일한 샘플의 수 : 98360\n",
            "headlines 열에서 중복을 배제한 유일한 샘플의 수 : 98280\n"
          ]
        }
      ]
    },
    {
      "cell_type": "code",
      "source": [
        "# inplace=True 를 설정하면 DataFrame 타입 값을 return 하지 않고 data 내부를 직접적으로 바꿉니다\n",
        "data.drop_duplicates(subset = ['text'], inplace=True)# 중복처리할 열을 입력받으면 알아서 중복데이터를 없애준다.\n",
        "print('전체 샘플수 :', (len(data)))"
      ],
      "metadata": {
        "colab": {
          "base_uri": "https://localhost:8080/"
        },
        "id": "5USrpDq4z32u",
        "outputId": "2d70514b-5a04-4808-8be2-920732aa2996"
      },
      "execution_count": null,
      "outputs": [
        {
          "output_type": "stream",
          "name": "stdout",
          "text": [
            "전체 샘플수 : 98360\n"
          ]
        }
      ]
    },
    {
      "cell_type": "code",
      "source": [
        "data.isnull().sum()# print(data.isnull().sum())"
      ],
      "metadata": {
        "colab": {
          "base_uri": "https://localhost:8080/"
        },
        "id": "8ROEXrlM0Af2",
        "outputId": "ba63d834-a3c2-4aff-908f-7451ae7165f8"
      },
      "execution_count": null,
      "outputs": [
        {
          "output_type": "execute_result",
          "data": {
            "text/plain": [
              "headlines    0\n",
              "text         0\n",
              "dtype: int64"
            ]
          },
          "metadata": {},
          "execution_count": 10
        }
      ]
    },
    {
      "cell_type": "code",
      "source": [
        "data.dropna(axis=0, inplace=True)\n",
        "print('전체 샘플수 :', (len(data)))"
      ],
      "metadata": {
        "colab": {
          "base_uri": "https://localhost:8080/"
        },
        "id": "fsSJUDt81G-x",
        "outputId": "45f1790e-cb91-490c-ea61-6af07a33f76b"
      },
      "execution_count": null,
      "outputs": [
        {
          "output_type": "stream",
          "name": "stdout",
          "text": [
            "전체 샘플수 : 98360\n"
          ]
        }
      ]
    },
    {
      "cell_type": "markdown",
      "source": [
        "#텍스트 정규화와 불용어 제거\n",
        "살아남은 88,425개의 샘플에는 수많은 단어들이 있어요. 그런데 사실 그 단어들 중에서는 같은 의미인데도 다른 표현으로 쓰여 마치 다른 단어들처럼 간주되는 경우가 있어요.\n",
        "\n",
        "예를 들어서 it'll은 it will과 같고, mustn't과 must not은 사실 같은 표현이죠. 이런 경우 기계가 굳이 이들을 마치 다른 단어로 간주하게 해서 연산량을 늘리는 것보다는 기계 학습 전에 미리 같은 표현으로 통일시켜주는 것이 기계의 연산량을 줄일 수 있는 방법이에요.\n",
        "\n",
        "이러한 방법론을 텍스트 처리에서는 텍스트 정규화(text normalization) 라고 해요."
      ],
      "metadata": {
        "id": "yRSDm2V41PBF"
      }
    },
    {
      "cell_type": "code",
      "source": [
        "contractions = {\"isn't\": \"is not\", \"aren't\": \"are not\",\"can't\": \"cannot\", \"'cause\": \"because\", \"could've\": \"could have\", \"couldn't\": \"could not\",\n",
        "                           \"didn't\": \"did not\",  \"doesn't\": \"does not\", \"don't\": \"do not\", \"hadn't\": \"had not\", \"hasn't\": \"has not\", \"haven't\": \"have not\",\n",
        "                           \"he'd\": \"he would\",\"he'll\": \"he will\", \"he's\": \"he is\", \"how'd\": \"how did\", \"how'd'y\": \"how do you\", \"how'll\": \"how will\", \"how's\": \"how is\",\n",
        "                           \"I'd\": \"I would\", \"I'd've\": \"I would have\", \"I'll\": \"I will\", \"I'll've\": \"I will have\",\"I'm\": \"I am\", \"I've\": \"I have\", \"i'd\": \"i would\",\n",
        "                           \"i'd've\": \"i would have\", \"i'll\": \"i will\",  \"i'll've\": \"i will have\",\"i'm\": \"i am\", \"i've\": \"i have\", \"isn't\": \"is not\", \"it'd\": \"it would\",\n",
        "                           \"it'd've\": \"it would have\", \"it'll\": \"it will\", \"it'll've\": \"it will have\",\"it's\": \"it is\", \"let's\": \"let us\", \"ma'am\": \"madam\",\n",
        "                           \"mayn't\": \"may not\", \"might've\": \"might have\",\"mightn't\": \"might not\",\"mightn't've\": \"might not have\", \"must've\": \"must have\",\n",
        "                           \"mustn't\": \"must not\", \"mustn't've\": \"must not have\", \"needn't\": \"need not\", \"needn't've\": \"need not have\",\"o'clock\": \"of the clock\",\n",
        "                           \"oughtn't\": \"ought not\", \"oughtn't've\": \"ought not have\", \"shan't\": \"shall not\", \"sha'n't\": \"shall not\", \"shan't've\": \"shall not have\",\n",
        "                           \"she'd\": \"she would\", \"she'd've\": \"she would have\", \"she'll\": \"she will\", \"she'll've\": \"she will have\", \"she's\": \"she is\",\n",
        "                           \"should've\": \"should have\", \"shouldn't\": \"should not\", \"shouldn't've\": \"should not have\", \"so've\": \"so have\",\"so's\": \"so as\",\n",
        "                           \"this's\": \"this is\",\"that'd\": \"that would\", \"that'd've\": \"that would have\", \"that's\": \"that is\", \"there'd\": \"there would\",\n",
        "                           \"there'd've\": \"there would have\", \"there's\": \"there is\", \"here's\": \"here is\",\"they'd\": \"they would\", \"they'd've\": \"they would have\",\n",
        "                           \"they'll\": \"they will\", \"they'll've\": \"they will have\", \"they're\": \"they are\", \"they've\": \"they have\", \"to've\": \"to have\",\n",
        "                           \"wasn't\": \"was not\", \"we'd\": \"we would\", \"we'd've\": \"we would have\", \"we'll\": \"we will\", \"we'll've\": \"we will have\", \"we're\": \"we are\",\n",
        "                           \"we've\": \"we have\", \"weren't\": \"were not\", \"what'll\": \"what will\", \"what'll've\": \"what will have\", \"what're\": \"what are\",\n",
        "                           \"what's\": \"what is\", \"what've\": \"what have\", \"when's\": \"when is\", \"when've\": \"when have\", \"where'd\": \"where did\", \"where's\": \"where is\",\n",
        "                           \"where've\": \"where have\", \"who'll\": \"who will\", \"who'll've\": \"who will have\", \"who's\": \"who is\", \"who've\": \"who have\",\n",
        "                           \"why's\": \"why is\", \"why've\": \"why have\", \"will've\": \"will have\", \"won't\": \"will not\", \"won't've\": \"will not have\",\n",
        "                           \"would've\": \"would have\", \"wouldn't\": \"would not\", \"wouldn't've\": \"would not have\", \"y'all\": \"you all\",\n",
        "                           \"y'all'd\": \"you all would\",\"y'all'd've\": \"you all would have\",\"y'all're\": \"you all are\",\"y'all've\": \"you all have\",\n",
        "                           \"you'd\": \"you would\", \"you'd've\": \"you would have\", \"you'll\": \"you will\", \"you'll've\": \"you will have\",\n",
        "                           \"you're\": \"you are\", \"you've\": \"you have\"}\n",
        "\n",
        "print(\"정규화 사전의 수: \", len(contractions))"
      ],
      "metadata": {
        "colab": {
          "base_uri": "https://localhost:8080/"
        },
        "id": "yJA-ST_11KtS",
        "outputId": "ded17876-fba7-4d70-91ae-b390efd8f343"
      },
      "execution_count": null,
      "outputs": [
        {
          "output_type": "stream",
          "name": "stdout",
          "text": [
            "정규화 사전의 수:  120\n"
          ]
        }
      ]
    },
    {
      "cell_type": "code",
      "source": [
        "print('불용어 개수 :', len(stopwords.words('english') ))\n",
        "print(stopwords.words('english'))"
      ],
      "metadata": {
        "colab": {
          "base_uri": "https://localhost:8080/"
        },
        "id": "QKqdj7pe1TuH",
        "outputId": "62ef0cbc-08fa-4282-8d2b-6940a362951f"
      },
      "execution_count": null,
      "outputs": [
        {
          "output_type": "stream",
          "name": "stdout",
          "text": [
            "불용어 개수 : 179\n",
            "['i', 'me', 'my', 'myself', 'we', 'our', 'ours', 'ourselves', 'you', \"you're\", \"you've\", \"you'll\", \"you'd\", 'your', 'yours', 'yourself', 'yourselves', 'he', 'him', 'his', 'himself', 'she', \"she's\", 'her', 'hers', 'herself', 'it', \"it's\", 'its', 'itself', 'they', 'them', 'their', 'theirs', 'themselves', 'what', 'which', 'who', 'whom', 'this', 'that', \"that'll\", 'these', 'those', 'am', 'is', 'are', 'was', 'were', 'be', 'been', 'being', 'have', 'has', 'had', 'having', 'do', 'does', 'did', 'doing', 'a', 'an', 'the', 'and', 'but', 'if', 'or', 'because', 'as', 'until', 'while', 'of', 'at', 'by', 'for', 'with', 'about', 'against', 'between', 'into', 'through', 'during', 'before', 'after', 'above', 'below', 'to', 'from', 'up', 'down', 'in', 'out', 'on', 'off', 'over', 'under', 'again', 'further', 'then', 'once', 'here', 'there', 'when', 'where', 'why', 'how', 'all', 'any', 'both', 'each', 'few', 'more', 'most', 'other', 'some', 'such', 'no', 'nor', 'not', 'only', 'own', 'same', 'so', 'than', 'too', 'very', 's', 't', 'can', 'will', 'just', 'don', \"don't\", 'should', \"should've\", 'now', 'd', 'll', 'm', 'o', 're', 've', 'y', 'ain', 'aren', \"aren't\", 'couldn', \"couldn't\", 'didn', \"didn't\", 'doesn', \"doesn't\", 'hadn', \"hadn't\", 'hasn', \"hasn't\", 'haven', \"haven't\", 'isn', \"isn't\", 'ma', 'mightn', \"mightn't\", 'mustn', \"mustn't\", 'needn', \"needn't\", 'shan', \"shan't\", 'shouldn', \"shouldn't\", 'wasn', \"wasn't\", 'weren', \"weren't\", 'won', \"won't\", 'wouldn', \"wouldn't\"]\n"
          ]
        }
      ]
    },
    {
      "cell_type": "code",
      "source": [
        "# 데이터 전처리 함수\n",
        "def preprocess_sentence(sentence, remove_stopwords=True):\n",
        "    sentence = sentence.lower() # 텍스트 소문자화\n",
        "    sentence = BeautifulSoup(sentence, \"lxml\").text # <br />, <a href = ...> 등의 html 태그 제거\n",
        "    sentence = re.sub(r'\\([^)]*\\)', '', sentence) # 괄호로 닫힌 문자열 (...) 제거 Ex) my husband (and myself!) for => my husband for\n",
        "    sentence = re.sub('\"','', sentence) # 쌍따옴표 \" 제거\n",
        "    sentence = ' '.join([contractions[t] if t in contractions else t for t in sentence.split(\" \")]) # 약어 정규화\n",
        "    sentence = re.sub(r\"'s\\b\",\"\", sentence) # 소유격 제거. Ex) roland's -> roland\n",
        "    sentence = re.sub(\"[^a-zA-Z]\", \" \", sentence) # 영어 외 문자(숫자, 특수문자 등) 공백으로 변환\n",
        "    sentence = re.sub('[m]{2,}', 'mm', sentence) # m이 3개 이상이면 2개로 변경. Ex) ummmmmmm yeah -> umm yeah\n",
        "    \n",
        "    # 불용어 제거 (Text)\n",
        "    if remove_stopwords:\n",
        "        tokens = ' '.join(word for word in sentence.split() if not word in stopwords.words('english') if len(word) > 1)\n",
        "    # 불용어 미제거 (Summary)\n",
        "    else:\n",
        "        tokens = ' '.join(word for word in sentence.split() if len(word) > 1)\n",
        "    return tokens"
      ],
      "metadata": {
        "id": "cgukljaG1XH2"
      },
      "execution_count": null,
      "outputs": []
    },
    {
      "cell_type": "code",
      "source": [
        "clean_text = []\n",
        "# 전체 Text 데이터에 대한 전처리 : 10분 이상 시간이 걸릴 수 있습니다. \n",
        "for s in data['text']:\n",
        "    clean_text.append(preprocess_sentence(s))\n",
        "\n",
        "# 전처리 후 출력\n",
        "print(\"Text 전처리 후 결과: \", clean_text[:5])"
      ],
      "metadata": {
        "colab": {
          "base_uri": "https://localhost:8080/"
        },
        "id": "2hOr4_Uk1dET",
        "outputId": "a2a4a1ab-7ce7-4c3a-c466-52b28ca1389f"
      },
      "execution_count": null,
      "outputs": [
        {
          "output_type": "stream",
          "name": "stdout",
          "text": [
            "Text 전처리 후 결과:  ['saurav kant alumnus upgrad iiit pg program machine learning artificial intelligence sr systems engineer infosys almost years work experience program upgrad degree career support helped transition data scientist tech mahindra salary hike upgrad online power learning powered lakh careers', 'kunal shah credit card bill payment platform cred gave users chance win free food swiggy one year pranav kaushik delhi techie bagged reward spending cred coins users get one cred coin per rupee bill paid used avail rewards brands like ixigo bookmyshow ubereats cult fit', 'new zealand defeated india wickets fourth odi hamilton thursday win first match five match odi series india lost international match rohit sharma captaincy consecutive victories dating back march match witnessed india getting seventh lowest total odi cricket history', 'aegon life iterm insurance plan customers enjoy tax benefits premiums paid save taxes plan provides life cover age years also customers options insure critical illnesses disability accidental death benefit rider life cover age years', 'speaking sexual harassment allegations rajkumar hirani sonam kapoor said known hirani many years true metoo movement get derailed metoo movement always believe woman case need reserve judgment added hirani accused assistant worked sanju']\n"
          ]
        }
      ]
    },
    {
      "cell_type": "code",
      "source": [
        "clean_headlines = []\n",
        "# 전체 Summary 데이터에 대한 전처리 : 5분 이상 시간이 걸릴 수 있습니다. \n",
        "for s in data['headlines']:\n",
        "    clean_headlines.append(preprocess_sentence(s, False))\n",
        "\n",
        "print(\"headlines 전처리 후 결과: \", clean_headlines[:5])"
      ],
      "metadata": {
        "colab": {
          "base_uri": "https://localhost:8080/"
        },
        "id": "AeUUW7bS1t_I",
        "outputId": "dcfad6d9-2423-4499-f025-d3f02b731eda"
      },
      "execution_count": null,
      "outputs": [
        {
          "output_type": "stream",
          "name": "stdout",
          "text": [
            "headlines 전처리 후 결과:  ['upgrad learner switches to career in ml al with salary hike', 'delhi techie wins free food from swiggy for one year on cred', 'new zealand end rohit sharma led india match winning streak', 'aegon life iterm insurance plan helps customers save tax', 'have known hirani for yrs what if metoo claims are not true sonam']\n"
          ]
        }
      ]
    },
    {
      "cell_type": "code",
      "source": [
        "data['text'] = clean_text\n",
        "data['headlines'] = clean_headlines\n",
        "\n",
        "# 빈 값을 Null 값으로 변환\n",
        "data.replace('', np.nan, inplace=True)"
      ],
      "metadata": {
        "id": "ubQfbEVQ1x8P"
      },
      "execution_count": null,
      "outputs": []
    },
    {
      "cell_type": "code",
      "source": [
        "data.isnull().sum()"
      ],
      "metadata": {
        "colab": {
          "base_uri": "https://localhost:8080/"
        },
        "id": "eJdAKjWc12L3",
        "outputId": "2c9e97f8-212d-4d41-d53b-cefa9af44116"
      },
      "execution_count": null,
      "outputs": [
        {
          "output_type": "execute_result",
          "data": {
            "text/plain": [
              "headlines    0\n",
              "text         0\n",
              "dtype: int64"
            ]
          },
          "metadata": {},
          "execution_count": 18
        }
      ]
    },
    {
      "cell_type": "code",
      "source": [
        "data.dropna(axis=0, inplace=True)\n",
        "print('전체 샘플수 :', (len(data)))"
      ],
      "metadata": {
        "colab": {
          "base_uri": "https://localhost:8080/"
        },
        "id": "Ll6wfjOx13vE",
        "outputId": "ee633394-5f68-4baa-9d51-94251a8ed488"
      },
      "execution_count": null,
      "outputs": [
        {
          "output_type": "stream",
          "name": "stdout",
          "text": [
            "전체 샘플수 : 98360\n"
          ]
        }
      ]
    },
    {
      "cell_type": "code",
      "source": [
        "# 길이 분포 출력\n",
        "import matplotlib.pyplot as plt\n",
        "\n",
        "text_len = [len(s.split()) for s in data['text']]\n",
        "headlines_len = [len(s.split()) for s in data['headlines']]\n",
        "\n",
        "print('텍스트의 최소 길이 : {}'.format(np.min(text_len)))\n",
        "print('텍스트의 최대 길이 : {}'.format(np.max(text_len)))\n",
        "print('텍스트의 평균 길이 : {}'.format(np.mean(text_len)))\n",
        "print('요약의 최소 길이 : {}'.format(np.min(headlines_len)))\n",
        "print('요약의 최대 길이 : {}'.format(np.max(headlines_len)))\n",
        "print('요약의 평균 길이 : {}'.format(np.mean(headlines_len)))\n",
        "\n",
        "plt.subplot(1,2,1)\n",
        "plt.boxplot(text_len)\n",
        "plt.title('text')\n",
        "plt.subplot(1,2,2)\n",
        "plt.boxplot(headlines_len)\n",
        "plt.title('headlines')\n",
        "plt.tight_layout()\n",
        "plt.show()\n",
        "\n",
        "plt.title('text')\n",
        "plt.hist(text_len, bins = 40)\n",
        "plt.xlabel('length of samples')\n",
        "plt.ylabel('number of samples')\n",
        "plt.show()\n",
        "\n",
        "plt.title('headlines')\n",
        "plt.hist(headlines_len, bins = 40)\n",
        "plt.xlabel('length of samples')\n",
        "plt.ylabel('number of samples')\n",
        "plt.show()"
      ],
      "metadata": {
        "colab": {
          "base_uri": "https://localhost:8080/",
          "height": 960
        },
        "id": "C4B4FGZS1691",
        "outputId": "a0d7fec9-8b75-4101-897c-87679c218713"
      },
      "execution_count": null,
      "outputs": [
        {
          "output_type": "stream",
          "name": "stdout",
          "text": [
            "텍스트의 최소 길이 : 1\n",
            "텍스트의 최대 길이 : 60\n",
            "텍스트의 평균 길이 : 35.09968483123221\n",
            "요약의 최소 길이 : 1\n",
            "요약의 최대 길이 : 16\n",
            "요약의 평균 길이 : 9.299532330215534\n"
          ]
        },
        {
          "output_type": "display_data",
          "data": {
            "text/plain": [
              "<Figure size 432x288 with 2 Axes>"
            ],
            "image/png": "[encoded data removed]"
          },
          "metadata": {
            "needs_background": "light"
          }
        },
        {
          "output_type": "display_data",
          "data": {
            "text/plain": [
              "<Figure size 432x288 with 1 Axes>"
            ],
            "image/png": "[encoded data removed]"
          },
          "metadata": {
            "needs_background": "light"
          }
        },
        {
          "output_type": "display_data",
          "data": {
            "text/plain": [
              "<Figure size 432x288 with 1 Axes>"
            ],
            "image/png": "[encoded data removed]"
          },
          "metadata": {
            "needs_background": "light"
          }
        }
      ]
    },
    {
      "cell_type": "code",
      "source": [
        "text_max_len = 35\n",
        "headlines_max_len = 11# 익스에선 위에 그래프값 보고 바꾸어줘야함"
      ],
      "metadata": {
        "id": "iVza0ggA1_Ig"
      },
      "execution_count": null,
      "outputs": []
    },
    {
      "cell_type": "code",
      "source": [
        "def below_threshold_len(max_len, nested_list):\n",
        "  cnt = 0\n",
        "  for s in nested_list:\n",
        "    if(len(s.split()) <= max_len):\n",
        "        cnt = cnt + 1\n",
        "  print('전체 샘플 중 길이가 %s 이하인 샘플의 비율: %s'%(max_len, (cnt / len(nested_list))))"
      ],
      "metadata": {
        "id": "RUnoP3Wm2CZX"
      },
      "execution_count": null,
      "outputs": []
    },
    {
      "cell_type": "code",
      "source": [
        "below_threshold_len(text_max_len, data['text'])\n",
        "below_threshold_len(headlines_max_len,  data['headlines'])"
      ],
      "metadata": {
        "colab": {
          "base_uri": "https://localhost:8080/"
        },
        "id": "2JwPIAV82GtY",
        "outputId": "c409b1f4-58a2-437f-8ba8-a030b6b2c13f"
      },
      "execution_count": null,
      "outputs": [
        {
          "output_type": "stream",
          "name": "stdout",
          "text": [
            "전체 샘플 중 길이가 40 이하인 샘플의 비율: 0.9238714924766165\n",
            "전체 샘플 중 길이가 11 이하인 샘플의 비율: 0.9449877999186661\n"
          ]
        }
      ]
    },
    {
      "cell_type": "code",
      "source": [
        "data = data[data['text'].apply(lambda x: len(x.split()) <= text_max_len)]\n",
        "data = data[data['headlines'].apply(lambda x: len(x.split()) <= headlines_max_len)]\n",
        "print('전체 샘플수 :', (len(data)))"
      ],
      "metadata": {
        "colab": {
          "base_uri": "https://localhost:8080/"
        },
        "id": "SZDazbTV2GrT",
        "outputId": "b2737f9e-27fb-4cf4-a2de-3caf97d43e52"
      },
      "execution_count": null,
      "outputs": [
        {
          "output_type": "stream",
          "name": "stdout",
          "text": [
            "전체 샘플수 : 85843\n"
          ]
        }
      ]
    },
    {
      "cell_type": "code",
      "source": [
        "# 요약 데이터에는 시작 토큰과 종료 토큰을 추가한다.\n",
        "data['decoder_input'] = data['headlines'].apply(lambda x : 'sostoken '+ x)\n",
        "data['decoder_target'] = data['headlines'].apply(lambda x : x + ' eostoken')\n",
        "data.head()"
      ],
      "metadata": {
        "colab": {
          "base_uri": "https://localhost:8080/",
          "height": 420
        },
        "id": "PMy-fxCR2Got",
        "outputId": "9e20a801-5904-46f3-b459-592802d55c44"
      },
      "execution_count": null,
      "outputs": [
        {
          "output_type": "stream",
          "name": "stderr",
          "text": [
            "/usr/local/lib/python3.7/dist-packages/ipykernel_launcher.py:2: SettingWithCopyWarning: \n",
            "A value is trying to be set on a copy of a slice from a DataFrame.\n",
            "Try using .loc[row_indexer,col_indexer] = value instead\n",
            "\n",
            "See the caveats in the documentation: https://pandas.pydata.org/pandas-docs/stable/user_guide/indexing.html#returning-a-view-versus-a-copy\n",
            "  \n",
            "/usr/local/lib/python3.7/dist-packages/ipykernel_launcher.py:3: SettingWithCopyWarning: \n",
            "A value is trying to be set on a copy of a slice from a DataFrame.\n",
            "Try using .loc[row_indexer,col_indexer] = value instead\n",
            "\n",
            "See the caveats in the documentation: https://pandas.pydata.org/pandas-docs/stable/user_guide/indexing.html#returning-a-view-versus-a-copy\n",
            "  This is separate from the ipykernel package so we can avoid doing imports until\n"
          ]
        },
        {
          "output_type": "execute_result",
          "data": {
            "text/plain": [
              "                                           headlines  \\\n",
              "0  upgrad learner switches to career in ml al wit...   \n",
              "2  new zealand end rohit sharma led india match w...   \n",
              "3  aegon life iterm insurance plan helps customer...   \n",
              "5  rahat fateh ali khan denies getting notice for...   \n",
              "7  govt directs alok verma to join work day befor...   \n",
              "\n",
              "                                                text  \\\n",
              "0  saurav kant alumnus upgrad iiit pg program mac...   \n",
              "2  new zealand defeated india wickets fourth odi ...   \n",
              "3  aegon life iterm insurance plan customers enjo...   \n",
              "5  pakistani singer rahat fateh ali khan denied r...   \n",
              "7  weeks ex cbi director alok verma told departme...   \n",
              "\n",
              "                                       decoder_input  \\\n",
              "0  sostoken upgrad learner switches to career in ...   \n",
              "2  sostoken new zealand end rohit sharma led indi...   \n",
              "3  sostoken aegon life iterm insurance plan helps...   \n",
              "5  sostoken rahat fateh ali khan denies getting n...   \n",
              "7  sostoken govt directs alok verma to join work ...   \n",
              "\n",
              "                                      decoder_target  \n",
              "0  upgrad learner switches to career in ml al wit...  \n",
              "2  new zealand end rohit sharma led india match w...  \n",
              "3  aegon life iterm insurance plan helps customer...  \n",
              "5  rahat fateh ali khan denies getting notice for...  \n",
              "7  govt directs alok verma to join work day befor...  "
            ],
            "text/html": [
              "\n",
              "  <div id=\"df-f6f20c5c-3e4e-4f99-8f25-2b85d968b31e\">\n",
              "    <div class=\"colab-df-container\">\n",
              "      <div>\n",
              "<style scoped>\n",
              "    .dataframe tbody tr th:only-of-type {\n",
              "        vertical-align: middle;\n",
              "    }\n",
              "\n",
              "    .dataframe tbody tr th {\n",
              "        vertical-align: top;\n",
              "    }\n",
              "\n",
              "    .dataframe thead th {\n",
              "        text-align: right;\n",
              "    }\n",
              "</style>\n",
              "<table border=\"1\" class=\"dataframe\">\n",
              "  <thead>\n",
              "    <tr style=\"text-align: right;\">\n",
              "      <th></th>\n",
              "      <th>headlines</th>\n",
              "      <th>text</th>\n",
              "      <th>decoder_input</th>\n",
              "      <th>decoder_target</th>\n",
              "    </tr>\n",
              "  </thead>\n",
              "  <tbody>\n",
              "    <tr>\n",
              "      <th>0</th>\n",
              "      <td>upgrad learner switches to career in ml al wit...</td>\n",
              "      <td>saurav kant alumnus upgrad iiit pg program mac...</td>\n",
              "      <td>sostoken upgrad learner switches to career in ...</td>\n",
              "      <td>upgrad learner switches to career in ml al wit...</td>\n",
              "    </tr>\n",
              "    <tr>\n",
              "      <th>2</th>\n",
              "      <td>new zealand end rohit sharma led india match w...</td>\n",
              "      <td>new zealand defeated india wickets fourth odi ...</td>\n",
              "      <td>sostoken new zealand end rohit sharma led indi...</td>\n",
              "      <td>new zealand end rohit sharma led india match w...</td>\n",
              "    </tr>\n",
              "    <tr>\n",
              "      <th>3</th>\n",
              "      <td>aegon life iterm insurance plan helps customer...</td>\n",
              "      <td>aegon life iterm insurance plan customers enjo...</td>\n",
              "      <td>sostoken aegon life iterm insurance plan helps...</td>\n",
              "      <td>aegon life iterm insurance plan helps customer...</td>\n",
              "    </tr>\n",
              "    <tr>\n",
              "      <th>5</th>\n",
              "      <td>rahat fateh ali khan denies getting notice for...</td>\n",
              "      <td>pakistani singer rahat fateh ali khan denied r...</td>\n",
              "      <td>sostoken rahat fateh ali khan denies getting n...</td>\n",
              "      <td>rahat fateh ali khan denies getting notice for...</td>\n",
              "    </tr>\n",
              "    <tr>\n",
              "      <th>7</th>\n",
              "      <td>govt directs alok verma to join work day befor...</td>\n",
              "      <td>weeks ex cbi director alok verma told departme...</td>\n",
              "      <td>sostoken govt directs alok verma to join work ...</td>\n",
              "      <td>govt directs alok verma to join work day befor...</td>\n",
              "    </tr>\n",
              "  </tbody>\n",
              "</table>\n",
              "</div>\n",
              "      <button class=\"colab-df-convert\" onclick=\"convertToInteractive('df-f6f20c5c-3e4e-4f99-8f25-2b85d968b31e')\"\n",
              "              title=\"Convert this dataframe to an interactive table.\"\n",
              "              style=\"display:none;\">\n",
              "        \n",
              "  <svg xmlns=\"http://www.w3.org/2000/svg\" height=\"24px\"viewBox=\"0 0 24 24\"\n",
              "       width=\"24px\">\n",
              "    <path d=\"M0 0h24v24H0V0z\" fill=\"none\"/>\n",
              "    <path d=\"M18.56 5.44l.94 2.06.94-2.06 2.06-.94-2.06-.94-.94-2.06-.94 2.06-2.06.94zm-11 1L8.5 8.5l.94-2.06 2.06-.94-2.06-.94L8.5 2.5l-.94 2.06-2.06.94zm10 10l.94 2.06.94-2.06 2.06-.94-2.06-.94-.94-2.06-.94 2.06-2.06.94z\"/><path d=\"M17.41 7.96l-1.37-1.37c-.4-.4-.92-.59-1.43-.59-.52 0-1.04.2-1.43.59L10.3 9.45l-7.72 7.72c-.78.78-.78 2.05 0 2.83L4 21.41c.39.39.9.59 1.41.59.51 0 1.02-.2 1.41-.59l7.78-7.78 2.81-2.81c.8-.78.8-2.07 0-2.86zM5.41 20L4 18.59l7.72-7.72 1.47 1.35L5.41 20z\"/>\n",
              "  </svg>\n",
              "      </button>\n",
              "      \n",
              "  <style>\n",
              "    .colab-df-container {\n",
              "      display:flex;\n",
              "      flex-wrap:wrap;\n",
              "      gap: 12px;\n",
              "    }\n",
              "\n",
              "    .colab-df-convert {\n",
              "      background-color: #E8F0FE;\n",
              "      border: none;\n",
              "      border-radius: 50%;\n",
              "      cursor: pointer;\n",
              "      display: none;\n",
              "      fill: #1967D2;\n",
              "      height: 32px;\n",
              "      padding: 0 0 0 0;\n",
              "      width: 32px;\n",
              "    }\n",
              "\n",
              "    .colab-df-convert:hover {\n",
              "      background-color: #E2EBFA;\n",
              "      box-shadow: 0px 1px 2px rgba(60, 64, 67, 0.3), 0px 1px 3px 1px rgba(60, 64, 67, 0.15);\n",
              "      fill: #174EA6;\n",
              "    }\n",
              "\n",
              "    [theme=dark] .colab-df-convert {\n",
              "      background-color: #3B4455;\n",
              "      fill: #D2E3FC;\n",
              "    }\n",
              "\n",
              "    [theme=dark] .colab-df-convert:hover {\n",
              "      background-color: #434B5C;\n",
              "      box-shadow: 0px 1px 3px 1px rgba(0, 0, 0, 0.15);\n",
              "      filter: drop-shadow(0px 1px 2px rgba(0, 0, 0, 0.3));\n",
              "      fill: #FFFFFF;\n",
              "    }\n",
              "  </style>\n",
              "\n",
              "      <script>\n",
              "        const buttonEl =\n",
              "          document.querySelector('#df-f6f20c5c-3e4e-4f99-8f25-2b85d968b31e button.colab-df-convert');\n",
              "        buttonEl.style.display =\n",
              "          google.colab.kernel.accessAllowed ? 'block' : 'none';\n",
              "\n",
              "        async function convertToInteractive(key) {\n",
              "          const element = document.querySelector('#df-f6f20c5c-3e4e-4f99-8f25-2b85d968b31e');\n",
              "          const dataTable =\n",
              "            await google.colab.kernel.invokeFunction('convertToInteractive',\n",
              "                                                     [key], {});\n",
              "          if (!dataTable) return;\n",
              "\n",
              "          const docLinkHtml = 'Like what you see? Visit the ' +\n",
              "            '<a target=\"_blank\" href=https://colab.research.google.com/notebooks/data_table.ipynb>data table notebook</a>'\n",
              "            + ' to learn more about interactive tables.';\n",
              "          element.innerHTML = '';\n",
              "          dataTable['output_type'] = 'display_data';\n",
              "          await google.colab.output.renderOutput(dataTable, element);\n",
              "          const docLink = document.createElement('div');\n",
              "          docLink.innerHTML = docLinkHtml;\n",
              "          element.appendChild(docLink);\n",
              "        }\n",
              "      </script>\n",
              "    </div>\n",
              "  </div>\n",
              "  "
            ]
          },
          "metadata": {},
          "execution_count": 25
        }
      ]
    },
    {
      "cell_type": "code",
      "source": [
        "encoder_input = np.array(data['text']) # 인코더의 입력\n",
        "decoder_input = np.array(data['decoder_input']) # 디코더의 입력\n",
        "decoder_target = np.array(data['decoder_target']) # 디코더의 레이블"
      ],
      "metadata": {
        "id": "ig22JzlM2RQq"
      },
      "execution_count": null,
      "outputs": []
    },
    {
      "cell_type": "code",
      "source": [
        "indices = np.arange(encoder_input.shape[0])\n",
        "np.random.shuffle(indices)\n",
        "print(indices)"
      ],
      "metadata": {
        "colab": {
          "base_uri": "https://localhost:8080/"
        },
        "id": "tj0OyVNV2UBN",
        "outputId": "82122bf5-171c-4bf2-a831-d7256f451aaf"
      },
      "execution_count": null,
      "outputs": [
        {
          "output_type": "stream",
          "name": "stdout",
          "text": [
            "[85499 15934 82469 ...  5169 23766 61693]\n"
          ]
        }
      ]
    },
    {
      "cell_type": "code",
      "source": [
        "encoder_input = encoder_input[indices]\n",
        "decoder_input = decoder_input[indices]\n",
        "decoder_target = decoder_target[indices]"
      ],
      "metadata": {
        "id": "uoF0Pc5x2T_a"
      },
      "execution_count": null,
      "outputs": []
    },
    {
      "cell_type": "code",
      "source": [
        "n_of_val = int(len(encoder_input)*0.2)\n",
        "print('테스트 데이터의 수 :', n_of_val)"
      ],
      "metadata": {
        "colab": {
          "base_uri": "https://localhost:8080/"
        },
        "id": "GcnmpEIT2T9T",
        "outputId": "bf153f10-b4fd-47d0-8ead-29c0d1c10352"
      },
      "execution_count": null,
      "outputs": [
        {
          "output_type": "stream",
          "name": "stdout",
          "text": [
            "테스트 데이터의 수 : 17168\n"
          ]
        }
      ]
    },
    {
      "cell_type": "code",
      "source": [
        "encoder_input_train = encoder_input[:-n_of_val]\n",
        "decoder_input_train = decoder_input[:-n_of_val]\n",
        "decoder_target_train = decoder_target[:-n_of_val]\n",
        "\n",
        "encoder_input_test = encoder_input[-n_of_val:]\n",
        "decoder_input_test = decoder_input[-n_of_val:]\n",
        "decoder_target_test = decoder_target[-n_of_val:]\n",
        "\n",
        "print('훈련 데이터의 개수 :', len(encoder_input_train))\n",
        "print('훈련 레이블의 개수 :', len(decoder_input_train))\n",
        "print('테스트 데이터의 개수 :', len(encoder_input_test))\n",
        "print('테스트 레이블의 개수 :', len(decoder_input_test))"
      ],
      "metadata": {
        "colab": {
          "base_uri": "https://localhost:8080/"
        },
        "id": "CuU2WQpz2Ych",
        "outputId": "e472307d-a88a-40a1-a6bd-ae8e60bcac1f"
      },
      "execution_count": null,
      "outputs": [
        {
          "output_type": "stream",
          "name": "stdout",
          "text": [
            "훈련 데이터의 개수 : 68675\n",
            "훈련 레이블의 개수 : 68675\n",
            "테스트 데이터의 개수 : 17168\n",
            "테스트 레이블의 개수 : 17168\n"
          ]
        }
      ]
    },
    {
      "cell_type": "code",
      "source": [
        "src_tokenizer = Tokenizer() # 토크나이저 정의\n",
        "src_tokenizer.fit_on_texts(encoder_input_train) # 입력된 데이터로부터 단어 집합 생성"
      ],
      "metadata": {
        "id": "0j05sGWA2YhN"
      },
      "execution_count": null,
      "outputs": []
    },
    {
      "cell_type": "code",
      "source": [
        "threshold = 7\n",
        "total_cnt = len(src_tokenizer.word_index) # 단어의 수\n",
        "rare_cnt = 0 # 등장 빈도수가 threshold보다 작은 단어의 개수를 카운트\n",
        "total_freq = 0 # 훈련 데이터의 전체 단어 빈도수 총 합\n",
        "rare_freq = 0 # 등장 빈도수가 threshold보다 작은 단어의 등장 빈도수의 총 합\n",
        "\n",
        "# 단어와 빈도수의 쌍(pair)을 key와 value로 받는다.\n",
        "for key, value in src_tokenizer.word_counts.items():\n",
        "    total_freq = total_freq + value\n",
        "    \n",
        "\n",
        "    # 단어의 등장 빈도수가 threshold보다 작으면\n",
        "    if(value < threshold):\n",
        "        rare_cnt = rare_cnt + 1\n",
        "        rare_freq = rare_freq + value\n",
        "\n",
        "print('단어 집합(vocabulary)의 크기 :', total_cnt)\n",
        "print('등장 빈도가 %s번 이하인 희귀 단어의 수: %s'%(threshold - 1, rare_cnt))\n",
        "print('단어 집합에서 희귀 단어를 제외시킬 경우의 단어 집합의 크기 %s'%(total_cnt - rare_cnt))\n",
        "print(\"단어 집합에서 희귀 단어의 비율:\", (rare_cnt / total_cnt)*100)\n",
        "print(\"전체 등장 빈도에서 희귀 단어 등장 빈도 비율:\", (rare_freq / total_freq)*100)"
      ],
      "metadata": {
        "colab": {
          "base_uri": "https://localhost:8080/"
        },
        "id": "tq3bqaQw2Ymg",
        "outputId": "92109011-ef21-41c3-c134-d1ea44fdc746"
      },
      "execution_count": null,
      "outputs": [
        {
          "output_type": "stream",
          "name": "stdout",
          "text": [
            "단어 집합(vocabulary)의 크기 : 64686\n",
            "등장 빈도가 6번 이하인 희귀 단어의 수: 44141\n",
            "단어 집합에서 희귀 단어를 제외시킬 경우의 단어 집합의 크기 20545\n",
            "단어 집합에서 희귀 단어의 비율: 68.2388770367622\n",
            "전체 등장 빈도에서 희귀 단어 등장 빈도 비율: 3.7989877907741274\n"
          ]
        }
      ]
    },
    {
      "cell_type": "code",
      "source": [
        "src_vocab = 20000\n",
        "src_tokenizer = Tokenizer(num_words=src_vocab) # 단어 집합의 크기를 20,000으로 제한\n",
        "src_tokenizer.fit_on_texts(encoder_input_train) # 단어 집합 재생성"
      ],
      "metadata": {
        "id": "E-4V4LHM2T6t"
      },
      "execution_count": null,
      "outputs": []
    },
    {
      "cell_type": "code",
      "source": [
        "# 텍스트 시퀀스를 정수 시퀀스로 변환\n",
        "encoder_input_train = src_tokenizer.texts_to_sequences(encoder_input_train) \n",
        "encoder_input_test = src_tokenizer.texts_to_sequences(encoder_input_test)\n",
        "\n",
        "# 잘 진행되었는지 샘플 출력\n",
        "print(encoder_input_train[:3])"
      ],
      "metadata": {
        "colab": {
          "base_uri": "https://localhost:8080/"
        },
        "id": "H5-jtDC22mrJ",
        "outputId": "f6eb9e0f-a5b1-4740-8d3b-48d1d1b92b2a"
      },
      "execution_count": null,
      "outputs": [
        {
          "output_type": "stream",
          "name": "stdout",
          "text": [
            "[[2, 14, 11502, 2749, 620, 226, 892, 9015, 364, 1323, 2749, 701, 152, 395, 164, 148, 10300, 371, 650, 806, 231, 14770, 334, 4255, 11, 771, 22, 28, 887], [3486, 310, 2, 14, 2047, 13632, 17036, 5967, 5968, 372, 92, 372, 2, 14, 1256, 17037, 439, 1397, 100, 636, 2, 14, 259, 2047, 876, 9585, 231, 23, 14, 361, 184, 592, 4179], [154, 714, 47, 801, 51, 30, 346, 581, 991, 259, 2213, 991, 918, 213, 33, 801, 6, 1820, 581, 1642, 1740, 283, 581, 1477, 1574, 259, 2578, 333, 2288, 259, 2213, 6569, 3815, 19171, 4886, 6750, 2578, 333]]\n"
          ]
        }
      ]
    },
    {
      "cell_type": "code",
      "source": [
        "tar_tokenizer = Tokenizer()\n",
        "tar_tokenizer.fit_on_texts(decoder_input_train)"
      ],
      "metadata": {
        "id": "JsDbo3rE2mwM"
      },
      "execution_count": null,
      "outputs": []
    },
    {
      "cell_type": "code",
      "source": [
        "threshold = 6\n",
        "total_cnt = len(tar_tokenizer.word_index) # 단어의 수\n",
        "rare_cnt = 0 # 등장 빈도수가 threshold보다 작은 단어의 개수를 카운트\n",
        "total_freq = 0 # 훈련 데이터의 전체 단어 빈도수 총 합\n",
        "rare_freq = 0 # 등장 빈도수가 threshold보다 작은 단어의 등장 빈도수의 총 합\n",
        "\n",
        "# 단어와 빈도수의 쌍(pair)을 key와 value로 받는다.\n",
        "for key, value in tar_tokenizer.word_counts.items():\n",
        "    total_freq = total_freq + value\n",
        "\n",
        "    # 단어의 등장 빈도수가 threshold보다 작으면\n",
        "    if(value < threshold):\n",
        "        rare_cnt = rare_cnt + 1\n",
        "        rare_freq = rare_freq + value\n",
        "\n",
        "print('단어 집합(vocabulary)의 크기 :', total_cnt)\n",
        "print('등장 빈도가 %s번 이하인 희귀 단어의 수: %s'%(threshold - 1, rare_cnt))\n",
        "print('단어 집합에서 희귀 단어를 제외시킬 경우의 단어 집합의 크기 %s'%(total_cnt - rare_cnt))\n",
        "print(\"단어 집합에서 희귀 단어의 비율:\", (rare_cnt / total_cnt)*100)\n",
        "print(\"전체 등장 빈도에서 희귀 단어 등장 빈도 비율:\", (rare_freq / total_freq)*100)"
      ],
      "metadata": {
        "colab": {
          "base_uri": "https://localhost:8080/"
        },
        "id": "kXdGCafX2m1D",
        "outputId": "1ab5a106-fe24-4309-ca34-93e034151ef4"
      },
      "execution_count": null,
      "outputs": [
        {
          "output_type": "stream",
          "name": "stdout",
          "text": [
            "단어 집합(vocabulary)의 크기 : 28510\n",
            "등장 빈도가 5번 이하인 희귀 단어의 수: 18747\n",
            "단어 집합에서 희귀 단어를 제외시킬 경우의 단어 집합의 크기 9763\n",
            "단어 집합에서 희귀 단어의 비율: 65.75587513153279\n",
            "전체 등장 빈도에서 희귀 단어 등장 빈도 비율: 5.142963131241967\n"
          ]
        }
      ]
    },
    {
      "cell_type": "code",
      "source": [
        "tar_vocab = 10000\n",
        "tar_tokenizer = Tokenizer(num_words=tar_vocab) \n",
        "tar_tokenizer.fit_on_texts(decoder_input_train)\n",
        "tar_tokenizer.fit_on_texts(decoder_target_train)\n",
        "\n",
        "# 텍스트 시퀀스를 정수 시퀀스로 변환\n",
        "decoder_input_train = tar_tokenizer.texts_to_sequences(decoder_input_train) \n",
        "decoder_target_train = tar_tokenizer.texts_to_sequences(decoder_target_train)\n",
        "decoder_input_test = tar_tokenizer.texts_to_sequences(decoder_input_test)\n",
        "decoder_target_test = tar_tokenizer.texts_to_sequences(decoder_target_test)\n",
        "\n",
        "# 잘 변환되었는지 확인\n",
        "print('input')\n",
        "print('input ',decoder_input_train[:5])\n",
        "print('target')\n",
        "print('decoder ',decoder_target_train[:5])"
      ],
      "metadata": {
        "colab": {
          "base_uri": "https://localhost:8080/"
        },
        "id": "KdrEuyIC2m5X",
        "outputId": "cd994f1d-1b33-4c12-e7a1-19d0af9487e5"
      },
      "execution_count": null,
      "outputs": [
        {
          "output_type": "stream",
          "name": "stdout",
          "text": [
            "input\n",
            "input  [[1, 1125, 65, 16, 4261, 4, 947], [1, 36, 31, 5416, 43, 95, 348], [1, 175, 236, 335, 8, 310, 1465, 184, 1276], [1, 299, 8193, 7086, 2340, 114, 576, 3, 5161, 543], [1, 107, 1012, 7596, 3, 2531, 87, 17, 1605, 2858, 6286, 5417]]\n",
            "target\n",
            "decoder  [[1125, 65, 16, 4261, 4, 947, 2], [36, 31, 5416, 43, 95, 348, 2], [175, 236, 335, 8, 310, 1465, 184, 1276, 2], [299, 8193, 7086, 2340, 114, 576, 3, 5161, 543, 2], [107, 1012, 7596, 3, 2531, 87, 17, 1605, 2858, 6286, 5417, 2]]\n"
          ]
        }
      ]
    },
    {
      "cell_type": "code",
      "source": [
        "drop_train = [index for index, sentence in enumerate(decoder_input_train) if len(sentence) == 1]\n",
        "drop_test = [index for index, sentence in enumerate(decoder_input_test) if len(sentence) == 1]\n",
        "\n",
        "print('삭제할 훈련 데이터의 개수 :', len(drop_train))\n",
        "print('삭제할 테스트 데이터의 개수 :', len(drop_test))\n",
        "\n",
        "encoder_input_train = [sentence for index, sentence in enumerate(encoder_input_train) if index not in drop_train]\n",
        "decoder_input_train = [sentence for index, sentence in enumerate(decoder_input_train) if index not in drop_train]\n",
        "decoder_target_train = [sentence for index, sentence in enumerate(decoder_target_train) if index not in drop_train]\n",
        "\n",
        "encoder_input_test = [sentence for index, sentence in enumerate(encoder_input_test) if index not in drop_test]\n",
        "decoder_input_test = [sentence for index, sentence in enumerate(decoder_input_test) if index not in drop_test]\n",
        "decoder_target_test = [sentence for index, sentence in enumerate(decoder_target_test) if index not in drop_test]\n",
        "\n",
        "print('훈련 데이터의 개수 :', len(encoder_input_train))\n",
        "print('훈련 레이블의 개수 :', len(decoder_input_train))\n",
        "print('테스트 데이터의 개수 :', len(encoder_input_test))\n",
        "print('테스트 레이블의 개수 :', len(decoder_input_test))"
      ],
      "metadata": {
        "colab": {
          "base_uri": "https://localhost:8080/"
        },
        "id": "FGKS8Qa-2zLN",
        "outputId": "06b234f6-a4bd-4ade-88c7-4a3f4c0fd9e5"
      },
      "execution_count": null,
      "outputs": [
        {
          "output_type": "stream",
          "name": "stdout",
          "text": [
            "삭제할 훈련 데이터의 개수 : 0\n",
            "삭제할 테스트 데이터의 개수 : 0\n",
            "훈련 데이터의 개수 : 68675\n",
            "훈련 레이블의 개수 : 68675\n",
            "테스트 데이터의 개수 : 17168\n",
            "테스트 레이블의 개수 : 17168\n"
          ]
        }
      ]
    },
    {
      "cell_type": "code",
      "source": [
        "encoder_input_train = pad_sequences(encoder_input_train, maxlen=text_max_len, padding='post')\n",
        "encoder_input_test = pad_sequences(encoder_input_test, maxlen=text_max_len, padding='post')\n",
        "decoder_input_train = pad_sequences(decoder_input_train, maxlen=headlines_max_len, padding='post')\n",
        "decoder_target_train = pad_sequences(decoder_target_train, maxlen=headlines_max_len, padding='post')\n",
        "decoder_input_test = pad_sequences(decoder_input_test, maxlen=headlines_max_len, padding='post')\n",
        "decoder_target_test = pad_sequences(decoder_target_test, maxlen=headlines_max_len, padding='post')"
      ],
      "metadata": {
        "id": "X7aplhrY2zJI"
      },
      "execution_count": null,
      "outputs": []
    },
    {
      "cell_type": "code",
      "source": [
        "from tensorflow.keras.layers import Input, LSTM, Embedding, Dense, Concatenate, TimeDistributed\n",
        "from tensorflow.keras.models import Model\n",
        "from tensorflow.keras.callbacks import EarlyStopping, ModelCheckpoint\n",
        "\n",
        "\n",
        "# 인코더 설계 시작\n",
        "embedding_dim = 128\n",
        "hidden_size = 256\n",
        "\n",
        "# 인코더\n",
        "encoder_inputs = Input(shape=(text_max_len,))\n",
        "\n",
        "# 인코더의 임베딩 층\n",
        "enc_emb = Embedding(src_vocab, embedding_dim)(encoder_inputs)\n",
        "\n",
        "# 인코더의 LSTM 1\n",
        "# encoder_lstm1 = LSTM(hidden_size, return_sequences=True, return_state=True ,dropout = 0.4, recurrent_dropout = 0.4)\n",
        "encoder_lstm1 = LSTM(hidden_size, return_sequences=True, return_state=True ,dropout = 0.4)\n",
        "encoder_output1, state_h1, state_c1 = encoder_lstm1(enc_emb)\n",
        "\n",
        "# 인코더의 LSTM 2\n",
        "# encoder_lstm2 = LSTM(hidden_size, return_sequences=True, return_state=True, dropout=0.4, recurrent_dropout=0.4)\n",
        "encoder_lstm2 = LSTM(hidden_size, return_sequences=True, return_state=True, dropout=0.4)\n",
        "encoder_output2, state_h2, state_c2 = encoder_lstm2(encoder_output1)\n",
        "\n",
        "# 인코더의 LSTM 3\n",
        "# encoder_lstm3 = LSTM(hidden_size, return_state=True, return_sequences=True, dropout=0.4, recurrent_dropout=0.4)\n",
        "encoder_lstm3 = LSTM(hidden_size, return_state=True, return_sequences=True, dropout=0.4)\n",
        "encoder_outputs, state_h, state_c= encoder_lstm3(encoder_output2)"
      ],
      "metadata": {
        "id": "QJcozNwv2zGy"
      },
      "execution_count": null,
      "outputs": []
    },
    {
      "cell_type": "code",
      "source": [
        "# 디코더 설계\n",
        "decoder_inputs = Input(shape=(None,))\n",
        "\n",
        "# 디코더의 임베딩 층\n",
        "dec_emb_layer = Embedding(tar_vocab, embedding_dim)\n",
        "dec_emb = dec_emb_layer(decoder_inputs)\n",
        "\n",
        "# 디코더의 LSTM\n",
        "# decoder_lstm = LSTM(hidden_size, return_sequences=True, return_state=True, dropout=0.4, recurrent_dropout=0.2)\n",
        "decoder_lstm = LSTM(hidden_size, return_sequences=True, return_state=True, dropout=0.4)\n",
        "decoder_outputs, _, _ = decoder_lstm(dec_emb, initial_state=[state_h, state_c])"
      ],
      "metadata": {
        "id": "gfQP6dx02zBD"
      },
      "execution_count": null,
      "outputs": []
    },
    {
      "cell_type": "code",
      "source": [
        "# 디코더의 출력층\n",
        "decoder_softmax_layer = Dense(tar_vocab, activation='softmax')\n",
        "decoder_softmax_outputs = decoder_softmax_layer(decoder_outputs) \n",
        "\n",
        "# 모델 정의\n",
        "model = Model([encoder_inputs, decoder_inputs], decoder_softmax_outputs)\n",
        "model.summary()"
      ],
      "metadata": {
        "colab": {
          "base_uri": "https://localhost:8080/"
        },
        "id": "XpF3wvMb2y-w",
        "outputId": "e637dfea-297a-4b56-b10a-113455302b94"
      },
      "execution_count": null,
      "outputs": [
        {
          "output_type": "stream",
          "name": "stdout",
          "text": [
            "Model: \"model\"\n",
            "__________________________________________________________________________________________________\n",
            " Layer (type)                   Output Shape         Param #     Connected to                     \n",
            "==================================================================================================\n",
            " input_1 (InputLayer)           [(None, 40)]         0           []                               \n",
            "                                                                                                  \n",
            " embedding (Embedding)          (None, 40, 128)      2560000     ['input_1[0][0]']                \n",
            "                                                                                                  \n",
            " lstm (LSTM)                    [(None, 40, 256),    394240      ['embedding[0][0]']              \n",
            "                                 (None, 256),                                                     \n",
            "                                 (None, 256)]                                                     \n",
            "                                                                                                  \n",
            " input_2 (InputLayer)           [(None, None)]       0           []                               \n",
            "                                                                                                  \n",
            " lstm_1 (LSTM)                  [(None, 40, 256),    525312      ['lstm[0][0]']                   \n",
            "                                 (None, 256),                                                     \n",
            "                                 (None, 256)]                                                     \n",
            "                                                                                                  \n",
            " embedding_1 (Embedding)        (None, None, 128)    1280000     ['input_2[0][0]']                \n",
            "                                                                                                  \n",
            " lstm_2 (LSTM)                  [(None, 40, 256),    525312      ['lstm_1[0][0]']                 \n",
            "                                 (None, 256),                                                     \n",
            "                                 (None, 256)]                                                     \n",
            "                                                                                                  \n",
            " lstm_3 (LSTM)                  [(None, None, 256),  394240      ['embedding_1[0][0]',            \n",
            "                                 (None, 256),                     'lstm_2[0][1]',                 \n",
            "                                 (None, 256)]                     'lstm_2[0][2]']                 \n",
            "                                                                                                  \n",
            " dense (Dense)                  (None, None, 10000)  2570000     ['lstm_3[0][0]']                 \n",
            "                                                                                                  \n",
            "==================================================================================================\n",
            "Total params: 8,249,104\n",
            "Trainable params: 8,249,104\n",
            "Non-trainable params: 0\n",
            "__________________________________________________________________________________________________\n"
          ]
        }
      ]
    },
    {
      "cell_type": "markdown",
      "source": [
        "#Step 3. 어텐션 메커니즘 사용하기 (추상적 요약)\n",
        "일반적인 seq2seq보다는 어텐션 메커니즘을 사용한 seq2seq를 사용하는 것이 더 나은 성능을 얻을 수 있어요. 실습 내용을 참고하여 어텐션 메커니즘을 사용한 seq2seq를 설계해 보세요."
      ],
      "metadata": {
        "id": "K_eqrjz0upkU"
      }
    },
    {
      "cell_type": "code",
      "source": [
        "from tensorflow.keras.layers import AdditiveAttention\n",
        "\n",
        "# 어텐션 층(어텐션 함수)\n",
        "attn_layer = AdditiveAttention(name='attention_layer')\n",
        "\n",
        "# 인코더와 디코더의 모든 time step의 hidden state를 어텐션 층에 전달하고 결과를 리턴\n",
        "attn_out = attn_layer([decoder_outputs, encoder_outputs])\n",
        "\n",
        "\n",
        "# 어텐션의 결과와 디코더의 hidden state들을 연결\n",
        "decoder_concat_input = Concatenate(axis=-1, name='concat_layer')([decoder_outputs, attn_out])\n",
        "\n",
        "# 디코더의 출력층\n",
        "decoder_softmax_layer = Dense(tar_vocab, activation='softmax')\n",
        "decoder_softmax_outputs = decoder_softmax_layer(decoder_concat_input)\n",
        "\n",
        "# 모델 정의\n",
        "model = Model([encoder_inputs, decoder_inputs], decoder_softmax_outputs)\n",
        "model.summary()"
      ],
      "metadata": {
        "colab": {
          "base_uri": "https://localhost:8080/"
        },
        "id": "RN_wMl3A3FTj",
        "outputId": "5ebc6f9d-ed02-4a98-d829-186186683efb"
      },
      "execution_count": null,
      "outputs": [
        {
          "output_type": "stream",
          "name": "stdout",
          "text": [
            "Model: \"model_1\"\n",
            "__________________________________________________________________________________________________\n",
            " Layer (type)                   Output Shape         Param #     Connected to                     \n",
            "==================================================================================================\n",
            " input_1 (InputLayer)           [(None, 40)]         0           []                               \n",
            "                                                                                                  \n",
            " embedding (Embedding)          (None, 40, 128)      2560000     ['input_1[0][0]']                \n",
            "                                                                                                  \n",
            " lstm (LSTM)                    [(None, 40, 256),    394240      ['embedding[0][0]']              \n",
            "                                 (None, 256),                                                     \n",
            "                                 (None, 256)]                                                     \n",
            "                                                                                                  \n",
            " input_2 (InputLayer)           [(None, None)]       0           []                               \n",
            "                                                                                                  \n",
            " lstm_1 (LSTM)                  [(None, 40, 256),    525312      ['lstm[0][0]']                   \n",
            "                                 (None, 256),                                                     \n",
            "                                 (None, 256)]                                                     \n",
            "                                                                                                  \n",
            " embedding_1 (Embedding)        (None, None, 128)    1280000     ['input_2[0][0]']                \n",
            "                                                                                                  \n",
            " lstm_2 (LSTM)                  [(None, 40, 256),    525312      ['lstm_1[0][0]']                 \n",
            "                                 (None, 256),                                                     \n",
            "                                 (None, 256)]                                                     \n",
            "                                                                                                  \n",
            " lstm_3 (LSTM)                  [(None, None, 256),  394240      ['embedding_1[0][0]',            \n",
            "                                 (None, 256),                     'lstm_2[0][1]',                 \n",
            "                                 (None, 256)]                     'lstm_2[0][2]']                 \n",
            "                                                                                                  \n",
            " attention_layer (AdditiveAtten  (None, None, 256)   256         ['lstm_3[0][0]',                 \n",
            " tion)                                                            'lstm_2[0][0]']                 \n",
            "                                                                                                  \n",
            " concat_layer (Concatenate)     (None, None, 512)    0           ['lstm_3[0][0]',                 \n",
            "                                                                  'attention_layer[0][0]']        \n",
            "                                                                                                  \n",
            " dense_1 (Dense)                (None, None, 10000)  5130000     ['concat_layer[0][0]']           \n",
            "                                                                                                  \n",
            "==================================================================================================\n",
            "Total params: 10,809,360\n",
            "Trainable params: 10,809,360\n",
            "Non-trainable params: 0\n",
            "__________________________________________________________________________________________________\n"
          ]
        }
      ]
    },
    {
      "cell_type": "code",
      "source": [
        "model.compile(optimizer='rmsprop', loss='sparse_categorical_crossentropy')\n",
        "es = EarlyStopping(monitor='val_loss', patience=2, verbose=1)\n",
        "history = model.fit(x=[encoder_input_train, decoder_input_train], y=decoder_target_train, \\\n",
        "          validation_data=([encoder_input_test, decoder_input_test], decoder_target_test), \\\n",
        "          batch_size=256, callbacks=[es], epochs=50)"
      ],
      "metadata": {
        "colab": {
          "base_uri": "https://localhost:8080/"
        },
        "id": "cvNs7A-L3Fdp",
        "outputId": "5494567a-d107-4dd9-f1a1-ae38cee0db7a"
      },
      "execution_count": null,
      "outputs": [
        {
          "output_type": "stream",
          "name": "stdout",
          "text": [
            "Epoch 1/50\n",
            "269/269 [==============================] - 35s 88ms/step - loss: 6.0419 - val_loss: 5.6372\n",
            "Epoch 2/50\n",
            "269/269 [==============================] - 23s 84ms/step - loss: 5.4723 - val_loss: 5.2331\n",
            "Epoch 3/50\n",
            "269/269 [==============================] - 23s 85ms/step - loss: 5.1175 - val_loss: 4.9812\n",
            "Epoch 4/50\n",
            "269/269 [==============================] - 23s 86ms/step - loss: 4.8462 - val_loss: 4.8002\n",
            "Epoch 5/50\n",
            "269/269 [==============================] - 23s 87ms/step - loss: 4.6228 - val_loss: 4.6295\n",
            "Epoch 6/50\n",
            "269/269 [==============================] - 24s 88ms/step - loss: 4.4366 - val_loss: 4.5306\n",
            "Epoch 7/50\n",
            "269/269 [==============================] - 24s 89ms/step - loss: 4.2724 - val_loss: 4.4311\n",
            "Epoch 8/50\n",
            "269/269 [==============================] - 24s 89ms/step - loss: 4.1305 - val_loss: 4.3508\n",
            "Epoch 9/50\n",
            "269/269 [==============================] - 24s 89ms/step - loss: 4.0031 - val_loss: 4.2781\n",
            "Epoch 10/50\n",
            "269/269 [==============================] - 24s 89ms/step - loss: 3.8901 - val_loss: 4.2190\n",
            "Epoch 11/50\n",
            "269/269 [==============================] - 24s 89ms/step - loss: 3.7874 - val_loss: 4.1814\n",
            "Epoch 12/50\n",
            "269/269 [==============================] - 24s 89ms/step - loss: 3.6937 - val_loss: 4.1409\n",
            "Epoch 13/50\n",
            "269/269 [==============================] - 24s 89ms/step - loss: 3.6029 - val_loss: 4.1147\n",
            "Epoch 14/50\n",
            "269/269 [==============================] - 24s 89ms/step - loss: 3.5237 - val_loss: 4.0941\n",
            "Epoch 15/50\n",
            "269/269 [==============================] - 24s 89ms/step - loss: 3.4505 - val_loss: 4.0709\n",
            "Epoch 16/50\n",
            "269/269 [==============================] - 24s 89ms/step - loss: 3.3847 - val_loss: 4.0549\n",
            "Epoch 17/50\n",
            "269/269 [==============================] - 24s 89ms/step - loss: 3.3215 - val_loss: 4.0364\n",
            "Epoch 18/50\n",
            "269/269 [==============================] - 24s 89ms/step - loss: 3.2604 - val_loss: 4.0330\n",
            "Epoch 19/50\n",
            "269/269 [==============================] - 24s 89ms/step - loss: 3.2015 - val_loss: 4.0243\n",
            "Epoch 20/50\n",
            "269/269 [==============================] - 24s 89ms/step - loss: 3.1486 - val_loss: 4.0189\n",
            "Epoch 21/50\n",
            "269/269 [==============================] - 24s 89ms/step - loss: 3.0959 - val_loss: 4.0190\n",
            "Epoch 22/50\n",
            "269/269 [==============================] - 24s 89ms/step - loss: 3.0510 - val_loss: 4.0118\n",
            "Epoch 23/50\n",
            "269/269 [==============================] - 24s 89ms/step - loss: 3.0048 - val_loss: 4.0017\n",
            "Epoch 24/50\n",
            "269/269 [==============================] - 24s 89ms/step - loss: 2.9608 - val_loss: 4.0094\n",
            "Epoch 25/50\n",
            "269/269 [==============================] - 24s 89ms/step - loss: 2.9192 - val_loss: 4.0057\n",
            "Epoch 25: early stopping\n"
          ]
        }
      ]
    },
    {
      "cell_type": "code",
      "source": [
        "plt.plot(history.history['loss'], label='train')\n",
        "plt.plot(history.history['val_loss'], label='test')\n",
        "plt.legend()\n",
        "plt.show()"
      ],
      "metadata": {
        "colab": {
          "base_uri": "https://localhost:8080/",
          "height": 265
        },
        "id": "1Cm_Fxlv3FY8",
        "outputId": "1681c49e-89b0-403d-d1bc-79b0ff38d7e6"
      },
      "execution_count": null,
      "outputs": [
        {
          "output_type": "display_data",
          "data": {
            "text/plain": [
              "<Figure size 432x288 with 1 Axes>"
            ],
            "image/png": "[encoded data removed]"
          },
          "metadata": {
            "needs_background": "light"
          }
        }
      ]
    },
    {
      "cell_type": "code",
      "source": [
        "src_index_to_word = src_tokenizer.index_word # 원문 단어 집합에서 정수 -> 단어를 얻음\n",
        "tar_word_to_index = tar_tokenizer.word_index # 요약 단어 집합에서 단어 -> 정수를 얻음\n",
        "tar_index_to_word = tar_tokenizer.index_word # 요약 단어 집합에서 정수 -> 단어를 얻음"
      ],
      "metadata": {
        "id": "9BWZoFFc3ZtW"
      },
      "execution_count": null,
      "outputs": []
    },
    {
      "cell_type": "code",
      "source": [
        "# 인코더 설계\n",
        "encoder_model = Model(inputs=encoder_inputs, outputs=[encoder_outputs, state_h, state_c])\n",
        "\n",
        "# 이전 시점의 상태들을 저장하는 텐서\n",
        "decoder_state_input_h = Input(shape=(hidden_size,))\n",
        "decoder_state_input_c = Input(shape=(hidden_size,))\n",
        "\n",
        "dec_emb2 = dec_emb_layer(decoder_inputs)\n",
        "\n",
        "# 문장의 다음 단어를 예측하기 위해서 초기 상태(initial_state)를 이전 시점의 상태로 사용. 이는 뒤의 함수 decode_sequence()에 구현\n",
        "# 훈련 과정에서와 달리 LSTM의 리턴하는 은닉 상태와 셀 상태인 state_h와 state_c를 버리지 않음.\n",
        "decoder_outputs2, state_h2, state_c2 = decoder_lstm(dec_emb2, initial_state=[decoder_state_input_h, decoder_state_input_c])"
      ],
      "metadata": {
        "id": "DYWh8ZF63ZrU"
      },
      "execution_count": null,
      "outputs": []
    },
    {
      "cell_type": "code",
      "source": [
        "# 어텐션 함수\n",
        "decoder_hidden_state_input = Input(shape=(text_max_len, hidden_size))\n",
        "attn_out_inf = attn_layer([decoder_outputs2, decoder_hidden_state_input])\n",
        "decoder_inf_concat = Concatenate(axis=-1, name='concat')([decoder_outputs2, attn_out_inf])\n",
        "\n",
        "# 디코더의 출력층\n",
        "decoder_outputs2 = decoder_softmax_layer(decoder_inf_concat) \n",
        "\n",
        "# 최종 디코더 모델\n",
        "decoder_model = Model(\n",
        "    [decoder_inputs] + [decoder_hidden_state_input,decoder_state_input_h, decoder_state_input_c],\n",
        "    [decoder_outputs2] + [state_h2, state_c2])"
      ],
      "metadata": {
        "id": "NUBkddnB3ZpM"
      },
      "execution_count": null,
      "outputs": []
    },
    {
      "cell_type": "code",
      "source": [
        "def decode_sequence(input_seq):\n",
        "    # 입력으로부터 인코더의 상태를 얻음\n",
        "    e_out, e_h, e_c = encoder_model.predict(input_seq)\n",
        "\n",
        "     # <SOS>에 해당하는 토큰 생성\n",
        "    target_seq = np.zeros((1,1))\n",
        "    target_seq[0, 0] = tar_word_to_index['sostoken']\n",
        "\n",
        "    stop_condition = False\n",
        "    decoded_sentence = ''\n",
        "    while not stop_condition: # stop_condition이 True가 될 때까지 루프 반복\n",
        "\n",
        "        output_tokens, h, c = decoder_model.predict([target_seq] + [e_out, e_h, e_c])\n",
        "        sampled_token_index = np.argmax(output_tokens[0, -1, :])\n",
        "        sampled_token = tar_index_to_word[sampled_token_index]\n",
        "\n",
        "        if (sampled_token!='eostoken'):\n",
        "            decoded_sentence += ' '+sampled_token\n",
        "\n",
        "        #  <eos>에 도달하거나 최대 길이를 넘으면 중단.\n",
        "        if (sampled_token == 'eostoken'  or len(decoded_sentence.split()) >= (headlines_max_len-1)):\n",
        "            stop_condition = True\n",
        "\n",
        "        # 길이가 1인 타겟 시퀀스를 업데이트\n",
        "        target_seq = np.zeros((1,1))\n",
        "        target_seq[0, 0] = sampled_token_index\n",
        "\n",
        "        # 상태를 업데이트 합니다.\n",
        "        e_h, e_c = h, c\n",
        "\n",
        "    return decoded_sentence"
      ],
      "metadata": {
        "id": "T_DguNii3Zm3"
      },
      "execution_count": null,
      "outputs": []
    },
    {
      "cell_type": "code",
      "source": [
        "# 원문의 정수 시퀀스를 텍스트 시퀀스로 변환\n",
        "def seq2text(input_seq):\n",
        "    temp=''\n",
        "    for i in input_seq:\n",
        "        if (i!=0):\n",
        "            temp = temp + src_index_to_word[i]+' '\n",
        "    return temp\n",
        "\n",
        "# 요약문의 정수 시퀀스를 텍스트 시퀀스로 변환\n",
        "def seq2summary(input_seq):\n",
        "    temp=''\n",
        "    for i in input_seq:\n",
        "        if ((i!=0 and i!=tar_word_to_index['sostoken']) and i!=tar_word_to_index['eostoken']):\n",
        "            temp = temp + tar_index_to_word[i] + ' '\n",
        "    return temp"
      ],
      "metadata": {
        "id": "wyTUH0j8V-dN"
      },
      "execution_count": null,
      "outputs": []
    },
    {
      "cell_type": "markdown",
      "source": [
        "#Step 4. 실제 결과와 요약문 비교하기 (추상적 요약)\n",
        "원래의 요약문(headlines 열)과 학습을 통해 얻은 추상적 요약의 결과를 비교해 보세요."
      ],
      "metadata": {
        "id": "LHuzic9yures"
      }
    },
    {
      "cell_type": "code",
      "source": [
        "for i in range(50, 100):\n",
        "    print(\"원문 :\", seq2text(encoder_input_test[i]))\n",
        "    print(\"실제 요약 :\", seq2summary(decoder_input_test[i]))\n",
        "    print(\"예측 요약 :\", decode_sequence(encoder_input_test[i].reshape(1, text_max_len)))\n",
        "    print(\"\\n\")"
      ],
      "metadata": {
        "colab": {
          "base_uri": "https://localhost:8080/"
        },
        "id": "-1aMWv9l3vIQ",
        "outputId": "285361f6-5e55-43e6-f477-bba2f8569242"
      },
      "execution_count": null,
      "outputs": [
        {
          "output_type": "stream",
          "name": "stdout",
          "text": [
            "원문 : denouncing us sanctions source growing north korea said would never beg us lift sanctions nothing us could get sanctions put added north korea said denuclearisation fruit grows trust building \n",
            "실제 요약 : will never the us to lift sanctions north korea \n",
            "예측 요약 :  us sanctions sanctions on korea\n",
            "\n",
            "\n",
            "원문 : bjp yeddyurappa resigned karnataka cm following speech mlas protem speaker kg bopaiah bjp seen leaving assembly national anthem visuals also showed house congress siddaramaiah shaking hands party leaders mlas also seen indulging anthem \n",
            "실제 요약 : taka mlas speaker leave assembly during national anthem \n",
            "예측 요약 :  cong mla wins from taka assembly polls\n",
            "\n",
            "\n",
            "원문 : jharkhand food minister rai saturday passed order stating mandatory link ration cards aadhaar numbers avail services public distribution system comes year old girl starved death family allegedly denied food ration card linked aadhaar number \n",
            "실제 요약 : khand recalls aadhaar linking after starvation death \n",
            "예측 요약 :  aadhaar not mandatory for aadhaar not aadhaar jawan\n",
            "\n",
            "\n",
            "원문 : government threatened philip morris punitive action tobacco giant alleged violation anti smoking laws comes reports suggested philip morris advertising cigarettes tobacco shops distributing free smokes young people promote brand government also sent letter itc using similar promotional tactics \n",
            "실제 요약 : maker faces action on free cigarettes to youngsters \n",
            "예측 요약 :  govt denies reports of illegal content in us\n",
            "\n",
            "\n",
            "원문 : world number croatian qualifier ousted seed indian wells masters last week miami open second round friday faced rain delays loss face czech third round tournament \n",
            "실제 요약 : world rank ousts indian wells women singles champ \n",
            "예측 요약 :  former federer to be auctioned for\n",
            "\n",
            "\n",
            "원문 : israel set offer manufacturing spike hand held fire forget anti tank guided missile india make india comes navy chief admiral sunil lanba also chairman chiefs staff committee four day visit israel sunday lanba visit understand regional security according reports \n",
            "실제 요약 : israel to offer fire forget missile under make in india \n",
            "예측 요약 :  israeli air force to build air india missile\n",
            "\n",
            "\n",
            "원문 : justice praveen kumar appointed acting chief justice andhra pradesh high court effect january earlier union law ministry issued order signed president ram nath kovind said andhra pradesh high court capital amaravati hyderabad high court shall become high court telangana \n",
            "실제 요약 : kumar appointed as chief justice of new andhra hc \n",
            "예측 요약 :  andhra pradesh passes bill to declare state assembly\n",
            "\n",
            "\n",
            "원문 : word announced cambridge dictionary word year dictionary defined political ideas activities intended get support ordinary people giving want said searches rose pope francis made statements warning rising tide \n",
            "실제 요약 : named cambridge dictionary word of the year \n",
            "예측 요약 :  oxford to be born as oxford university\n",
            "\n",
            "\n",
            "원문 : recalling india captain ms dhoni selection policy cb series gautam gambhir said massive shock dhoni declared cannot play sachin tendulkar virender sehwag together heard anyone told would never part world cup added \n",
            "실제 요약 : it was massive shock gambhir on dhoni selection policy \n",
            "예측 요약 :  dhoni has been not to play me sehwag\n",
            "\n",
            "\n",
            "원문 : france defeated two time champions uruguay friday reach fifa world cup semi finals first time since edition overall sixth time first time world cup history france defeated uruguay champions face winners match brazil belgium semi finals tuesday \n",
            "실제 요약 : france beat uruguay enter wc semis for st time in years \n",
            "예측 요약 :  belgium beat belgium to win world cup final\n",
            "\n",
            "\n",
            "원문 : current nuclear crisis korean peninsula could end scenario russian deputy foreign minister said hope regional community enough common sense prevent scenario becoming reality added also called dialogue us north korea prevent escalation crisis \n",
            "실제 요약 : korea crisis could lead to russian deputy fm \n",
            "예측 요약 :  korea not nuclear weapons than our nukes us\n",
            "\n",
            "\n",
            "원문 : following congress performance recent assembly polls northeast party president rahul gandhi said congress committed winning back trust people adding congress respects mandate people tripura nagaland meghalaya gandhi said sincere thanks every congress worker party \n",
            "실제 요약 : committed to winning back trust of northeast people rahul \n",
            "예측 요약 :  cong leaders rahul gandhi in front of bjp\n",
            "\n",
            "\n",
            "원문 : chinese smartphone maker xiaomi ceo lei said implemented india number one priority strategy headquarters need build products offer honest reasonable price indian customers like brand added said xiaomi focus energy india \n",
            "실제 요약 : india number one priority at china headquarters xiaomi ceo \n",
            "예측 요약 :  india is not an invest in india says xiaomi ceo\n",
            "\n",
            "\n",
            "원문 : biggest black holes universe growing faster rate stars formed galaxies according two separate studies using nasa chandra ray observatory hubble space telescope researchers found almost half black holes galaxies masses least billion times mass sun \n",
            "실제 요약 : black hole growth found to be faster than star formation \n",
            "예측 요약 :  planet einstein theory theory theory theory\n",
            "\n",
            "\n",
            "원문 : kerala forests minister raju thursday issued apology taking trip germany kerala floods saying timing trip ill timed wrong added returned four days time flood situation already control opposition section cpi demanded sacking \n",
            "실제 요약 : timing of my germany trip wrong kerala minister on floods \n",
            "예측 요약 :  kerala minister seeks probe into kerala floods\n",
            "\n",
            "\n",
            "원문 : least two people killed two injured car ran west delhi rajouri garden sunday police said accused arrested reportedly driving influence alcohol sleeping footpath car hit us one injured said \n",
            "실제 요약 : killed after car runs over them in delhi garden \n",
            "예측 요약 :  killed injured in car car in maharashtra\n",
            "\n",
            "\n",
            "원문 : bjp mp meenakshi claimed two women entered kerala sabarimala temple wednesday disguised transgenders women posing transgenders made enter temple devotees come day added accused kerala cm pinarayi vijayan converting state clash zone \n",
            "실제 요약 : women who entered sabarimala posed as transgenders bjp mp \n",
            "예측 요약 :  bjp women women entry sabarimala sabarimala\n",
            "\n",
            "\n",
            "원문 : afghanistan sunday celebrated th independence day president ashraf ghani laying independence pay tributes security forces lost lives afghanistan gained independence british empire leadership shah khan signing afghan treaty \n",
            "실제 요약 : afghanistan celebrates its th independence day \n",
            "예측 요약 :  afghan army celebrates its th anniversary\n",
            "\n",
            "\n",
            "원문 : opener rohit sharma become first india batsman smash five hundreds odi cricket australia achieving feat first odi australia sydney saturday overall hundred year old nd odis rohit hit four consecutive plus scores australia odi cricket \n",
            "실제 요약 : rohit sharma st indian to slam odi hundreds in australia \n",
            "예측 요약 :  rohit sharma scores runs in odi odis after years\n",
            "\n",
            "\n",
            "원문 : comparing russian counterpart vladimir putin siberian tiger south korean president moon jae said seems many spirit similar tiger adding name also means tiger moon said one could say share similar courage work together succeed everything \n",
            "실제 요약 : putin has the spirit of tiger korean prez \n",
            "예측 요약 :  putin was putin on us presidential war\n",
            "\n",
            "\n",
            "원문 : congress sunday said jammu kashmir witnessed normalcy tenure ex pm manmohan singh prime minister narendra modi policy failure disaster road map engaging pakistan said congress leader anand sharma singh tenure saw record arrival tourists kashmir today tourism added \n",
            "실제 요약 : witnessed under manmohan singh congress \n",
            "예측 요약 :  pm modi has been secret yashwant sinha\n",
            "\n",
            "\n",
            "원문 : ministry external affairs reportedly said received official communication confirmation uae regard extradition christian michel alleged middleman agustawestland scam according reports mea official also added accused right appeal extradition order \n",
            "실제 요약 : mea says no on michel extradition reports \n",
            "예측 요약 :  govt to probe into corruption in antigua\n",
            "\n",
            "\n",
            "원문 : income tax department launched facility allowing people correct errors pan aadhaar details links corrections available gov department filing website however people wanting update aadhaar details redirected aadhaar self service update portal scanned documents supporting changes uploaded \n",
            "실제 요약 : errors in aadhaar pan can now be online \n",
            "예측 요약 :  dept launches aadhaar based phone card over aadhaar linking\n",
            "\n",
            "\n",
            "원문 : retired sc judge chelameswar said closed door meeting run country supreme court judges must questioned chelameswar written former chief justice js khehar alleged proximity sitting sc judge andhra pradesh cm chandrababu naidu \n",
            "실제 요약 : question closed door meetings of politicians judges retd judge \n",
            "예측 요약 :  justice of judges not in justice case sc\n",
            "\n",
            "\n",
            "원문 : author aaron took twitter share picture resume created using google resume lists address live alone contact phone turn needed update cv google soon every job wrote twitter \n",
            "실제 요약 : man creates his resume using google \n",
            "예측 요약 :  twitter users turn into track video\n",
            "\n",
            "\n",
            "원문 : delhi police today arrested year old man accused beating former international powerlifter anil sharma delhi last week accused identified ashwini alias told police accused heated argument sharma attacked confessed unaware intensity sharma injuries \n",
            "실제 요약 : one arrested for attack on former int athlete in delhi \n",
            "예측 요약 :  delhi man arrested for molesting man in delhi\n",
            "\n",
            "\n",
            "원문 : hailing sufi saint symbol great spiritual traditions india pm narendra modi friday handed union minister mukhtar abbas naqvi offer nawaz service humanity would remain inspiration future generations stated pmo statement \n",
            "실제 요약 : pm modi hands over to be offered at ajmer dargah \n",
            "예측 요약 :  pm modi to pm modi for raping time\n",
            "\n",
            "\n",
            "원문 : least two persons died injured stampede took place chennai hall wednesday dmk chief karunanidhi mortal remains kept injured admitted rajiv gandhi government hospital one lakh people waiting outside hall get glimpse five time tamil nadu chief minister \n",
            "실제 요약 : dead in stampede as people pay last respects to karunanidhi \n",
            "예측 요약 :  injured as jayalalithaa died at jayalalithaa meet\n",
            "\n",
            "\n",
            "원문 : uk government monday announced decision move road tunnel constructed underneath metres protests archaeologists earlier concerns tunnel would affect view winter solstice important date calendar cost kilometre tunnel risen billion \n",
            "실제 요약 : cr planned tunnel to be moved \n",
            "예측 요약 :  spain to build new government\n",
            "\n",
            "\n",
            "원문 : year old man chopped sister law head hands hurting family honour bold lifestyle delhi rohini friday man objected sense dressing lack hesitation talking men suspected illicit relationships officials said accused surrendered claiming right thing \n",
            "실제 요약 : delhi man sister in law for hurting family honour \n",
            "예측 요약 :  man refuses to marry man who killed her\n",
            "\n",
            "\n",
            "원문 : twitter sold public data access aleksandr leaked facebook users data british firm cambridge analytica microblogging platform confirmed research firm global science research access data single day company said however twitter find access private information conducting internal review \n",
            "실제 요약 : twitter sold data access to researcher behind facebook leak \n",
            "예측 요약 :  facebook to be used to data data data scandal\n",
            "\n",
            "\n",
            "원문 : sonam kapoor said since currently shooting akshay kumar double celebration national award wins added national awards genuine kicked akshay first national award named best actor rustom airlift sonam got special mention neerja \n",
            "실제 요약 : double celebrations for akshay and me sonam on tnl award \n",
            "예측 요약 :  was best to be part of sonam kapoor\n",
            "\n",
            "\n",
            "원문 : raveena tandon talking twinkle khanna said friends know industry meet regularly earlier twinkle joked almost dropped social entrepreneur arunachalam muruganantham biopic first production venture thought looked like raveena twinkle husband akshay kumar raveena dated \n",
            "실제 요약 : we are friends we meet raveena on twinkle \n",
            "예측 요약 :  twinkle khanna is twinkle khanna\n",
            "\n",
            "\n",
            "원문 : samsung electronics ceo oh apologised shareholders fires galaxy note smartphones said failure arose trying new technology following explosions samsung kill flagship smartphone cost company billion damages samsung investigation revealed two battery issues caused explosions phone \n",
            "실제 요약 : note was failure that from trying new tech samsung \n",
            "예측 요약 :  samsung co founder reveals why he is the the last\n",
            "\n",
            "\n",
            "원문 : whatsapp released feature beta allows users download deleted media images videos voice messages documents servers allows android beta users download files whatsapp chats previously files downloaded stored whatsapp servers days deleted downloaded \n",
            "실제 요약 : whatsapp to allow users to download deleted photos videos \n",
            "예측 요약 :  whatsapp to delete whatsapp group for texts\n",
            "\n",
            "\n",
            "원문 : researchers using google artificial intelligence nasa kepler space telescope found eighth planet around sun like star making first tie solar system number planets ai trained look changes star brightness suggests planet passing front find previously missed planet \n",
            "실제 요약 : nasa uses google ai to find solar system with planets \n",
            "예측 요약 :  nasa shares images of moon planet planet\n",
            "\n",
            "\n",
            "원문 : bjp lok sabha member varun gandhi monday pledged crore mp development fund build child care facility said raise additional grant crore hospital donations collections corporate social responsibility human tragedy gorakhpur left added \n",
            "실제 요약 : varun gandhi to build kids hospital after gorakhpur tragedy \n",
            "예측 요약 :  cr cr in mp jobs to be made cr\n",
            "\n",
            "\n",
            "원문 : canadian couple lottery third time splitting million jackpot another ticket holder couple douglas barbara previously lottery couple whose recent jackpot largest plan spend family new house travelling \n",
            "실제 요약 : canadian couple wins lottery for the third time \n",
            "예측 요약 :  lottery winner sold for crore lottery\n",
            "\n",
            "\n",
            "원문 : union minister dharmendra pradhan sunday said prime minister narendra modi inaugurate new campus iit bhubaneswar december added pm also lay foundation stone inaugurate several development projects odisha said pm release commemorative coin stamp memory rebellion \n",
            "실제 요약 : pm to inaugurate iit new campus in dec minister \n",
            "예측 요약 :  pm modi to make pm modi for yrs\n",
            "\n",
            "\n",
            "원문 : actress priyanka chopra said dna feel insecure success actors added secure work believe enough work everyone priyanka said wants best version entertainer nn \n",
            "실제 요약 : not in my dna to be insecure with others success priyanka \n",
            "예측 요약 :  priyanka is the most successful actor\n",
            "\n",
            "\n",
            "원문 : indian council medical research said canine virus responsible death five asiatic lions gujarat gir forest since september virus led death total lion population east africa imported shots vaccine us \n",
            "실제 요약 : lions in gir dying of virus \n",
            "예측 요약 :  die in west bengal since\n",
            "\n",
            "\n",
            "원문 : hyderabad ibrahim khaleel broke record dismissals wicketkeeper first class match effected assam guwahati ranji trophy plate league november khaleel unaware record match surpassed record zimbabwe wayne james effected dismissals season \n",
            "실제 요약 : an indian keeper once dismissals in fc game \n",
            "예측 요약 :  scores hat trick goal with pl goal in delhi\n",
            "\n",
            "\n",
            "원문 : ex manchester united england captain wayne rooney arrested us december public swearing airport virginia year old currently plays major league soccer side dc united later released personal bond according court documents rooney paid fine costs january \n",
            "실제 요약 : rooney arrested in us in december for public swearing \n",
            "예측 요약 :  former footballer arrested for assaulting man in mumbai\n",
            "\n",
            "\n",
            "원문 : american automaker tesla reported loss around million fourth quarter biggest ever quarterly loss however tesla also posted year year increase revenue billion fiscal year company also revealed cash balance billion entering first quarter \n",
            "실제 요약 : tesla posts biggest quarterly loss despite revenue rise \n",
            "예측 요약 :  tesla posts biggest loss of billion in days\n",
            "\n",
            "\n",
            "원문 : speaking controversy surrounding upcoming film kedarnath director abhishek kapoor sara ali khan said attached project thank god things worked end sara added earlier producers filed lawsuit kapoor saying delayed shooting caused monetary loss \n",
            "실제 요약 : it was sara on kedarnath production controversy \n",
            "예측 요약 :  sara is not an film on sara debut film maker\n",
            "\n",
            "\n",
            "원문 : union minister dharmendra pradhan tuesday said pakistan country indian forces give reply adding pakistan country deserves friendly relations country pradhan said people want talks initially honesty pakistan crossing limits \n",
            "실제 요약 : pakistan is country union minister pradhan \n",
            "예측 요약 :  indian army has been not indian pakistanis sushma\n",
            "\n",
            "\n",
            "원문 : uk prime minister theresa may inducted rishi indian origin lawmaker son law infosys co founder narayana murthy government year old appointed parliamentary secretary state ministry housing communities local government married murthy classmate stanford business school \n",
            "실제 요약 : narayana murthy son in law inducted into uk govt \n",
            "예측 요약 :  uk pm may resign as woman who probed her\n",
            "\n",
            "\n",
            "원문 : russian defence ministry friday revealed us spy plane intercepted russian fighter jet black sea may marked annual victory day celebrations russian pilot reportedly greeted us pilots special manoeuvre us plane changed course away russian border \n",
            "실제 요약 : russian jet us spy plane on victory day \n",
            "예측 요약 :  us military plane with russian fighter jets\n",
            "\n",
            "\n",
            "원문 : year old found hut cape one oldest buildings antarctica new zealand based antarctic heritage trust said excellent condition smells almost edible wrapped paper likely brought british explorer robert falcon scott expedition \n",
            "실제 요약 : year old found in antarctica \n",
            "예측 요약 :  year old human tomb found in germany\n",
            "\n",
            "\n",
            "원문 : disaster management team municipal body recovered two unidentified bodies river maharashtra kalyan dombivli saturday amid heavy rainfall year old died five year old injured electrocuted ghatkopar trains operating central western railway lines delayed minutes due heavy rains \n",
            "실제 요약 : bodies recovered from maharashtra river amid heavy rains \n",
            "예측 요약 :  kids rescued after cyclone gaja collapses in tamil nadu\n",
            "\n",
            "\n"
          ]
        }
      ]
    },
    {
      "cell_type": "markdown",
      "source": [
        "#Step 5. Summa을 이용해서 추출적 요약해보기\n",
        "추상적 요약은 추출적 요약과는 달리 문장의 표현력을 다양하게 가져갈 수 있지만, 추출적 요약에 비해서 난이도가 높아요. 반대로 말하면 추출적 요약은 추상적 요약에 비해 난이도가 낮고 기존 문장에서 문장을 꺼내오는 것이므로 잘못된 요약이 나올 가능성이 낮아요.\n",
        "\n",
        "Summa의 summarize를 사용하여 추출적 요약을 해보세요."
      ],
      "metadata": {
        "id": "xG414BvoutdQ"
      }
    },
    {
      "cell_type": "code",
      "source": [
        "import requests\n",
        "from summa.summarizer import summarize"
      ],
      "metadata": {
        "id": "hG4vbbB-3vAH"
      },
      "execution_count": null,
      "outputs": []
    },
    {
      "cell_type": "code",
      "source": [
        "text = requests.get('http://rare-technologies.com/the_matrix_synopsis.txt').text"
      ],
      "metadata": {
        "id": "ytK_xmrj3516"
      },
      "execution_count": null,
      "outputs": []
    },
    {
      "cell_type": "code",
      "source": [
        "print(text[:1500])"
      ],
      "metadata": {
        "colab": {
          "base_uri": "https://localhost:8080/"
        },
        "id": "OfXeSw-O356Y",
        "outputId": "3dbd5966-16fe-46b1-cb38-923b4b691b98"
      },
      "execution_count": null,
      "outputs": [
        {
          "output_type": "stream",
          "name": "stdout",
          "text": [
            "The screen is filled with green, cascading code which gives way to the title, The Matrix.\r\n",
            "\r\n",
            "A phone rings and text appears on the screen: \"Call trans opt: received. 2-19-98 13:24:18 REC: Log>\" As a conversation takes place between Trinity (Carrie-Anne Moss) and Cypher (Joe Pantoliano), two free humans, a table of random green numbers are being scanned and individual numbers selected, creating a series of digits not unlike an ordinary phone number, as if a code is being deciphered or a call is being traced.\r\n",
            "\r\n",
            "Trinity discusses some unknown person. Cypher taunts Trinity, suggesting she enjoys watching him. Trinity counters that \"Morpheus (Laurence Fishburne) says he may be 'the One',\" just as the sound of a number being selected alerts Trinity that someone may be tracing their call. She ends the call.\r\n",
            "\r\n",
            "Armed policemen move down a darkened, decrepit hallway in the Heart O' the City Hotel, their flashlight beam bouncing just ahead of them. They come to room 303, kick down the door and find a woman dressed in black, facing away from them. It's Trinity. She brings her hands up from the laptop she's working on at their command.\r\n",
            "\r\n",
            "Outside the hotel a car drives up and three agents appear in neatly pressed black suits. They are Agent Smith (Hugo Weaving), Agent Brown (Paul Goddard), and Agent Jones (Robert Taylor). Agent Smith and the presiding police lieutenant argue. Agent Smith admonishes the policeman that they were given specific orders to contact the agents first, for their\n"
          ]
        }
      ]
    },
    {
      "cell_type": "code",
      "source": [
        "print('Summary:')\n",
        "print(summarize(text, ratio=0.005))"
      ],
      "metadata": {
        "colab": {
          "base_uri": "https://localhost:8080/"
        },
        "id": "dyqNtTte4E8m",
        "outputId": "a7c98942-d4d2-4be2-8fba-1d2f67b5e62c"
      },
      "execution_count": null,
      "outputs": [
        {
          "output_type": "stream",
          "name": "stdout",
          "text": [
            "Summary:\n",
            "Morpheus, Trinity, Neo, Apoc, Switch, Mouse and Cypher are jacked into the Matrix.\n",
            "Trinity brings the helicopter down to the floor that Morpheus is on and Neo opens fire on the three Agents.\n"
          ]
        }
      ]
    },
    {
      "cell_type": "code",
      "source": [
        "print('Summary:')\n",
        "print(summarize(text, ratio=0.005, split=True))"
      ],
      "metadata": {
        "colab": {
          "base_uri": "https://localhost:8080/"
        },
        "id": "Lhjmn_th4E44",
        "outputId": "59161828-9cd1-4f9b-abac-0bb858ab84c1"
      },
      "execution_count": null,
      "outputs": [
        {
          "output_type": "stream",
          "name": "stdout",
          "text": [
            "Summary:\n",
            "['Morpheus, Trinity, Neo, Apoc, Switch, Mouse and Cypher are jacked into the Matrix.', 'Trinity brings the helicopter down to the floor that Morpheus is on and Neo opens fire on the three Agents.']\n"
          ]
        }
      ]
    },
    {
      "cell_type": "code",
      "source": [
        "print('Summary:')\n",
        "print(summarize(text, words=50))"
      ],
      "metadata": {
        "colab": {
          "base_uri": "https://localhost:8080/"
        },
        "id": "jllhJufu4E2U",
        "outputId": "21b5cea7-f61a-4546-a780-ba4c674573f1"
      },
      "execution_count": null,
      "outputs": [
        {
          "output_type": "stream",
          "name": "stdout",
          "text": [
            "Summary:\n",
            "Trinity takes Neo to Morpheus.\n",
            "Morpheus, Trinity, Neo, Apoc, Switch, Mouse and Cypher are jacked into the Matrix.\n",
            "Trinity brings the helicopter down to the floor that Morpheus is on and Neo opens fire on the three Agents.\n"
          ]
        }
      ]
    },
    {
      "cell_type": "markdown",
      "source": [
        "#결론\n",
        "\n",
        "이번 프로젝트에서는 뉴스 기사 데이터를 이용하여 뉴스 요약봇을 만드는 작업을 진행하였습니다.\n",
        "\n",
        "LMS에서 배운 전처리대로 데이터 전처리를 진행하였습니다.\n",
        "\n",
        "일반 seq2seq가 아닌 어텐션 메커니즘을 사용한 seq2seq를 진행하였습니다.\n",
        "\n",
        "그리고 실제결과와 (추상적요약) 요약문을 비교하여 잘 요약되었는지도 확인해보았습니다.\n",
        "\n",
        "마지막으로 Summa를 이용히여 추출적요약까지 출력해보는 과정을 진행해보았습니다.\n"
      ],
      "metadata": {
        "id": "-ziHx5Tduxzo"
      }
    },
    {
      "cell_type": "markdown",
      "source": [
        "# 회고\n",
        "\n",
        "---\n",
        "\n",
        "\n",
        "\n",
        "## - 이번 프로젝트에서 어려웠던 점\n",
        "어텐션 메커니즘의 이해가 어려웠고 아직까지 인코딩 디코딩의 개념이 명확하게 잡히지 않은 것 같아 코드를 볼 때도 이해가 쉽지 않았습니다.\n",
        "\n",
        "\n",
        "\n",
        "---\n",
        "\n",
        "\n",
        "## - 프로젝트를 진행하면서 알게된 점\n",
        "텍스트 정규화와 불용어 제거를 저렇게 하나하나 지정해줘서 없애야 한다는 것을 알았고, 문장요약들을 보면 전체적으로 첫 번째 단어는 잘 맞추지만 뒤로 갈수록 단어가 달라지는 경향을 보아 뒤로 갈 수록 예측률이 급격하게 떨어지는 것을 알 수 있었습니다.\n",
        "\n",
        "\n",
        "\n",
        "---\n",
        "\n",
        "\n",
        "## - 루브릭 평가지표를 맞추기 위해 시도한 것들\n",
        "불용어 제거파트에 오타를 수정해서 다시 돌려보았습니다.\n",
        "\n",
        "모델을 만져보았는데 아직 개념이 잘 안잡혀서 그런지 학습시간만 늘고 큰 변화는 없었습니다.\n",
        "\n",
        "마지막으로 그래프를 보고 max_len의 값을 조절해보았습니다.\n",
        "\n",
        "---\n",
        "\n",
        "\n",
        "## - 자기다짐\n",
        "자연어처리를 진행할 때 전처리부분이 쉽지 않았는데 기본적인 컬럼추출이나 정규표현식 불용어제거 등 기본적인 지식들은 따로 추가적인 공부를 해야겠다고 다짐했습니다.\n",
        "\n",
        "\n",
        "\n"
      ],
      "metadata": {
        "id": "FbAECzyFuxve"
      }
    }
  ]
}